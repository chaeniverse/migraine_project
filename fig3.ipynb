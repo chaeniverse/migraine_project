{
 "cells": [
  {
   "cell_type": "markdown",
   "id": "2ab026e3",
   "metadata": {},
   "source": [
    "### we will compute the correlation with between-group differences in cortical eigenvectors and neurotransmitter distributions"
   ]
  },
  {
   "cell_type": "code",
   "execution_count": null,
   "id": "fb968f56",
   "metadata": {
    "ExecuteTime": {
     "end_time": "2022-08-11T07:03:30.632383Z",
     "start_time": "2022-08-11T07:03:30.624400Z"
    }
   },
   "outputs": [],
   "source": [
    "import os\n",
    "import matplotlib.pyplot as plt\n",
    "\n",
    "from brainspace.datasets import load_group_fc, load_parcellation, load_conte69\n",
    "from enigmatoolbox.permutation_testing import spin_test\n",
    "\n",
    "from scipy import io\n",
    "\n",
    "import numpy as np\n",
    "import matplotlib.pylab as plt\n",
    "import scipy.io\n",
    "import re\n",
    "\n",
    "import pandas as pd\n",
    "from scipy.stats import pearsonr"
   ]
  },
  {
   "cell_type": "code",
   "execution_count": null,
   "id": "3078e2a0",
   "metadata": {
    "ExecuteTime": {
     "start_time": "2022-08-11T07:03:31.801Z"
    }
   },
   "outputs": [],
   "source": [
    "from statsmodels.stats.multitest import fdrcorrection\n",
    "import sys\n",
    "mod = sys.modules[__name__]"
   ]
  },
  {
   "cell_type": "code",
   "execution_count": null,
   "id": "1a076043",
   "metadata": {
    "ExecuteTime": {
     "end_time": "2022-08-11T07:03:30.882460Z",
     "start_time": "2022-08-11T07:03:30.802326Z"
    }
   },
   "outputs": [],
   "source": [
    "mat_file_name = \"./data/receptor.mat\"\n",
    "mat_file = scipy.io.loadmat(mat_file_name)"
   ]
  },
  {
   "cell_type": "code",
   "execution_count": null,
   "id": "c09bc2dc",
   "metadata": {
    "ExecuteTime": {
     "end_time": "2022-08-11T07:03:30.961338Z",
     "start_time": "2022-08-11T07:03:30.949401Z"
    }
   },
   "outputs": [],
   "source": [
    "receptor = mat_file['receptor']['data_schaefer200'][0][0]\n",
    "ctx_tval = pd.read_csv('./fig1/total_t_value.csv',header=None)\n",
    "receptor = receptor.T\n",
    "ctx_tval = np.array((ctx_tval))\n",
    "ctx_tval = ctx_tval.reshape(-1)"
   ]
  },
  {
   "cell_type": "code",
   "execution_count": null,
   "id": "ae6c6d3f",
   "metadata": {
    "ExecuteTime": {
     "end_time": "2022-08-11T07:03:31.135154Z",
     "start_time": "2022-08-11T07:03:31.124217Z"
    }
   },
   "outputs": [],
   "source": [
    "rval = []\n",
    "for i in range(0,18+1):\n",
    "    rval.append(pearsonr(ctx_tval, receptor[:,i])[0])"
   ]
  },
  {
   "cell_type": "code",
   "execution_count": null,
   "id": "936358d6",
   "metadata": {
    "ExecuteTime": {
     "end_time": "2022-08-11T07:03:31.325613Z",
     "start_time": "2022-08-11T07:03:31.308666Z"
    }
   },
   "outputs": [],
   "source": [
    "names = mat_file['receptor']['name'][0][0]\n",
    "\n",
    "receptor_name = []\n",
    "for i in range(len(names)):\n",
    "    receptor_name.append(names[i][0][0])"
   ]
  },
  {
   "cell_type": "markdown",
   "id": "7c853d76",
   "metadata": {},
   "source": [
    "### perform spin permutation test"
   ]
  },
  {
   "cell_type": "code",
   "execution_count": null,
   "id": "e43c2a00",
   "metadata": {
    "ExecuteTime": {
     "start_time": "2022-08-11T07:03:31.630Z"
    }
   },
   "outputs": [],
   "source": [
    "for trial in range(1,100+1):\n",
    "    print('\\033[1m' + f'{i}th trial' + '\\033[0m')\n",
    "    per_p_list = []\n",
    "    for i in range(0,18+1):\n",
    "        ctx_pet_p, ctx_pet_d = spin_test(ctx_tval,receptor[:,i], surface_name='fsa5', parcellation_name='schaefer_200',\n",
    "                                         type='pearson', n_rot=1000, null_dist=True)\n",
    "        per_p_list.append(ctx_pet_p)\n",
    "        globals()['tval{}_{}'.format(trial,str(i+1))] = ctx_pet_d\n",
    "\n",
    "    per_p_list = np.array((per_p_list))\n",
    "    globals()['per_p_list{}'.format(trial)] = per_p_list"
   ]
  },
  {
   "cell_type": "code",
   "execution_count": null,
   "id": "f022cfde",
   "metadata": {
    "ExecuteTime": {
     "start_time": "2022-08-11T07:03:31.980Z"
    }
   },
   "outputs": [],
   "source": [
    "for i in range(1,100+1):\n",
    "    per_p_list = getattr(mod,'per_p_list{}'.format(i))\n",
    "    fdr_perm_p = fdrcorrection(per_p_list)[1]\n",
    "    globals()['fdr_perm_p{}'.format(i)] = fdr_perm_p"
   ]
  },
  {
   "cell_type": "code",
   "execution_count": null,
   "id": "ff50a811",
   "metadata": {
    "ExecuteTime": {
     "start_time": "2022-08-11T07:03:32.153Z"
    }
   },
   "outputs": [],
   "source": [
    "receptor_name = np.array((receptor_name))"
   ]
  },
  {
   "cell_type": "markdown",
   "id": "6309d9db",
   "metadata": {},
   "source": [
    "we get the values based on p-value < 0.055"
   ]
  },
  {
   "cell_type": "code",
   "execution_count": null,
   "id": "d6f59f8e",
   "metadata": {
    "ExecuteTime": {
     "start_time": "2022-08-11T07:03:32.523Z"
    }
   },
   "outputs": [],
   "source": [
    "for i in range(1,100+1):\n",
    "    fdr_perm_p = getattr(mod,'fdr_perm_p{}'.format(i))\n",
    "    per_sig_idx = np.where(fdr_perm_p < 0.055)\n",
    "    per_sig_val = receptor_name[per_sig_idx]\n",
    "    globals()['per_sig_val{}'.format(i)] = per_sig_val"
   ]
  },
  {
   "cell_type": "code",
   "execution_count": null,
   "id": "5a5c29d2",
   "metadata": {
    "ExecuteTime": {
     "start_time": "2022-08-11T07:03:32.679Z"
    }
   },
   "outputs": [],
   "source": [
    "for i in range(1,100+1):\n",
    "    fdr_perm_p = getattr(mod,'fdr_perm_p{}'.format(i))\n",
    "    dat = pd.DataFrame([x for x in zip(rval,fdr_perm_p)]).T\n",
    "    dat.columns = [i for i in receptor_name]\n",
    "    dat.index = ['r_val','p_val']\n",
    "    dat = np.round(dat,2)\n",
    "    globals()['dat{}'.format(i)] = dat"
   ]
  },
  {
   "cell_type": "markdown",
   "id": "3ab24209",
   "metadata": {},
   "source": [
    "the results during the 100 trials are saved as csv files as follows"
   ]
  },
  {
   "cell_type": "code",
   "execution_count": null,
   "id": "48ca2567",
   "metadata": {
    "ExecuteTime": {
     "start_time": "2022-08-11T07:03:32.837Z"
    }
   },
   "outputs": [],
   "source": [
    "# for i in range(1,100+1):\n",
    "#     dat = getattr(mod, 'dat{}'.format(i))\n",
    "#     dat.to_csv('./fig3/permutation_result/dat{}.csv'.format(i))"
   ]
  },
  {
   "cell_type": "markdown",
   "id": "69722510",
   "metadata": {},
   "source": [
    "we will find which of the 100 trials has a significant value"
   ]
  },
  {
   "cell_type": "code",
   "execution_count": null,
   "id": "cb39751c",
   "metadata": {
    "ExecuteTime": {
     "start_time": "2022-08-11T07:03:33.194Z"
    }
   },
   "outputs": [],
   "source": [
    "per_sig_all = np.array(())\n",
    "for i in range(1,100+1):\n",
    "    per_sig_val = getattr(mod, 'per_sig_val{}'.format(i))\n",
    "    per_sig_all = np.concatenate([per_sig_all,per_sig_val])"
   ]
  },
  {
   "cell_type": "code",
   "execution_count": null,
   "id": "d97ab422",
   "metadata": {
    "ExecuteTime": {
     "start_time": "2022-08-11T07:03:33.367Z"
    }
   },
   "outputs": [],
   "source": [
    "per_sig_all = np.unique(per_sig_all, return_counts=True)\n",
    "sig_table = pd.DataFrame([x for x in zip(per_sig_all[0],per_sig_all[1])]).T\n",
    "#     tmp.columns = [i for i in receptor_name]\n",
    "#     tmp.index = ['r_val','p_val']\n",
    "sig_table = np.round(sig_table,2)"
   ]
  },
  {
   "cell_type": "code",
   "execution_count": null,
   "id": "e3c9a362",
   "metadata": {
    "ExecuteTime": {
     "start_time": "2022-08-11T07:03:33.557Z"
    }
   },
   "outputs": [],
   "source": [
    "sig_table"
   ]
  },
  {
   "cell_type": "markdown",
   "id": "1dc01c8d",
   "metadata": {},
   "source": [
    "> As a result of the above, it was found that the 5HT6, A4B2, CB1, H3, M1, MOR, NMDA, mGluR5 were significant under p-value < 0.05."
   ]
  },
  {
   "cell_type": "markdown",
   "id": "c6fa0948",
   "metadata": {},
   "source": [
    "Determine the p-value that has the highest frequency out of 100 times as the probability of the final p-value of the corresponding r-value"
   ]
  },
  {
   "cell_type": "code",
   "execution_count": null,
   "id": "e6c7e063",
   "metadata": {
    "ExecuteTime": {
     "start_time": "2022-08-11T07:03:35.738Z"
    }
   },
   "outputs": [],
   "source": [
    "final_pval_list = []\n",
    "for i in range(0,18+1):\n",
    "    neuro_list = []\n",
    "    for j in range(1,100+1):\n",
    "        dat = getattr(mod,'dat{}'.format(j))\n",
    "        neuro = dat.T.iloc[i,1]\n",
    "        neuro_list.append(neuro)\n",
    "    neuro_list = np.array(neuro_list)\n",
    "    neuro_pval = np.unique(neuro_list, return_counts=True)[0]\n",
    "    neuro_num = np.unique(neuro_list, return_counts=True)[1]\n",
    "    final_pval = neuro_pval[np.argmax(neuro_num)]\n",
    "    final_pval_list.append(final_pval)\n",
    "final_pval_list = np.array(final_pval_list)"
   ]
  },
  {
   "cell_type": "code",
   "execution_count": null,
   "id": "6112aec2",
   "metadata": {
    "ExecuteTime": {
     "start_time": "2022-08-11T07:03:35.910Z"
    }
   },
   "outputs": [],
   "source": [
    "dat_final = pd.DataFrame([x for x in zip(rval,final_pval_list)]).T\n",
    "dat_final.columns = [i for i in receptor_name]\n",
    "dat_final.index = ['r_val','p_val']\n",
    "dat_final = np.round(dat_final,2)"
   ]
  },
  {
   "cell_type": "markdown",
   "id": "d0027e17",
   "metadata": {},
   "source": [
    "save the above result as a csv file"
   ]
  },
  {
   "cell_type": "code",
   "execution_count": null,
   "id": "cef3798e",
   "metadata": {
    "ExecuteTime": {
     "start_time": "2022-08-11T07:03:36.273Z"
    }
   },
   "outputs": [],
   "source": [
    "dat_final.to_csv('./fig3/permutation_result/final_dat.csv')"
   ]
  },
  {
   "cell_type": "markdown",
   "id": "e7f9c093",
   "metadata": {},
   "source": [
    "- this is final r-value and p-value"
   ]
  },
  {
   "cell_type": "code",
   "execution_count": null,
   "id": "50e9f594",
   "metadata": {
    "ExecuteTime": {
     "start_time": "2022-08-11T07:03:36.638Z"
    }
   },
   "outputs": [],
   "source": [
    "dat_final"
   ]
  },
  {
   "cell_type": "markdown",
   "id": "6a63dacc",
   "metadata": {},
   "source": [
    "- import data_final and reorder receptors and transporters"
   ]
  },
  {
   "cell_type": "code",
   "execution_count": null,
   "id": "e16bf6a9",
   "metadata": {
    "ExecuteTime": {
     "start_time": "2022-08-11T07:03:37.084Z"
    }
   },
   "outputs": [],
   "source": [
    "dat_final = pd.read_csv('./fig3/permutation_result/final_dat.csv',index_col=0)"
   ]
  },
  {
   "cell_type": "code",
   "execution_count": null,
   "id": "d91270ca",
   "metadata": {
    "ExecuteTime": {
     "start_time": "2022-08-11T07:03:37.272Z"
    }
   },
   "outputs": [],
   "source": [
    "dat_final = dat_final.iloc[:,[8,9,10,16,0,1,2,3,4,5,6,13,18,17,14,11,12,7,15]]"
   ]
  },
  {
   "cell_type": "markdown",
   "id": "14bbd3fb",
   "metadata": {},
   "source": [
    "### receptor barh plot"
   ]
  },
  {
   "cell_type": "code",
   "execution_count": null,
   "id": "dcc7705e",
   "metadata": {
    "ExecuteTime": {
     "start_time": "2022-08-11T07:03:37.640Z"
    }
   },
   "outputs": [],
   "source": [
    "colors = np.repeat(np.array(['blue','red','blue','red','blue','red','blue','red','blue']),[2,1,3,2,1,1,5,1,3],axis=0)"
   ]
  },
  {
   "cell_type": "code",
   "execution_count": null,
   "id": "50ea0672",
   "metadata": {
    "ExecuteTime": {
     "start_time": "2022-08-11T07:03:37.820Z"
    }
   },
   "outputs": [],
   "source": [
    "dat_final_r = dat_final.iloc[:,::-1]"
   ]
  },
  {
   "cell_type": "code",
   "execution_count": null,
   "id": "53a33545",
   "metadata": {
    "ExecuteTime": {
     "start_time": "2022-08-11T07:03:38.000Z"
    },
    "scrolled": true
   },
   "outputs": [],
   "source": [
    "fig = plt.figure(figsize=(10,25))\n",
    "ax = fig.add_axes([0.1,0.1,0.8,0.8])\n",
    "plt.barh(dat_final_r.columns, dat_final_r.iloc[0], height=0.2, color=colors[::-1],alpha=0.5)# plt.yticks(y, years)\n",
    "\n",
    "plt.gca().spines['top'].set_visible(False)\n",
    "plt.gca().spines['left'].set_visible(False)\n",
    "plt.gca().spines['right'].set_visible(False)\n",
    "\n",
    "# plt.gca().axes.get_yaxis().set_visible(False)\n",
    "# plt.axis('off')\n",
    "\n",
    "ax.set_xticks([-0.3, -0.2, -0.1, 0, 0.1, 0.2])\n",
    "# ax.set_xticklabels(['', '', '', '', '', ''])\n",
    "\n",
    "ax.tick_params(axis='x', direction='in',length=6)\n",
    "\n",
    "# plt.savefig('./fig3/receptor_barh.png')"
   ]
  },
  {
   "cell_type": "markdown",
   "id": "936a4d68",
   "metadata": {},
   "source": [
    "- draw a receptor atlas next to the neurotransmitter distribution barh plot"
   ]
  },
  {
   "cell_type": "code",
   "execution_count": null,
   "id": "1750fb3b",
   "metadata": {
    "ExecuteTime": {
     "start_time": "2022-08-11T07:03:38.346Z"
    }
   },
   "outputs": [],
   "source": [
    "from brainspace.datasets import load_group_fc, load_parcellation, load_conte69\n",
    "from brainspace.gradient import GradientMaps\n",
    "from brainspace.plotting import plot_hemispheres\n",
    "from brainspace.utils.parcellation import map_to_labels\n",
    "\n",
    "labeling = load_parcellation('schaefer', scale=200, join=True)\n",
    "mask = labeling != 0\n",
    "\n",
    "# schaefer200 기준으로 labeling과 mask를 생성\n",
    "\n",
    "surf_lh, surf_rh = load_conte69()"
   ]
  },
  {
   "cell_type": "markdown",
   "id": "296a3595",
   "metadata": {},
   "source": [
    "- receptor/transceptor atlas"
   ]
  },
  {
   "cell_type": "code",
   "execution_count": null,
   "id": "eddb1b95",
   "metadata": {
    "ExecuteTime": {
     "start_time": "2022-08-11T07:03:38.691Z"
    }
   },
   "outputs": [],
   "source": [
    "for i in range(0,18+1):\n",
    "    data = [None]*1\n",
    "    data[0] = map_to_labels(receptor[:,i], labeling, mask=mask, fill=np.nan)\n",
    "    \n",
    "    name = dat.columns[i]\n",
    "\n",
    "    plot_hemispheres(surf_lh, surf_rh, array_name=data, size=(1200,600), \n",
    "                 cmap='RdBu_r', color_bar=False, zoom=1.25, screenshot=True,\n",
    "                 filename='C:/Users/chaehyeon/Dropbox/jupyter_notebook/camin2021/fig3/receptor_atlas/{}.png'.format(name))"
   ]
  },
  {
   "cell_type": "code",
   "execution_count": null,
   "id": "0f4f38fb",
   "metadata": {},
   "outputs": [],
   "source": []
  },
  {
   "cell_type": "code",
   "execution_count": null,
   "id": "05f17f5e",
   "metadata": {},
   "outputs": [],
   "source": []
  },
  {
   "cell_type": "code",
   "execution_count": null,
   "id": "98430572",
   "metadata": {},
   "outputs": [],
   "source": []
  },
  {
   "cell_type": "code",
   "execution_count": null,
   "id": "380d3c9a",
   "metadata": {},
   "outputs": [],
   "source": []
  },
  {
   "cell_type": "code",
   "execution_count": null,
   "id": "255d8542",
   "metadata": {},
   "outputs": [],
   "source": []
  },
  {
   "cell_type": "code",
   "execution_count": null,
   "id": "7e0e2116",
   "metadata": {},
   "outputs": [],
   "source": []
  }
 ],
 "metadata": {
  "kernelspec": {
   "display_name": "Python 3 (ipykernel)",
   "language": "python",
   "name": "python3"
  },
  "language_info": {
   "codemirror_mode": {
    "name": "ipython",
    "version": 3
   },
   "file_extension": ".py",
   "mimetype": "text/x-python",
   "name": "python",
   "nbconvert_exporter": "python",
   "pygments_lexer": "ipython3",
   "version": "3.9.7"
  },
  "toc": {
   "base_numbering": 1,
   "nav_menu": {},
   "number_sections": false,
   "sideBar": true,
   "skip_h1_title": false,
   "title_cell": "Table of Contents",
   "title_sidebar": "Contents",
   "toc_cell": false,
   "toc_position": {
    "height": "calc(100% - 180px)",
    "left": "10px",
    "top": "150px",
    "width": "168.637px"
   },
   "toc_section_display": true,
   "toc_window_display": false
  }
 },
 "nbformat": 4,
 "nbformat_minor": 5
}
