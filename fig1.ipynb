{
 "cells": [
  {
   "cell_type": "markdown",
   "id": "cb43672a",
   "metadata": {},
   "source": [
    "## import"
   ]
  },
  {
   "cell_type": "code",
   "execution_count": 1,
   "id": "dc54b199",
   "metadata": {
    "ExecuteTime": {
     "end_time": "2022-08-11T06:40:12.958919Z",
     "start_time": "2022-08-11T06:40:12.939970Z"
    }
   },
   "outputs": [
    {
     "data": {
      "application/javascript": [
       "\n",
       "(function(root) {\n",
       "  function now() {\n",
       "    return new Date();\n",
       "  }\n",
       "\n",
       "  var force = true;\n",
       "\n",
       "  if (typeof root._bokeh_onload_callbacks === \"undefined\" || force === true) {\n",
       "    root._bokeh_onload_callbacks = [];\n",
       "    root._bokeh_is_loading = undefined;\n",
       "  }\n",
       "\n",
       "  if (typeof (root._bokeh_timeout) === \"undefined\" || force === true) {\n",
       "    root._bokeh_timeout = Date.now() + 5000;\n",
       "    root._bokeh_failed_load = false;\n",
       "  }\n",
       "\n",
       "  function run_callbacks() {\n",
       "    try {\n",
       "      root._bokeh_onload_callbacks.forEach(function(callback) {\n",
       "        if (callback != null)\n",
       "          callback();\n",
       "      });\n",
       "    } finally {\n",
       "      delete root._bokeh_onload_callbacks\n",
       "    }\n",
       "    console.debug(\"Bokeh: all callbacks have finished\");\n",
       "  }\n",
       "\n",
       "  function load_libs(css_urls, js_urls, js_modules, callback) {\n",
       "    if (css_urls == null) css_urls = [];\n",
       "    if (js_urls == null) js_urls = [];\n",
       "    if (js_modules == null) js_modules = [];\n",
       "\n",
       "    root._bokeh_onload_callbacks.push(callback);\n",
       "    if (root._bokeh_is_loading > 0) {\n",
       "      console.debug(\"Bokeh: BokehJS is being loaded, scheduling callback at\", now());\n",
       "      return null;\n",
       "    }\n",
       "    if (js_urls.length === 0 && js_modules.length === 0) {\n",
       "      run_callbacks();\n",
       "      return null;\n",
       "    }\n",
       "    console.debug(\"Bokeh: BokehJS not loaded, scheduling load and callback at\", now());\n",
       "\n",
       "    function on_load() {\n",
       "      root._bokeh_is_loading--;\n",
       "      if (root._bokeh_is_loading === 0) {\n",
       "        console.debug(\"Bokeh: all BokehJS libraries/stylesheets loaded\");\n",
       "        run_callbacks()\n",
       "      }\n",
       "    }\n",
       "\n",
       "    function on_error() {\n",
       "      console.error(\"failed to load \" + url);\n",
       "    }\n",
       "\n",
       "    for (var i = 0; i < css_urls.length; i++) {\n",
       "      var url = css_urls[i];\n",
       "      const element = document.createElement(\"link\");\n",
       "      element.onload = on_load;\n",
       "      element.onerror = on_error;\n",
       "      element.rel = \"stylesheet\";\n",
       "      element.type = \"text/css\";\n",
       "      element.href = url;\n",
       "      console.debug(\"Bokeh: injecting link tag for BokehJS stylesheet: \", url);\n",
       "      document.body.appendChild(element);\n",
       "    }\n",
       "\n",
       "    var skip = [];\n",
       "    if (window.requirejs) {\n",
       "      window.requirejs.config({'packages': {}, 'paths': {'vtk': 'https://unpkg.com/vtk.js@20.0.1/vtk', 'gridstack': 'https://cdn.jsdelivr.net/npm/gridstack@4.2.5/dist/gridstack-h5'}, 'shim': {'vtk': {'exports': 'vtk'}, 'gridstack': {'exports': 'GridStack'}}});\n",
       "      \n",
       "      require([\"vtk\"], function() {\n",
       "\t\n",
       "\ton_load()\n",
       "      })\n",
       "      \n",
       "      require([\"gridstack\"], function(GridStack) {\n",
       "\t\n",
       "\twindow.GridStack = GridStack\n",
       "\t\n",
       "\ton_load()\n",
       "      })\n",
       "      \n",
       "      root._bokeh_is_loading = css_urls.length + 2;\n",
       "    } else {\n",
       "      root._bokeh_is_loading = css_urls.length + js_urls.length + js_modules.length;\n",
       "    }\n",
       "    if (((window['vtk'] !== undefined) && (!(window['vtk'] instanceof HTMLElement))) || window.requirejs) {\n",
       "      var urls = ['https://unpkg.com/vtk.js@20.0.1/vtk.js'];\n",
       "      for (var i = 0; i < urls.length; i++) {\n",
       "        skip.push(urls[i])\n",
       "      }\n",
       "    }\n",
       "    if (((window['GridStack'] !== undefined) && (!(window['GridStack'] instanceof HTMLElement))) || window.requirejs) {\n",
       "      var urls = ['https://cdn.jsdelivr.net/npm/gridstack@4.2.5/dist/gridstack-h5.js'];\n",
       "      for (var i = 0; i < urls.length; i++) {\n",
       "        skip.push(urls[i])\n",
       "      }\n",
       "    }\n",
       "    for (var i = 0; i < js_urls.length; i++) {\n",
       "      var url = js_urls[i];\n",
       "      if (skip.indexOf(url) >= 0) {\n",
       "\tif (!window.requirejs) {\n",
       "\t  on_load();\n",
       "\t}\n",
       "\tcontinue;\n",
       "      }\n",
       "      var element = document.createElement('script');\n",
       "      element.onload = on_load;\n",
       "      element.onerror = on_error;\n",
       "      element.async = false;\n",
       "      element.src = url;\n",
       "      console.debug(\"Bokeh: injecting script tag for BokehJS library: \", url);\n",
       "      document.head.appendChild(element);\n",
       "    }\n",
       "    for (var i = 0; i < js_modules.length; i++) {\n",
       "      var url = js_modules[i];\n",
       "      if (skip.indexOf(url) >= 0) {\n",
       "\tif (!window.requirejs) {\n",
       "\t  on_load();\n",
       "\t}\n",
       "\tcontinue;\n",
       "      }\n",
       "      var element = document.createElement('script');\n",
       "      element.onload = on_load;\n",
       "      element.onerror = on_error;\n",
       "      element.async = false;\n",
       "      element.src = url;\n",
       "      element.type = \"module\";\n",
       "      console.debug(\"Bokeh: injecting script tag for BokehJS library: \", url);\n",
       "      document.head.appendChild(element);\n",
       "    }\n",
       "    if (!js_urls.length && !js_modules.length) {\n",
       "      on_load()\n",
       "    }\n",
       "  };\n",
       "\n",
       "  function inject_raw_css(css) {\n",
       "    const element = document.createElement(\"style\");\n",
       "    element.appendChild(document.createTextNode(css));\n",
       "    document.body.appendChild(element);\n",
       "  }\n",
       "\n",
       "  var js_urls = [\"https://unpkg.com/vtk.js@20.0.1/vtk.js\", \"https://cdn.bokeh.org/bokeh/release/bokeh-2.4.2.min.js\", \"https://cdn.bokeh.org/bokeh/release/bokeh-gl-2.4.2.min.js\", \"https://cdn.bokeh.org/bokeh/release/bokeh-widgets-2.4.2.min.js\", \"https://cdn.bokeh.org/bokeh/release/bokeh-tables-2.4.2.min.js\", \"https://cdn.bokeh.org/bokeh/release/bokeh-mathjax-2.4.2.min.js\", \"https://unpkg.com/@holoviz/panel@0.13.0/dist/panel.min.js\"];\n",
       "  var js_modules = [];\n",
       "  var css_urls = [\"https://unpkg.com/@holoviz/panel@0.13.0/dist/css/alerts.css\", \"https://unpkg.com/@holoviz/panel@0.13.0/dist/css/card.css\", \"https://unpkg.com/@holoviz/panel@0.13.0/dist/css/dataframe.css\", \"https://unpkg.com/@holoviz/panel@0.13.0/dist/css/debugger.css\", \"https://unpkg.com/@holoviz/panel@0.13.0/dist/css/json.css\", \"https://unpkg.com/@holoviz/panel@0.13.0/dist/css/loading.css\", \"https://unpkg.com/@holoviz/panel@0.13.0/dist/css/markdown.css\", \"https://unpkg.com/@holoviz/panel@0.13.0/dist/css/widgets.css\"];\n",
       "  var inline_js = [\n",
       "    function(Bokeh) {\n",
       "      inject_raw_css(\"\\n    .bk.pn-loading.arcs:before {\\n      background-image: url(\\\"data:image/svg+xml;base64,PHN2ZyB4bWxucz0iaHR0cDovL3d3dy53My5vcmcvMjAwMC9zdmciIHhtbG5zOnhsaW5rPSJodHRwOi8vd3d3LnczLm9yZy8xOTk5L3hsaW5rIiBzdHlsZT0ibWFyZ2luOiBhdXRvOyBiYWNrZ3JvdW5kOiBub25lOyBkaXNwbGF5OiBibG9jazsgc2hhcGUtcmVuZGVyaW5nOiBhdXRvOyIgdmlld0JveD0iMCAwIDEwMCAxMDAiIHByZXNlcnZlQXNwZWN0UmF0aW89InhNaWRZTWlkIj4gIDxjaXJjbGUgY3g9IjUwIiBjeT0iNTAiIHI9IjMyIiBzdHJva2Utd2lkdGg9IjgiIHN0cm9rZT0iI2MzYzNjMyIgc3Ryb2tlLWRhc2hhcnJheT0iNTAuMjY1NDgyNDU3NDM2NjkgNTAuMjY1NDgyNDU3NDM2NjkiIGZpbGw9Im5vbmUiIHN0cm9rZS1saW5lY2FwPSJyb3VuZCI+ICAgIDxhbmltYXRlVHJhbnNmb3JtIGF0dHJpYnV0ZU5hbWU9InRyYW5zZm9ybSIgdHlwZT0icm90YXRlIiByZXBlYXRDb3VudD0iaW5kZWZpbml0ZSIgZHVyPSIxcyIga2V5VGltZXM9IjA7MSIgdmFsdWVzPSIwIDUwIDUwOzM2MCA1MCA1MCI+PC9hbmltYXRlVHJhbnNmb3JtPiAgPC9jaXJjbGU+PC9zdmc+\\\");\\n      background-size: auto calc(min(50%, 400px));\\n    }\\n    \");\n",
       "    },\n",
       "    function(Bokeh) {\n",
       "      Bokeh.set_log_level(\"info\");\n",
       "    },\n",
       "    function(Bokeh) {} // ensure no trailing comma for IE\n",
       "  ];\n",
       "\n",
       "  function run_inline_js() {\n",
       "    if ((root.Bokeh !== undefined) || (force === true)) {\n",
       "      for (var i = 0; i < inline_js.length; i++) {\n",
       "        inline_js[i].call(root, root.Bokeh);\n",
       "      }} else if (Date.now() < root._bokeh_timeout) {\n",
       "      setTimeout(run_inline_js, 100);\n",
       "    } else if (!root._bokeh_failed_load) {\n",
       "      console.log(\"Bokeh: BokehJS failed to load within specified timeout.\");\n",
       "      root._bokeh_failed_load = true;\n",
       "    }\n",
       "  }\n",
       "\n",
       "  if (root._bokeh_is_loading === 0) {\n",
       "    console.debug(\"Bokeh: BokehJS loaded, going straight to plotting\");\n",
       "    run_inline_js();\n",
       "  } else {\n",
       "    load_libs(css_urls, js_urls, js_modules, function() {\n",
       "      console.debug(\"Bokeh: BokehJS plotting callback run at\", now());\n",
       "      run_inline_js();\n",
       "    });\n",
       "  }\n",
       "}(window));"
      ],
      "application/vnd.holoviews_load.v0+json": "\n(function(root) {\n  function now() {\n    return new Date();\n  }\n\n  var force = true;\n\n  if (typeof root._bokeh_onload_callbacks === \"undefined\" || force === true) {\n    root._bokeh_onload_callbacks = [];\n    root._bokeh_is_loading = undefined;\n  }\n\n  if (typeof (root._bokeh_timeout) === \"undefined\" || force === true) {\n    root._bokeh_timeout = Date.now() + 5000;\n    root._bokeh_failed_load = false;\n  }\n\n  function run_callbacks() {\n    try {\n      root._bokeh_onload_callbacks.forEach(function(callback) {\n        if (callback != null)\n          callback();\n      });\n    } finally {\n      delete root._bokeh_onload_callbacks\n    }\n    console.debug(\"Bokeh: all callbacks have finished\");\n  }\n\n  function load_libs(css_urls, js_urls, js_modules, callback) {\n    if (css_urls == null) css_urls = [];\n    if (js_urls == null) js_urls = [];\n    if (js_modules == null) js_modules = [];\n\n    root._bokeh_onload_callbacks.push(callback);\n    if (root._bokeh_is_loading > 0) {\n      console.debug(\"Bokeh: BokehJS is being loaded, scheduling callback at\", now());\n      return null;\n    }\n    if (js_urls.length === 0 && js_modules.length === 0) {\n      run_callbacks();\n      return null;\n    }\n    console.debug(\"Bokeh: BokehJS not loaded, scheduling load and callback at\", now());\n\n    function on_load() {\n      root._bokeh_is_loading--;\n      if (root._bokeh_is_loading === 0) {\n        console.debug(\"Bokeh: all BokehJS libraries/stylesheets loaded\");\n        run_callbacks()\n      }\n    }\n\n    function on_error() {\n      console.error(\"failed to load \" + url);\n    }\n\n    for (var i = 0; i < css_urls.length; i++) {\n      var url = css_urls[i];\n      const element = document.createElement(\"link\");\n      element.onload = on_load;\n      element.onerror = on_error;\n      element.rel = \"stylesheet\";\n      element.type = \"text/css\";\n      element.href = url;\n      console.debug(\"Bokeh: injecting link tag for BokehJS stylesheet: \", url);\n      document.body.appendChild(element);\n    }\n\n    var skip = [];\n    if (window.requirejs) {\n      window.requirejs.config({'packages': {}, 'paths': {'vtk': 'https://unpkg.com/vtk.js@20.0.1/vtk', 'gridstack': 'https://cdn.jsdelivr.net/npm/gridstack@4.2.5/dist/gridstack-h5'}, 'shim': {'vtk': {'exports': 'vtk'}, 'gridstack': {'exports': 'GridStack'}}});\n      \n      require([\"vtk\"], function() {\n\t\n\ton_load()\n      })\n      \n      require([\"gridstack\"], function(GridStack) {\n\t\n\twindow.GridStack = GridStack\n\t\n\ton_load()\n      })\n      \n      root._bokeh_is_loading = css_urls.length + 2;\n    } else {\n      root._bokeh_is_loading = css_urls.length + js_urls.length + js_modules.length;\n    }\n    if (((window['vtk'] !== undefined) && (!(window['vtk'] instanceof HTMLElement))) || window.requirejs) {\n      var urls = ['https://unpkg.com/vtk.js@20.0.1/vtk.js'];\n      for (var i = 0; i < urls.length; i++) {\n        skip.push(urls[i])\n      }\n    }\n    if (((window['GridStack'] !== undefined) && (!(window['GridStack'] instanceof HTMLElement))) || window.requirejs) {\n      var urls = ['https://cdn.jsdelivr.net/npm/gridstack@4.2.5/dist/gridstack-h5.js'];\n      for (var i = 0; i < urls.length; i++) {\n        skip.push(urls[i])\n      }\n    }\n    for (var i = 0; i < js_urls.length; i++) {\n      var url = js_urls[i];\n      if (skip.indexOf(url) >= 0) {\n\tif (!window.requirejs) {\n\t  on_load();\n\t}\n\tcontinue;\n      }\n      var element = document.createElement('script');\n      element.onload = on_load;\n      element.onerror = on_error;\n      element.async = false;\n      element.src = url;\n      console.debug(\"Bokeh: injecting script tag for BokehJS library: \", url);\n      document.head.appendChild(element);\n    }\n    for (var i = 0; i < js_modules.length; i++) {\n      var url = js_modules[i];\n      if (skip.indexOf(url) >= 0) {\n\tif (!window.requirejs) {\n\t  on_load();\n\t}\n\tcontinue;\n      }\n      var element = document.createElement('script');\n      element.onload = on_load;\n      element.onerror = on_error;\n      element.async = false;\n      element.src = url;\n      element.type = \"module\";\n      console.debug(\"Bokeh: injecting script tag for BokehJS library: \", url);\n      document.head.appendChild(element);\n    }\n    if (!js_urls.length && !js_modules.length) {\n      on_load()\n    }\n  };\n\n  function inject_raw_css(css) {\n    const element = document.createElement(\"style\");\n    element.appendChild(document.createTextNode(css));\n    document.body.appendChild(element);\n  }\n\n  var js_urls = [\"https://unpkg.com/vtk.js@20.0.1/vtk.js\", \"https://cdn.bokeh.org/bokeh/release/bokeh-2.4.2.min.js\", \"https://cdn.bokeh.org/bokeh/release/bokeh-gl-2.4.2.min.js\", \"https://cdn.bokeh.org/bokeh/release/bokeh-widgets-2.4.2.min.js\", \"https://cdn.bokeh.org/bokeh/release/bokeh-tables-2.4.2.min.js\", \"https://cdn.bokeh.org/bokeh/release/bokeh-mathjax-2.4.2.min.js\", \"https://unpkg.com/@holoviz/panel@0.13.0/dist/panel.min.js\"];\n  var js_modules = [];\n  var css_urls = [\"https://unpkg.com/@holoviz/panel@0.13.0/dist/css/alerts.css\", \"https://unpkg.com/@holoviz/panel@0.13.0/dist/css/card.css\", \"https://unpkg.com/@holoviz/panel@0.13.0/dist/css/dataframe.css\", \"https://unpkg.com/@holoviz/panel@0.13.0/dist/css/debugger.css\", \"https://unpkg.com/@holoviz/panel@0.13.0/dist/css/json.css\", \"https://unpkg.com/@holoviz/panel@0.13.0/dist/css/loading.css\", \"https://unpkg.com/@holoviz/panel@0.13.0/dist/css/markdown.css\", \"https://unpkg.com/@holoviz/panel@0.13.0/dist/css/widgets.css\"];\n  var inline_js = [\n    function(Bokeh) {\n      inject_raw_css(\"\\n    .bk.pn-loading.arcs:before {\\n      background-image: url(\\\"data:image/svg+xml;base64,PHN2ZyB4bWxucz0iaHR0cDovL3d3dy53My5vcmcvMjAwMC9zdmciIHhtbG5zOnhsaW5rPSJodHRwOi8vd3d3LnczLm9yZy8xOTk5L3hsaW5rIiBzdHlsZT0ibWFyZ2luOiBhdXRvOyBiYWNrZ3JvdW5kOiBub25lOyBkaXNwbGF5OiBibG9jazsgc2hhcGUtcmVuZGVyaW5nOiBhdXRvOyIgdmlld0JveD0iMCAwIDEwMCAxMDAiIHByZXNlcnZlQXNwZWN0UmF0aW89InhNaWRZTWlkIj4gIDxjaXJjbGUgY3g9IjUwIiBjeT0iNTAiIHI9IjMyIiBzdHJva2Utd2lkdGg9IjgiIHN0cm9rZT0iI2MzYzNjMyIgc3Ryb2tlLWRhc2hhcnJheT0iNTAuMjY1NDgyNDU3NDM2NjkgNTAuMjY1NDgyNDU3NDM2NjkiIGZpbGw9Im5vbmUiIHN0cm9rZS1saW5lY2FwPSJyb3VuZCI+ICAgIDxhbmltYXRlVHJhbnNmb3JtIGF0dHJpYnV0ZU5hbWU9InRyYW5zZm9ybSIgdHlwZT0icm90YXRlIiByZXBlYXRDb3VudD0iaW5kZWZpbml0ZSIgZHVyPSIxcyIga2V5VGltZXM9IjA7MSIgdmFsdWVzPSIwIDUwIDUwOzM2MCA1MCA1MCI+PC9hbmltYXRlVHJhbnNmb3JtPiAgPC9jaXJjbGU+PC9zdmc+\\\");\\n      background-size: auto calc(min(50%, 400px));\\n    }\\n    \");\n    },\n    function(Bokeh) {\n      Bokeh.set_log_level(\"info\");\n    },\n    function(Bokeh) {} // ensure no trailing comma for IE\n  ];\n\n  function run_inline_js() {\n    if ((root.Bokeh !== undefined) || (force === true)) {\n      for (var i = 0; i < inline_js.length; i++) {\n        inline_js[i].call(root, root.Bokeh);\n      }} else if (Date.now() < root._bokeh_timeout) {\n      setTimeout(run_inline_js, 100);\n    } else if (!root._bokeh_failed_load) {\n      console.log(\"Bokeh: BokehJS failed to load within specified timeout.\");\n      root._bokeh_failed_load = true;\n    }\n  }\n\n  if (root._bokeh_is_loading === 0) {\n    console.debug(\"Bokeh: BokehJS loaded, going straight to plotting\");\n    run_inline_js();\n  } else {\n    load_libs(css_urls, js_urls, js_modules, function() {\n      console.debug(\"Bokeh: BokehJS plotting callback run at\", now());\n      run_inline_js();\n    });\n  }\n}(window));"
     },
     "metadata": {},
     "output_type": "display_data"
    },
    {
     "data": {
      "application/javascript": [
       "\n",
       "if ((window.PyViz === undefined) || (window.PyViz instanceof HTMLElement)) {\n",
       "  window.PyViz = {comms: {}, comm_status:{}, kernels:{}, receivers: {}, plot_index: []}\n",
       "}\n",
       "\n",
       "\n",
       "    function JupyterCommManager() {\n",
       "    }\n",
       "\n",
       "    JupyterCommManager.prototype.register_target = function(plot_id, comm_id, msg_handler) {\n",
       "      if (window.comm_manager || ((window.Jupyter !== undefined) && (Jupyter.notebook.kernel != null))) {\n",
       "        var comm_manager = window.comm_manager || Jupyter.notebook.kernel.comm_manager;\n",
       "        comm_manager.register_target(comm_id, function(comm) {\n",
       "          comm.on_msg(msg_handler);\n",
       "        });\n",
       "      } else if ((plot_id in window.PyViz.kernels) && (window.PyViz.kernels[plot_id])) {\n",
       "        window.PyViz.kernels[plot_id].registerCommTarget(comm_id, function(comm) {\n",
       "          comm.onMsg = msg_handler;\n",
       "        });\n",
       "      } else if (typeof google != 'undefined' && google.colab.kernel != null) {\n",
       "        google.colab.kernel.comms.registerTarget(comm_id, (comm) => {\n",
       "          var messages = comm.messages[Symbol.asyncIterator]();\n",
       "          function processIteratorResult(result) {\n",
       "            var message = result.value;\n",
       "            console.log(message)\n",
       "            var content = {data: message.data, comm_id};\n",
       "            var buffers = []\n",
       "            for (var buffer of message.buffers || []) {\n",
       "              buffers.push(new DataView(buffer))\n",
       "            }\n",
       "            var metadata = message.metadata || {};\n",
       "            var msg = {content, buffers, metadata}\n",
       "            msg_handler(msg);\n",
       "            return messages.next().then(processIteratorResult);\n",
       "          }\n",
       "          return messages.next().then(processIteratorResult);\n",
       "        })\n",
       "      }\n",
       "    }\n",
       "\n",
       "    JupyterCommManager.prototype.get_client_comm = function(plot_id, comm_id, msg_handler) {\n",
       "      if (comm_id in window.PyViz.comms) {\n",
       "        return window.PyViz.comms[comm_id];\n",
       "      } else if (window.comm_manager || ((window.Jupyter !== undefined) && (Jupyter.notebook.kernel != null))) {\n",
       "        var comm_manager = window.comm_manager || Jupyter.notebook.kernel.comm_manager;\n",
       "        var comm = comm_manager.new_comm(comm_id, {}, {}, {}, comm_id);\n",
       "        if (msg_handler) {\n",
       "          comm.on_msg(msg_handler);\n",
       "        }\n",
       "      } else if ((plot_id in window.PyViz.kernels) && (window.PyViz.kernels[plot_id])) {\n",
       "        var comm = window.PyViz.kernels[plot_id].connectToComm(comm_id);\n",
       "        comm.open();\n",
       "        if (msg_handler) {\n",
       "          comm.onMsg = msg_handler;\n",
       "        }\n",
       "      } else if (typeof google != 'undefined' && google.colab.kernel != null) {\n",
       "        var comm_promise = google.colab.kernel.comms.open(comm_id)\n",
       "        comm_promise.then((comm) => {\n",
       "          window.PyViz.comms[comm_id] = comm;\n",
       "          if (msg_handler) {\n",
       "            var messages = comm.messages[Symbol.asyncIterator]();\n",
       "            function processIteratorResult(result) {\n",
       "              var message = result.value;\n",
       "              var content = {data: message.data};\n",
       "              var metadata = message.metadata || {comm_id};\n",
       "              var msg = {content, metadata}\n",
       "              msg_handler(msg);\n",
       "              return messages.next().then(processIteratorResult);\n",
       "            }\n",
       "            return messages.next().then(processIteratorResult);\n",
       "          }\n",
       "        }) \n",
       "        var sendClosure = (data, metadata, buffers, disposeOnDone) => {\n",
       "          return comm_promise.then((comm) => {\n",
       "            comm.send(data, metadata, buffers, disposeOnDone);\n",
       "          });\n",
       "        };\n",
       "        var comm = {\n",
       "          send: sendClosure\n",
       "        };\n",
       "      }\n",
       "      window.PyViz.comms[comm_id] = comm;\n",
       "      return comm;\n",
       "    }\n",
       "    window.PyViz.comm_manager = new JupyterCommManager();\n",
       "    \n",
       "\n",
       "\n",
       "var JS_MIME_TYPE = 'application/javascript';\n",
       "var HTML_MIME_TYPE = 'text/html';\n",
       "var EXEC_MIME_TYPE = 'application/vnd.holoviews_exec.v0+json';\n",
       "var CLASS_NAME = 'output';\n",
       "\n",
       "/**\n",
       " * Render data to the DOM node\n",
       " */\n",
       "function render(props, node) {\n",
       "  var div = document.createElement(\"div\");\n",
       "  var script = document.createElement(\"script\");\n",
       "  node.appendChild(div);\n",
       "  node.appendChild(script);\n",
       "}\n",
       "\n",
       "/**\n",
       " * Handle when a new output is added\n",
       " */\n",
       "function handle_add_output(event, handle) {\n",
       "  var output_area = handle.output_area;\n",
       "  var output = handle.output;\n",
       "  if ((output.data == undefined) || (!output.data.hasOwnProperty(EXEC_MIME_TYPE))) {\n",
       "    return\n",
       "  }\n",
       "  var id = output.metadata[EXEC_MIME_TYPE][\"id\"];\n",
       "  var toinsert = output_area.element.find(\".\" + CLASS_NAME.split(' ')[0]);\n",
       "  if (id !== undefined) {\n",
       "    var nchildren = toinsert.length;\n",
       "    var html_node = toinsert[nchildren-1].children[0];\n",
       "    html_node.innerHTML = output.data[HTML_MIME_TYPE];\n",
       "    var scripts = [];\n",
       "    var nodelist = html_node.querySelectorAll(\"script\");\n",
       "    for (var i in nodelist) {\n",
       "      if (nodelist.hasOwnProperty(i)) {\n",
       "        scripts.push(nodelist[i])\n",
       "      }\n",
       "    }\n",
       "\n",
       "    scripts.forEach( function (oldScript) {\n",
       "      var newScript = document.createElement(\"script\");\n",
       "      var attrs = [];\n",
       "      var nodemap = oldScript.attributes;\n",
       "      for (var j in nodemap) {\n",
       "        if (nodemap.hasOwnProperty(j)) {\n",
       "          attrs.push(nodemap[j])\n",
       "        }\n",
       "      }\n",
       "      attrs.forEach(function(attr) { newScript.setAttribute(attr.name, attr.value) });\n",
       "      newScript.appendChild(document.createTextNode(oldScript.innerHTML));\n",
       "      oldScript.parentNode.replaceChild(newScript, oldScript);\n",
       "    });\n",
       "    if (JS_MIME_TYPE in output.data) {\n",
       "      toinsert[nchildren-1].children[1].textContent = output.data[JS_MIME_TYPE];\n",
       "    }\n",
       "    output_area._hv_plot_id = id;\n",
       "    if ((window.Bokeh !== undefined) && (id in Bokeh.index)) {\n",
       "      window.PyViz.plot_index[id] = Bokeh.index[id];\n",
       "    } else {\n",
       "      window.PyViz.plot_index[id] = null;\n",
       "    }\n",
       "  } else if (output.metadata[EXEC_MIME_TYPE][\"server_id\"] !== undefined) {\n",
       "    var bk_div = document.createElement(\"div\");\n",
       "    bk_div.innerHTML = output.data[HTML_MIME_TYPE];\n",
       "    var script_attrs = bk_div.children[0].attributes;\n",
       "    for (var i = 0; i < script_attrs.length; i++) {\n",
       "      toinsert[toinsert.length - 1].childNodes[1].setAttribute(script_attrs[i].name, script_attrs[i].value);\n",
       "    }\n",
       "    // store reference to server id on output_area\n",
       "    output_area._bokeh_server_id = output.metadata[EXEC_MIME_TYPE][\"server_id\"];\n",
       "  }\n",
       "}\n",
       "\n",
       "/**\n",
       " * Handle when an output is cleared or removed\n",
       " */\n",
       "function handle_clear_output(event, handle) {\n",
       "  var id = handle.cell.output_area._hv_plot_id;\n",
       "  var server_id = handle.cell.output_area._bokeh_server_id;\n",
       "  if (((id === undefined) || !(id in PyViz.plot_index)) && (server_id !== undefined)) { return; }\n",
       "  var comm = window.PyViz.comm_manager.get_client_comm(\"hv-extension-comm\", \"hv-extension-comm\", function () {});\n",
       "  if (server_id !== null) {\n",
       "    comm.send({event_type: 'server_delete', 'id': server_id});\n",
       "    return;\n",
       "  } else if (comm !== null) {\n",
       "    comm.send({event_type: 'delete', 'id': id});\n",
       "  }\n",
       "  delete PyViz.plot_index[id];\n",
       "  if ((window.Bokeh !== undefined) & (id in window.Bokeh.index)) {\n",
       "    var doc = window.Bokeh.index[id].model.document\n",
       "    doc.clear();\n",
       "    const i = window.Bokeh.documents.indexOf(doc);\n",
       "    if (i > -1) {\n",
       "      window.Bokeh.documents.splice(i, 1);\n",
       "    }\n",
       "  }\n",
       "}\n",
       "\n",
       "/**\n",
       " * Handle kernel restart event\n",
       " */\n",
       "function handle_kernel_cleanup(event, handle) {\n",
       "  delete PyViz.comms[\"hv-extension-comm\"];\n",
       "  window.PyViz.plot_index = {}\n",
       "}\n",
       "\n",
       "/**\n",
       " * Handle update_display_data messages\n",
       " */\n",
       "function handle_update_output(event, handle) {\n",
       "  handle_clear_output(event, {cell: {output_area: handle.output_area}})\n",
       "  handle_add_output(event, handle)\n",
       "}\n",
       "\n",
       "function register_renderer(events, OutputArea) {\n",
       "  function append_mime(data, metadata, element) {\n",
       "    // create a DOM node to render to\n",
       "    var toinsert = this.create_output_subarea(\n",
       "    metadata,\n",
       "    CLASS_NAME,\n",
       "    EXEC_MIME_TYPE\n",
       "    );\n",
       "    this.keyboard_manager.register_events(toinsert);\n",
       "    // Render to node\n",
       "    var props = {data: data, metadata: metadata[EXEC_MIME_TYPE]};\n",
       "    render(props, toinsert[0]);\n",
       "    element.append(toinsert);\n",
       "    return toinsert\n",
       "  }\n",
       "\n",
       "  events.on('output_added.OutputArea', handle_add_output);\n",
       "  events.on('output_updated.OutputArea', handle_update_output);\n",
       "  events.on('clear_output.CodeCell', handle_clear_output);\n",
       "  events.on('delete.Cell', handle_clear_output);\n",
       "  events.on('kernel_ready.Kernel', handle_kernel_cleanup);\n",
       "\n",
       "  OutputArea.prototype.register_mime_type(EXEC_MIME_TYPE, append_mime, {\n",
       "    safe: true,\n",
       "    index: 0\n",
       "  });\n",
       "}\n",
       "\n",
       "if (window.Jupyter !== undefined) {\n",
       "  try {\n",
       "    var events = require('base/js/events');\n",
       "    var OutputArea = require('notebook/js/outputarea').OutputArea;\n",
       "    if (OutputArea.prototype.mime_types().indexOf(EXEC_MIME_TYPE) == -1) {\n",
       "      register_renderer(events, OutputArea);\n",
       "    }\n",
       "  } catch(err) {\n",
       "  }\n",
       "}\n"
      ],
      "application/vnd.holoviews_load.v0+json": "\nif ((window.PyViz === undefined) || (window.PyViz instanceof HTMLElement)) {\n  window.PyViz = {comms: {}, comm_status:{}, kernels:{}, receivers: {}, plot_index: []}\n}\n\n\n    function JupyterCommManager() {\n    }\n\n    JupyterCommManager.prototype.register_target = function(plot_id, comm_id, msg_handler) {\n      if (window.comm_manager || ((window.Jupyter !== undefined) && (Jupyter.notebook.kernel != null))) {\n        var comm_manager = window.comm_manager || Jupyter.notebook.kernel.comm_manager;\n        comm_manager.register_target(comm_id, function(comm) {\n          comm.on_msg(msg_handler);\n        });\n      } else if ((plot_id in window.PyViz.kernels) && (window.PyViz.kernels[plot_id])) {\n        window.PyViz.kernels[plot_id].registerCommTarget(comm_id, function(comm) {\n          comm.onMsg = msg_handler;\n        });\n      } else if (typeof google != 'undefined' && google.colab.kernel != null) {\n        google.colab.kernel.comms.registerTarget(comm_id, (comm) => {\n          var messages = comm.messages[Symbol.asyncIterator]();\n          function processIteratorResult(result) {\n            var message = result.value;\n            console.log(message)\n            var content = {data: message.data, comm_id};\n            var buffers = []\n            for (var buffer of message.buffers || []) {\n              buffers.push(new DataView(buffer))\n            }\n            var metadata = message.metadata || {};\n            var msg = {content, buffers, metadata}\n            msg_handler(msg);\n            return messages.next().then(processIteratorResult);\n          }\n          return messages.next().then(processIteratorResult);\n        })\n      }\n    }\n\n    JupyterCommManager.prototype.get_client_comm = function(plot_id, comm_id, msg_handler) {\n      if (comm_id in window.PyViz.comms) {\n        return window.PyViz.comms[comm_id];\n      } else if (window.comm_manager || ((window.Jupyter !== undefined) && (Jupyter.notebook.kernel != null))) {\n        var comm_manager = window.comm_manager || Jupyter.notebook.kernel.comm_manager;\n        var comm = comm_manager.new_comm(comm_id, {}, {}, {}, comm_id);\n        if (msg_handler) {\n          comm.on_msg(msg_handler);\n        }\n      } else if ((plot_id in window.PyViz.kernels) && (window.PyViz.kernels[plot_id])) {\n        var comm = window.PyViz.kernels[plot_id].connectToComm(comm_id);\n        comm.open();\n        if (msg_handler) {\n          comm.onMsg = msg_handler;\n        }\n      } else if (typeof google != 'undefined' && google.colab.kernel != null) {\n        var comm_promise = google.colab.kernel.comms.open(comm_id)\n        comm_promise.then((comm) => {\n          window.PyViz.comms[comm_id] = comm;\n          if (msg_handler) {\n            var messages = comm.messages[Symbol.asyncIterator]();\n            function processIteratorResult(result) {\n              var message = result.value;\n              var content = {data: message.data};\n              var metadata = message.metadata || {comm_id};\n              var msg = {content, metadata}\n              msg_handler(msg);\n              return messages.next().then(processIteratorResult);\n            }\n            return messages.next().then(processIteratorResult);\n          }\n        }) \n        var sendClosure = (data, metadata, buffers, disposeOnDone) => {\n          return comm_promise.then((comm) => {\n            comm.send(data, metadata, buffers, disposeOnDone);\n          });\n        };\n        var comm = {\n          send: sendClosure\n        };\n      }\n      window.PyViz.comms[comm_id] = comm;\n      return comm;\n    }\n    window.PyViz.comm_manager = new JupyterCommManager();\n    \n\n\nvar JS_MIME_TYPE = 'application/javascript';\nvar HTML_MIME_TYPE = 'text/html';\nvar EXEC_MIME_TYPE = 'application/vnd.holoviews_exec.v0+json';\nvar CLASS_NAME = 'output';\n\n/**\n * Render data to the DOM node\n */\nfunction render(props, node) {\n  var div = document.createElement(\"div\");\n  var script = document.createElement(\"script\");\n  node.appendChild(div);\n  node.appendChild(script);\n}\n\n/**\n * Handle when a new output is added\n */\nfunction handle_add_output(event, handle) {\n  var output_area = handle.output_area;\n  var output = handle.output;\n  if ((output.data == undefined) || (!output.data.hasOwnProperty(EXEC_MIME_TYPE))) {\n    return\n  }\n  var id = output.metadata[EXEC_MIME_TYPE][\"id\"];\n  var toinsert = output_area.element.find(\".\" + CLASS_NAME.split(' ')[0]);\n  if (id !== undefined) {\n    var nchildren = toinsert.length;\n    var html_node = toinsert[nchildren-1].children[0];\n    html_node.innerHTML = output.data[HTML_MIME_TYPE];\n    var scripts = [];\n    var nodelist = html_node.querySelectorAll(\"script\");\n    for (var i in nodelist) {\n      if (nodelist.hasOwnProperty(i)) {\n        scripts.push(nodelist[i])\n      }\n    }\n\n    scripts.forEach( function (oldScript) {\n      var newScript = document.createElement(\"script\");\n      var attrs = [];\n      var nodemap = oldScript.attributes;\n      for (var j in nodemap) {\n        if (nodemap.hasOwnProperty(j)) {\n          attrs.push(nodemap[j])\n        }\n      }\n      attrs.forEach(function(attr) { newScript.setAttribute(attr.name, attr.value) });\n      newScript.appendChild(document.createTextNode(oldScript.innerHTML));\n      oldScript.parentNode.replaceChild(newScript, oldScript);\n    });\n    if (JS_MIME_TYPE in output.data) {\n      toinsert[nchildren-1].children[1].textContent = output.data[JS_MIME_TYPE];\n    }\n    output_area._hv_plot_id = id;\n    if ((window.Bokeh !== undefined) && (id in Bokeh.index)) {\n      window.PyViz.plot_index[id] = Bokeh.index[id];\n    } else {\n      window.PyViz.plot_index[id] = null;\n    }\n  } else if (output.metadata[EXEC_MIME_TYPE][\"server_id\"] !== undefined) {\n    var bk_div = document.createElement(\"div\");\n    bk_div.innerHTML = output.data[HTML_MIME_TYPE];\n    var script_attrs = bk_div.children[0].attributes;\n    for (var i = 0; i < script_attrs.length; i++) {\n      toinsert[toinsert.length - 1].childNodes[1].setAttribute(script_attrs[i].name, script_attrs[i].value);\n    }\n    // store reference to server id on output_area\n    output_area._bokeh_server_id = output.metadata[EXEC_MIME_TYPE][\"server_id\"];\n  }\n}\n\n/**\n * Handle when an output is cleared or removed\n */\nfunction handle_clear_output(event, handle) {\n  var id = handle.cell.output_area._hv_plot_id;\n  var server_id = handle.cell.output_area._bokeh_server_id;\n  if (((id === undefined) || !(id in PyViz.plot_index)) && (server_id !== undefined)) { return; }\n  var comm = window.PyViz.comm_manager.get_client_comm(\"hv-extension-comm\", \"hv-extension-comm\", function () {});\n  if (server_id !== null) {\n    comm.send({event_type: 'server_delete', 'id': server_id});\n    return;\n  } else if (comm !== null) {\n    comm.send({event_type: 'delete', 'id': id});\n  }\n  delete PyViz.plot_index[id];\n  if ((window.Bokeh !== undefined) & (id in window.Bokeh.index)) {\n    var doc = window.Bokeh.index[id].model.document\n    doc.clear();\n    const i = window.Bokeh.documents.indexOf(doc);\n    if (i > -1) {\n      window.Bokeh.documents.splice(i, 1);\n    }\n  }\n}\n\n/**\n * Handle kernel restart event\n */\nfunction handle_kernel_cleanup(event, handle) {\n  delete PyViz.comms[\"hv-extension-comm\"];\n  window.PyViz.plot_index = {}\n}\n\n/**\n * Handle update_display_data messages\n */\nfunction handle_update_output(event, handle) {\n  handle_clear_output(event, {cell: {output_area: handle.output_area}})\n  handle_add_output(event, handle)\n}\n\nfunction register_renderer(events, OutputArea) {\n  function append_mime(data, metadata, element) {\n    // create a DOM node to render to\n    var toinsert = this.create_output_subarea(\n    metadata,\n    CLASS_NAME,\n    EXEC_MIME_TYPE\n    );\n    this.keyboard_manager.register_events(toinsert);\n    // Render to node\n    var props = {data: data, metadata: metadata[EXEC_MIME_TYPE]};\n    render(props, toinsert[0]);\n    element.append(toinsert);\n    return toinsert\n  }\n\n  events.on('output_added.OutputArea', handle_add_output);\n  events.on('output_updated.OutputArea', handle_update_output);\n  events.on('clear_output.CodeCell', handle_clear_output);\n  events.on('delete.Cell', handle_clear_output);\n  events.on('kernel_ready.Kernel', handle_kernel_cleanup);\n\n  OutputArea.prototype.register_mime_type(EXEC_MIME_TYPE, append_mime, {\n    safe: true,\n    index: 0\n  });\n}\n\nif (window.Jupyter !== undefined) {\n  try {\n    var events = require('base/js/events');\n    var OutputArea = require('notebook/js/outputarea').OutputArea;\n    if (OutputArea.prototype.mime_types().indexOf(EXEC_MIME_TYPE) == -1) {\n      register_renderer(events, OutputArea);\n    }\n  } catch(err) {\n  }\n}\n"
     },
     "metadata": {},
     "output_type": "display_data"
    },
    {
     "data": {
      "text/html": [
       "<style>.bk-root, .bk-root .bk:before, .bk-root .bk:after {\n",
       "  font-family: var(--jp-ui-font-size1);\n",
       "  font-size: var(--jp-ui-font-size1);\n",
       "  color: var(--jp-ui-font-color1);\n",
       "}\n",
       "</style>"
      ]
     },
     "metadata": {},
     "output_type": "display_data"
    }
   ],
   "source": [
    "import numpy as np\n",
    "import matplotlib.pylab as plt\n",
    "import scipy.io\n",
    "import re\n",
    "\n",
    "from brainspace.datasets import load_group_fc, load_parcellation, load_conte69\n",
    "from brainspace.gradient import GradientMaps\n",
    "from brainspace.plotting import plot_hemispheres\n",
    "from brainspace.utils.parcellation import map_to_labels\n",
    "\n",
    "from scipy import io"
   ]
  },
  {
   "cell_type": "code",
   "execution_count": 8,
   "id": "f1a78354",
   "metadata": {
    "ExecuteTime": {
     "end_time": "2022-08-11T06:17:43.438811Z",
     "start_time": "2022-08-11T06:17:40.467762Z"
    }
   },
   "outputs": [],
   "source": [
    "import os\n",
    "\n",
    "import nibabel as nib\n",
    "from nilearn.datasets import fetch_surf_fsaverage\n",
    "\n",
    "import brainstat\n",
    "from brainstat.stats.terms import FixedEffect\n",
    "\n",
    "import pandas as pd\n",
    "\n",
    "import scipy as sp\n",
    "import scipy.stats\n",
    "from scipy import stats\n",
    "\n",
    "from math import pi\n",
    "from matplotlib.path import Path\n",
    "from matplotlib.spines import Spine\n",
    "from matplotlib.transforms import Affine2D"
   ]
  },
  {
   "cell_type": "code",
   "execution_count": 9,
   "id": "76e3654e",
   "metadata": {
    "ExecuteTime": {
     "end_time": "2022-08-11T06:17:46.945435Z",
     "start_time": "2022-08-11T06:17:46.933464Z"
    }
   },
   "outputs": [],
   "source": [
    "import sys , numpy as np\n",
    "mod = sys.modules[__name__]"
   ]
  },
  {
   "cell_type": "markdown",
   "id": "533b6a59",
   "metadata": {},
   "source": [
    "## load cortex files"
   ]
  },
  {
   "cell_type": "code",
   "execution_count": 10,
   "id": "872b588d",
   "metadata": {
    "ExecuteTime": {
     "end_time": "2022-08-11T06:17:43.454769Z",
     "start_time": "2022-08-11T06:17:43.440806Z"
    }
   },
   "outputs": [],
   "source": [
    "from glob import glob\n",
    "path = './data/schaefer200/cortex/'\n",
    "filepaths = glob(path+'*.csv') # load path of csv files"
   ]
  },
  {
   "cell_type": "code",
   "execution_count": 11,
   "id": "2d3ad274",
   "metadata": {
    "ExecuteTime": {
     "end_time": "2022-08-11T06:17:46.929486Z",
     "start_time": "2022-08-11T06:17:43.487680Z"
    }
   },
   "outputs": [],
   "source": [
    "import pandas as pd\n",
    "for i in range(len(filepaths)):\n",
    "    dat = pd.read_csv(filepaths[i], header=None)\n",
    "    res = re.split('[\\\\\\/]',filepaths[i])\n",
    "    globals()[res[-1][:-4]+'_a'] = dat.to_numpy() # load csv files as numpy type"
   ]
  },
  {
   "cell_type": "code",
   "execution_count": 12,
   "id": "91630f73",
   "metadata": {
    "ExecuteTime": {
     "end_time": "2022-08-11T06:17:46.961390Z",
     "start_time": "2022-08-11T06:17:46.951416Z"
    }
   },
   "outputs": [],
   "source": [
    "for i in range(1,100+1):\n",
    "    globals()['ctx{}'.format(i)] = getattr(mod,'g{}_200_a'.format(i))"
   ]
  },
  {
   "cell_type": "markdown",
   "id": "8c1f4eb9",
   "metadata": {},
   "source": [
    "### make cortico-cortical connectivity matrix"
   ]
  },
  {
   "cell_type": "code",
   "execution_count": 13,
   "id": "3ab0bf57",
   "metadata": {
    "ExecuteTime": {
     "end_time": "2022-08-11T06:17:47.790170Z",
     "start_time": "2022-08-11T06:17:46.964380Z"
    }
   },
   "outputs": [],
   "source": [
    "from nilearn import plotting\n",
    "from nilearn.connectome import ConnectivityMeasure \n",
    "correlation_measure = ConnectivityMeasure(kind='correlation')\n",
    "\n",
    "for i in range(1,100+1):\n",
    "    globals()['ctx{}_c'.format(i)] = correlation_measure.fit_transform([getattr(mod, 'ctx{}'.format(i))]) "
   ]
  },
  {
   "cell_type": "code",
   "execution_count": 14,
   "id": "f1d167bf",
   "metadata": {
    "ExecuteTime": {
     "end_time": "2022-08-11T06:17:47.806131Z",
     "start_time": "2022-08-11T06:17:47.794159Z"
    }
   },
   "outputs": [],
   "source": [
    "for i in range(1, 100+1):\n",
    "    globals()['ctx{}_c'.format(i)] = getattr(mod, 'ctx{}_c'.format(i))[0]\n",
    "# (1,200,200) array shape -> (200,200) array shape"
   ]
  },
  {
   "cell_type": "markdown",
   "id": "f02f520a",
   "metadata": {},
   "source": [
    "### 1. z-transformation\n",
    "### 2. transform all diagonals into zeros"
   ]
  },
  {
   "cell_type": "code",
   "execution_count": 15,
   "id": "c097a27c",
   "metadata": {
    "ExecuteTime": {
     "end_time": "2022-08-11T06:17:47.822084Z",
     "start_time": "2022-08-11T06:17:47.814107Z"
    }
   },
   "outputs": [],
   "source": [
    "tab = np.zeros(shape=(200,200))"
   ]
  },
  {
   "cell_type": "code",
   "execution_count": 16,
   "id": "6ed45d67",
   "metadata": {
    "ExecuteTime": {
     "end_time": "2022-08-11T06:17:48.058451Z",
     "start_time": "2022-08-11T06:17:47.826075Z"
    }
   },
   "outputs": [
    {
     "name": "stderr",
     "output_type": "stream",
     "text": [
      "C:\\Users\\chlee\\AppData\\Local\\Temp\\ipykernel_8228\\648496427.py:2: RuntimeWarning: divide by zero encountered in arctanh\n",
      "  tab = np.arctanh(getattr(mod, 'ctx{}_c'.format(i)))\n"
     ]
    }
   ],
   "source": [
    "for i in range(1,101):\n",
    "    tab = np.arctanh(getattr(mod, 'ctx{}_c'.format(i)))\n",
    "    np.fill_diagonal(tab, np.zeros(200))\n",
    "    globals()['ctx{}_cz'.format(i)] = tab"
   ]
  },
  {
   "cell_type": "markdown",
   "id": "5d9f9f79",
   "metadata": {},
   "source": [
    "### get group connectivity matrix averaging z-transformed 100 connectivity matrix"
   ]
  },
  {
   "cell_type": "code",
   "execution_count": 17,
   "id": "d7226d8b",
   "metadata": {
    "ExecuteTime": {
     "end_time": "2022-08-11T06:17:48.090369Z",
     "start_time": "2022-08-11T06:17:48.061444Z"
    }
   },
   "outputs": [],
   "source": [
    "import numpy\n",
    "ctx_sum = numpy.zeros(shape=(200,200))\n",
    "for i in range(1,101):\n",
    "    ctx_sum = ctx_sum + getattr(mod, 'ctx{}_cz'.format(i))"
   ]
  },
  {
   "cell_type": "code",
   "execution_count": 18,
   "id": "a8b4f87d",
   "metadata": {
    "ExecuteTime": {
     "end_time": "2022-08-11T06:17:48.106325Z",
     "start_time": "2022-08-11T06:17:48.094359Z"
    }
   },
   "outputs": [],
   "source": [
    "ctx_mean = ctx_sum/100 "
   ]
  },
  {
   "cell_type": "code",
   "execution_count": 21,
   "id": "d40920dc",
   "metadata": {
    "ExecuteTime": {
     "end_time": "2022-08-11T06:17:48.548141Z",
     "start_time": "2022-08-11T06:17:48.112315Z"
    },
    "scrolled": true
   },
   "outputs": [
    {
     "data": {
      "text/plain": [
       "<matplotlib.image.AxesImage at 0x7f0c05039550>"
      ]
     },
     "execution_count": 21,
     "metadata": {},
     "output_type": "execute_result"
    },
    {
     "data": {
      "image/png": "[encoded data removed]",
      "text/plain": [
       "<Figure size 504x360 with 1 Axes>"
      ]
     },
     "metadata": {
      "needs_background": "light"
     },
     "output_type": "display_data"
    }
   ],
   "source": [
    "plotting.plot_matrix(ctx_mean, vmin=0, vmax=1,colorbar=False) # we get group connectivity matrix of 100 individual connectivity matrices"
   ]
  },
  {
   "cell_type": "markdown",
   "id": "81e17e9b",
   "metadata": {},
   "source": [
    "## make gradient (henceforth eigenvector)"
   ]
  },
  {
   "cell_type": "code",
   "execution_count": 19,
   "id": "b835467a",
   "metadata": {
    "ExecuteTime": {
     "end_time": "2022-08-11T06:17:48.975998Z",
     "start_time": "2022-08-11T06:17:48.551134Z"
    }
   },
   "outputs": [],
   "source": [
    "labeling = load_parcellation('schaefer', scale=200, join=True)\n",
    "mask = labeling != 0\n",
    "# generate labeing and mask based on schaefer200"
   ]
  },
  {
   "cell_type": "code",
   "execution_count": 20,
   "id": "15cab54d",
   "metadata": {
    "ExecuteTime": {
     "end_time": "2022-08-11T06:17:49.165489Z",
     "start_time": "2022-08-11T06:17:48.980985Z"
    }
   },
   "outputs": [],
   "source": [
    "surf_lh, surf_rh = load_conte69()"
   ]
  },
  {
   "cell_type": "markdown",
   "id": "9364283c",
   "metadata": {},
   "source": [
    "### make eigenvectors of group connectivity matrix"
   ]
  },
  {
   "cell_type": "code",
   "execution_count": 21,
   "id": "8ebbd7a8",
   "metadata": {
    "ExecuteTime": {
     "end_time": "2022-08-11T06:17:58.110274Z",
     "start_time": "2022-08-11T06:17:55.462357Z"
    }
   },
   "outputs": [],
   "source": [
    "gradients_kernel = [None] * 3 \n",
    "\n",
    "gm = GradientMaps(kernel='normalized_angle', approach='dm', random_state=0)\n",
    "gm.fit(ctx_mean) \n",
    "    \n",
    "for i in range(0,2+1):\n",
    "    gradients_kernel[i] = map_to_labels(gm.gradients_[:,i], labeling, mask=mask,\n",
    "                                       fill=np.nan)\n",
    "\n",
    "label_text = ['eigenvector1','eigenvector2','eigenvector3']\n",
    "plot_hemispheres(surf_lh, surf_rh, array_name=gradients_kernel, size=(1200,600),\n",
    "                cmap='viridis', color_bar=True, label_text=label_text, zoom=1.45, color_range = (-0.1,0.1)) "
   ]
  },
  {
   "cell_type": "markdown",
   "id": "7a210e3a",
   "metadata": {},
   "source": [
    "### make template of eigenvectors 1,2 and 3 with hcp"
   ]
  },
  {
   "cell_type": "code",
   "execution_count": 22,
   "id": "d2e1dba5",
   "metadata": {
    "ExecuteTime": {
     "end_time": "2022-08-11T06:17:59.088658Z",
     "start_time": "2022-08-11T06:17:59.040783Z"
    }
   },
   "outputs": [],
   "source": [
    "mat_file_name = \"./data/gradients_FC.mat\"\n",
    "mat_file = scipy.io.loadmat(mat_file_name)"
   ]
  },
  {
   "cell_type": "code",
   "execution_count": 23,
   "id": "d1557557",
   "metadata": {
    "ExecuteTime": {
     "end_time": "2022-08-11T06:18:00.389176Z",
     "start_time": "2022-08-11T06:18:00.379204Z"
    }
   },
   "outputs": [],
   "source": [
    "gm_mean = mat_file['gm_mean']"
   ]
  },
  {
   "cell_type": "code",
   "execution_count": 24,
   "id": "ec7b3179",
   "metadata": {
    "ExecuteTime": {
     "end_time": "2022-08-11T06:18:01.724604Z",
     "start_time": "2022-08-11T06:18:00.672419Z"
    }
   },
   "outputs": [],
   "source": [
    "gradients_kernel = [None] * 3 \n",
    "\n",
    "gm = GradientMaps(kernel='normalized_angle', approach='dm', random_state=0) \n",
    "\n",
    "for i in range(0,2+1):\n",
    "    gradients_kernel[i] = map_to_labels(gm_mean[:,i], labeling, mask=mask,\n",
    "                                       fill=np.nan)\n",
    "\n",
    "label_text = ['eigenvector1','eigenvector2','eigenvector3']\n",
    "plot_hemispheres(surf_lh, surf_rh, array_name=gradients_kernel, size=(1200,600),\n",
    "                cmap='viridis', color_bar=True, label_text=label_text, zoom=1.45, color_range = (-0.1,0.1)) "
   ]
  },
  {
   "cell_type": "markdown",
   "id": "6e9adf41",
   "metadata": {},
   "source": [
    "### align group connectivity matrix with hcp eigenvectors"
   ]
  },
  {
   "cell_type": "code",
   "execution_count": 25,
   "id": "aac88656",
   "metadata": {
    "ExecuteTime": {
     "end_time": "2022-08-11T06:18:04.188012Z",
     "start_time": "2022-08-11T06:18:04.145130Z"
    }
   },
   "outputs": [
    {
     "data": {
      "text/plain": [
       "GradientMaps(alignment='procrustes', kernel='normalized_angle', n_components=5)"
      ]
     },
     "execution_count": 25,
     "metadata": {},
     "output_type": "execute_result"
    }
   ],
   "source": [
    "# eigenvector alignment\n",
    "align = GradientMaps(kernel='normalized_angle', approach='dm', alignment='procrustes', n_components = 5)\n",
    "\n",
    "align.fit(ctx_mean, reference = gm_mean)"
   ]
  },
  {
   "cell_type": "code",
   "execution_count": 26,
   "id": "a85c0bcd",
   "metadata": {
    "ExecuteTime": {
     "end_time": "2022-08-11T06:18:09.341930Z",
     "start_time": "2022-08-11T06:18:07.975680Z"
    }
   },
   "outputs": [],
   "source": [
    "gradients_kernel = [None] * 3 \n",
    "for i in range(0,2+1):\n",
    "    gradients_kernel[i] = map_to_labels(align.aligned_[:, i], labeling, mask=mask,\n",
    "                                       fill=np.nan)\n",
    "\n",
    "    \n",
    "label_text = ['Eigenvector1','Eigenvector2','Eigenvector3']\n",
    "plot_hemispheres(surf_lh, surf_rh, array_name=gradients_kernel, size=(1200,600),\n",
    "                cmap='viridis', color_bar=False, label_text=label_text, zoom=1.45, color_range = (-0.1, 0.1)) "
   ]
  },
  {
   "cell_type": "markdown",
   "id": "7594286c",
   "metadata": {},
   "source": [
    "### align each individual connectivity matrix with hcp-aligned group connectivity matrix"
   ]
  },
  {
   "cell_type": "markdown",
   "id": "e27c29dd",
   "metadata": {},
   "source": [
    "> we call it individual eigenvector"
   ]
  },
  {
   "cell_type": "code",
   "execution_count": 27,
   "id": "a063774a",
   "metadata": {
    "ExecuteTime": {
     "end_time": "2022-08-11T06:18:13.783044Z",
     "start_time": "2022-08-11T06:18:11.723556Z"
    }
   },
   "outputs": [],
   "source": [
    "for i in range(1,100+1):\n",
    "    align2 = GradientMaps(kernel='normalized_angle', approach='dm', alignment='procrustes', n_components = 5)\n",
    "    align2.fit(getattr(mod,'ctx{}_cz'.format(i)), reference = align.aligned_)\n",
    "    globals()['grad_{}'.format(i)] = align2.aligned_[:,0:2+1]"
   ]
  },
  {
   "cell_type": "markdown",
   "id": "911553b6",
   "metadata": {},
   "source": [
    "## Multivariate analysis"
   ]
  },
  {
   "cell_type": "markdown",
   "id": "bb6db853",
   "metadata": {},
   "source": [
    "> we perform multivariate analysis with 100 individual eigenvectors"
   ]
  },
  {
   "cell_type": "code",
   "execution_count": 28,
   "id": "3c69e9ff",
   "metadata": {
    "ExecuteTime": {
     "end_time": "2022-08-11T06:18:16.463789Z",
     "start_time": "2022-08-11T06:18:14.174996Z"
    },
    "scrolled": true
   },
   "outputs": [],
   "source": [
    "import numpy as np\n",
    "import pandas as pd\n",
    "import matplotlib.pyplot as plt\n",
    "import seaborn as sns\n",
    "\n",
    "brain = pd.read_excel(\"./data/환자군_정상군_181104_결측값업데이트_scores2_bypark.xlsx\")"
   ]
  },
  {
   "cell_type": "code",
   "execution_count": 29,
   "id": "5ef87d1f",
   "metadata": {
    "ExecuteTime": {
     "end_time": "2022-08-11T06:18:16.527616Z",
     "start_time": "2022-08-11T06:18:16.466745Z"
    },
    "scrolled": true
   },
   "outputs": [
    {
     "data": {
      "text/html": [
       "<div>\n",
       "<style scoped>\n",
       "    .dataframe tbody tr th:only-of-type {\n",
       "        vertical-align: middle;\n",
       "    }\n",
       "\n",
       "    .dataframe tbody tr th {\n",
       "        vertical-align: top;\n",
       "    }\n",
       "\n",
       "    .dataframe thead th {\n",
       "        text-align: right;\n",
       "    }\n",
       "</style>\n",
       "<table border=\"1\" class=\"dataframe\">\n",
       "  <thead>\n",
       "    <tr style=\"text-align: right;\">\n",
       "      <th></th>\n",
       "      <th>Unnamed: 0</th>\n",
       "      <th>Unnamed: 1</th>\n",
       "      <th>n</th>\n",
       "      <th>No</th>\n",
       "      <th>group</th>\n",
       "      <th>이름</th>\n",
       "      <th>Sex</th>\n",
       "      <th>Age</th>\n",
       "      <th>Ictal</th>\n",
       "      <th>ID</th>\n",
       "      <th>...</th>\n",
       "      <th>MIBS_total</th>\n",
       "      <th>Interictal_시각_total</th>\n",
       "      <th>Premonitory_시각_total</th>\n",
       "      <th>Ictal_시각_total</th>\n",
       "      <th>HADS_D</th>\n",
       "      <th>HADS_A</th>\n",
       "      <th>PHQ_total</th>\n",
       "      <th>onset_yr</th>\n",
       "      <th>HA_freq_m_fMRI</th>\n",
       "      <th>HA_days</th>\n",
       "    </tr>\n",
       "  </thead>\n",
       "  <tbody>\n",
       "    <tr>\n",
       "      <th>0</th>\n",
       "      <td>1</td>\n",
       "      <td>grp1_pat01</td>\n",
       "      <td>108</td>\n",
       "      <td>P-01</td>\n",
       "      <td>1</td>\n",
       "      <td>박정란</td>\n",
       "      <td>0</td>\n",
       "      <td>39</td>\n",
       "      <td>1</td>\n",
       "      <td>18448615</td>\n",
       "      <td>...</td>\n",
       "      <td>8.0</td>\n",
       "      <td>5</td>\n",
       "      <td>5.0</td>\n",
       "      <td>28.0</td>\n",
       "      <td>9</td>\n",
       "      <td>7</td>\n",
       "      <td>3.0</td>\n",
       "      <td>NaN</td>\n",
       "      <td>3.5</td>\n",
       "      <td>NaN</td>\n",
       "    </tr>\n",
       "    <tr>\n",
       "      <th>1</th>\n",
       "      <td>2</td>\n",
       "      <td>grp1_pat02</td>\n",
       "      <td>112</td>\n",
       "      <td>P-02</td>\n",
       "      <td>1</td>\n",
       "      <td>최은미</td>\n",
       "      <td>0</td>\n",
       "      <td>44</td>\n",
       "      <td>0</td>\n",
       "      <td>38155304</td>\n",
       "      <td>...</td>\n",
       "      <td>6.0</td>\n",
       "      <td>2</td>\n",
       "      <td>2.0</td>\n",
       "      <td>20.0</td>\n",
       "      <td>13</td>\n",
       "      <td>8</td>\n",
       "      <td>10.0</td>\n",
       "      <td>10.0</td>\n",
       "      <td>2.0</td>\n",
       "      <td>4.0</td>\n",
       "    </tr>\n",
       "    <tr>\n",
       "      <th>2</th>\n",
       "      <td>3</td>\n",
       "      <td>grp1_pat03</td>\n",
       "      <td>148</td>\n",
       "      <td>P-07</td>\n",
       "      <td>1</td>\n",
       "      <td>최우진</td>\n",
       "      <td>1</td>\n",
       "      <td>32</td>\n",
       "      <td>1</td>\n",
       "      <td>34329817</td>\n",
       "      <td>...</td>\n",
       "      <td>12.0</td>\n",
       "      <td>3</td>\n",
       "      <td>4.0</td>\n",
       "      <td>9.0</td>\n",
       "      <td>10</td>\n",
       "      <td>9</td>\n",
       "      <td>7.0</td>\n",
       "      <td>12.0</td>\n",
       "      <td>3.0</td>\n",
       "      <td>5.0</td>\n",
       "    </tr>\n",
       "    <tr>\n",
       "      <th>3</th>\n",
       "      <td>4</td>\n",
       "      <td>grp1_pat04</td>\n",
       "      <td>134</td>\n",
       "      <td>P-05</td>\n",
       "      <td>1</td>\n",
       "      <td>이경하</td>\n",
       "      <td>1</td>\n",
       "      <td>29</td>\n",
       "      <td>1</td>\n",
       "      <td>34912684</td>\n",
       "      <td>...</td>\n",
       "      <td>5.0</td>\n",
       "      <td>9</td>\n",
       "      <td>9.0</td>\n",
       "      <td>9.0</td>\n",
       "      <td>11</td>\n",
       "      <td>5</td>\n",
       "      <td>8.0</td>\n",
       "      <td>NaN</td>\n",
       "      <td>9.0</td>\n",
       "      <td>7.0</td>\n",
       "    </tr>\n",
       "    <tr>\n",
       "      <th>4</th>\n",
       "      <td>5</td>\n",
       "      <td>grp1_pat05</td>\n",
       "      <td>160</td>\n",
       "      <td>P-09</td>\n",
       "      <td>1</td>\n",
       "      <td>김효선</td>\n",
       "      <td>0</td>\n",
       "      <td>46</td>\n",
       "      <td>0</td>\n",
       "      <td>22894974</td>\n",
       "      <td>...</td>\n",
       "      <td>0.0</td>\n",
       "      <td>1</td>\n",
       "      <td>6.0</td>\n",
       "      <td>20.0</td>\n",
       "      <td>2</td>\n",
       "      <td>1</td>\n",
       "      <td>1.0</td>\n",
       "      <td>25.0</td>\n",
       "      <td>8.0</td>\n",
       "      <td>7.0</td>\n",
       "    </tr>\n",
       "    <tr>\n",
       "      <th>...</th>\n",
       "      <td>...</td>\n",
       "      <td>...</td>\n",
       "      <td>...</td>\n",
       "      <td>...</td>\n",
       "      <td>...</td>\n",
       "      <td>...</td>\n",
       "      <td>...</td>\n",
       "      <td>...</td>\n",
       "      <td>...</td>\n",
       "      <td>...</td>\n",
       "      <td>...</td>\n",
       "      <td>...</td>\n",
       "      <td>...</td>\n",
       "      <td>...</td>\n",
       "      <td>...</td>\n",
       "      <td>...</td>\n",
       "      <td>...</td>\n",
       "      <td>...</td>\n",
       "      <td>...</td>\n",
       "      <td>...</td>\n",
       "      <td>...</td>\n",
       "    </tr>\n",
       "    <tr>\n",
       "      <th>95</th>\n",
       "      <td>96</td>\n",
       "      <td>grp2_nor46</td>\n",
       "      <td>102</td>\n",
       "      <td>C-51</td>\n",
       "      <td>0</td>\n",
       "      <td>김묘경</td>\n",
       "      <td>0</td>\n",
       "      <td>50</td>\n",
       "      <td>1</td>\n",
       "      <td>16304203</td>\n",
       "      <td>...</td>\n",
       "      <td>NaN</td>\n",
       "      <td>8</td>\n",
       "      <td>NaN</td>\n",
       "      <td>NaN</td>\n",
       "      <td>2</td>\n",
       "      <td>1</td>\n",
       "      <td>NaN</td>\n",
       "      <td>NaN</td>\n",
       "      <td>NaN</td>\n",
       "      <td>NaN</td>\n",
       "    </tr>\n",
       "    <tr>\n",
       "      <th>96</th>\n",
       "      <td>97</td>\n",
       "      <td>grp2_nor47</td>\n",
       "      <td>100</td>\n",
       "      <td>C-50</td>\n",
       "      <td>0</td>\n",
       "      <td>정현희</td>\n",
       "      <td>0</td>\n",
       "      <td>39</td>\n",
       "      <td>0</td>\n",
       "      <td>14815059</td>\n",
       "      <td>...</td>\n",
       "      <td>NaN</td>\n",
       "      <td>10</td>\n",
       "      <td>NaN</td>\n",
       "      <td>NaN</td>\n",
       "      <td>9</td>\n",
       "      <td>4</td>\n",
       "      <td>NaN</td>\n",
       "      <td>NaN</td>\n",
       "      <td>NaN</td>\n",
       "      <td>NaN</td>\n",
       "    </tr>\n",
       "    <tr>\n",
       "      <th>97</th>\n",
       "      <td>98</td>\n",
       "      <td>grp2_nor48</td>\n",
       "      <td>70</td>\n",
       "      <td>C-35</td>\n",
       "      <td>0</td>\n",
       "      <td>최수진</td>\n",
       "      <td>0</td>\n",
       "      <td>20</td>\n",
       "      <td>1</td>\n",
       "      <td>39855656</td>\n",
       "      <td>...</td>\n",
       "      <td>NaN</td>\n",
       "      <td>4</td>\n",
       "      <td>NaN</td>\n",
       "      <td>NaN</td>\n",
       "      <td>4</td>\n",
       "      <td>6</td>\n",
       "      <td>NaN</td>\n",
       "      <td>NaN</td>\n",
       "      <td>NaN</td>\n",
       "      <td>NaN</td>\n",
       "    </tr>\n",
       "    <tr>\n",
       "      <th>98</th>\n",
       "      <td>99</td>\n",
       "      <td>grp2_nor49</td>\n",
       "      <td>98</td>\n",
       "      <td>C-49</td>\n",
       "      <td>0</td>\n",
       "      <td>윤선영</td>\n",
       "      <td>0</td>\n",
       "      <td>35</td>\n",
       "      <td>1</td>\n",
       "      <td>22124840</td>\n",
       "      <td>...</td>\n",
       "      <td>NaN</td>\n",
       "      <td>13</td>\n",
       "      <td>NaN</td>\n",
       "      <td>NaN</td>\n",
       "      <td>2</td>\n",
       "      <td>3</td>\n",
       "      <td>NaN</td>\n",
       "      <td>NaN</td>\n",
       "      <td>NaN</td>\n",
       "      <td>NaN</td>\n",
       "    </tr>\n",
       "    <tr>\n",
       "      <th>99</th>\n",
       "      <td>100</td>\n",
       "      <td>grp2_nor50</td>\n",
       "      <td>104</td>\n",
       "      <td>C-52</td>\n",
       "      <td>0</td>\n",
       "      <td>황대연</td>\n",
       "      <td>1</td>\n",
       "      <td>25</td>\n",
       "      <td>0</td>\n",
       "      <td>37788545</td>\n",
       "      <td>...</td>\n",
       "      <td>NaN</td>\n",
       "      <td>6</td>\n",
       "      <td>NaN</td>\n",
       "      <td>NaN</td>\n",
       "      <td>10</td>\n",
       "      <td>4</td>\n",
       "      <td>NaN</td>\n",
       "      <td>NaN</td>\n",
       "      <td>NaN</td>\n",
       "      <td>NaN</td>\n",
       "    </tr>\n",
       "  </tbody>\n",
       "</table>\n",
       "<p>100 rows × 23 columns</p>\n",
       "</div>"
      ],
      "text/plain": [
       "    Unnamed: 0  Unnamed: 1    n    No  group   이름  Sex  Age  Ictal        ID  \\\n",
       "0            1  grp1_pat01  108  P-01      1  박정란    0   39      1  18448615   \n",
       "1            2  grp1_pat02  112  P-02      1  최은미    0   44      0  38155304   \n",
       "2            3  grp1_pat03  148  P-07      1  최우진    1   32      1  34329817   \n",
       "3            4  grp1_pat04  134  P-05      1  이경하    1   29      1  34912684   \n",
       "4            5  grp1_pat05  160  P-09      1  김효선    0   46      0  22894974   \n",
       "..         ...         ...  ...   ...    ...  ...  ...  ...    ...       ...   \n",
       "95          96  grp2_nor46  102  C-51      0  김묘경    0   50      1  16304203   \n",
       "96          97  grp2_nor47  100  C-50      0  정현희    0   39      0  14815059   \n",
       "97          98  grp2_nor48   70  C-35      0  최수진    0   20      1  39855656   \n",
       "98          99  grp2_nor49   98  C-49      0  윤선영    0   35      1  22124840   \n",
       "99         100  grp2_nor50  104  C-52      0  황대연    1   25      0  37788545   \n",
       "\n",
       "    ...  MIBS_total  Interictal_시각_total  Premonitory_시각_total  \\\n",
       "0   ...         8.0                    5                   5.0   \n",
       "1   ...         6.0                    2                   2.0   \n",
       "2   ...        12.0                    3                   4.0   \n",
       "3   ...         5.0                    9                   9.0   \n",
       "4   ...         0.0                    1                   6.0   \n",
       "..  ...         ...                  ...                   ...   \n",
       "95  ...         NaN                    8                   NaN   \n",
       "96  ...         NaN                   10                   NaN   \n",
       "97  ...         NaN                    4                   NaN   \n",
       "98  ...         NaN                   13                   NaN   \n",
       "99  ...         NaN                    6                   NaN   \n",
       "\n",
       "    Ictal_시각_total  HADS_D  HADS_A  PHQ_total  onset_yr  HA_freq_m_fMRI  \\\n",
       "0             28.0       9       7        3.0       NaN             3.5   \n",
       "1             20.0      13       8       10.0      10.0             2.0   \n",
       "2              9.0      10       9        7.0      12.0             3.0   \n",
       "3              9.0      11       5        8.0       NaN             9.0   \n",
       "4             20.0       2       1        1.0      25.0             8.0   \n",
       "..             ...     ...     ...        ...       ...             ...   \n",
       "95             NaN       2       1        NaN       NaN             NaN   \n",
       "96             NaN       9       4        NaN       NaN             NaN   \n",
       "97             NaN       4       6        NaN       NaN             NaN   \n",
       "98             NaN       2       3        NaN       NaN             NaN   \n",
       "99             NaN      10       4        NaN       NaN             NaN   \n",
       "\n",
       "    HA_days  \n",
       "0       NaN  \n",
       "1       4.0  \n",
       "2       5.0  \n",
       "3       7.0  \n",
       "4       7.0  \n",
       "..      ...  \n",
       "95      NaN  \n",
       "96      NaN  \n",
       "97      NaN  \n",
       "98      NaN  \n",
       "99      NaN  \n",
       "\n",
       "[100 rows x 23 columns]"
      ]
     },
     "execution_count": 29,
     "metadata": {},
     "output_type": "execute_result"
    }
   ],
   "source": [
    "brain"
   ]
  },
  {
   "cell_type": "markdown",
   "id": "f164c314",
   "metadata": {},
   "source": [
    "make sex and grp as dummy variables"
   ]
  },
  {
   "cell_type": "code",
   "execution_count": 30,
   "id": "c7fc94b7",
   "metadata": {
    "ExecuteTime": {
     "end_time": "2022-08-11T06:18:19.065790Z",
     "start_time": "2022-08-11T06:18:19.045844Z"
    }
   },
   "outputs": [],
   "source": [
    "age = brain['Age']\n",
    "\n",
    "sex = brain['Sex']\n",
    "sex=np.array(sex)\n",
    "sex=sex.reshape(100,1)\n",
    "\n",
    "grp = brain['group']\n",
    "grp=np.array(grp)\n",
    "grp=grp.reshape(100,1)\n",
    "\n",
    "NumSubj = np.size(grp)"
   ]
  },
  {
   "cell_type": "code",
   "execution_count": 31,
   "id": "ca043162",
   "metadata": {
    "ExecuteTime": {
     "end_time": "2022-08-11T06:18:19.589393Z",
     "start_time": "2022-08-11T06:18:19.578420Z"
    }
   },
   "outputs": [],
   "source": [
    "sex_dum1 = np.zeros((NumSubj,1))\n",
    "sex_dum1 = np.where(sex==0, 1, sex_dum1)\n",
    "\n",
    "sex_dum2 = np.zeros((NumSubj,1))\n",
    "sex_dum2 = np.where(sex==1, 1, sex_dum2)\n",
    "\n",
    "sex_dum = np.concatenate((sex_dum1, sex_dum2), axis=1) # F,M"
   ]
  },
  {
   "cell_type": "code",
   "execution_count": 32,
   "id": "137be09f",
   "metadata": {
    "ExecuteTime": {
     "end_time": "2022-08-11T06:18:19.760931Z",
     "start_time": "2022-08-11T06:18:19.753958Z"
    }
   },
   "outputs": [],
   "source": [
    "grp_dum1 = np.zeros((NumSubj,1))\n",
    "grp_dum1 = np.where(grp==0, 1, grp_dum1)\n",
    "\n",
    "grp_dum2 = np.zeros((NumSubj, 1))\n",
    "grp_dum2 = np.where(grp==1, 1, grp_dum2)\n",
    "\n",
    "grp_dum = np.concatenate((grp_dum1, grp_dum2), axis=1) # ctl pat"
   ]
  },
  {
   "cell_type": "code",
   "execution_count": 33,
   "id": "cf6c7a82",
   "metadata": {
    "ExecuteTime": {
     "end_time": "2022-08-11T06:18:21.429467Z",
     "start_time": "2022-08-11T06:18:21.418497Z"
    }
   },
   "outputs": [],
   "source": [
    "# get brainstat dir\n",
    "brainstat_dir = os.path.dirname(brainstat.__file__)"
   ]
  },
  {
   "cell_type": "markdown",
   "id": "71ebadd8",
   "metadata": {},
   "source": [
    "define model"
   ]
  },
  {
   "cell_type": "code",
   "execution_count": 34,
   "id": "46c4eb7a",
   "metadata": {
    "ExecuteTime": {
     "end_time": "2022-08-11T06:18:21.666864Z",
     "start_time": "2022-08-11T06:18:21.593031Z"
    },
    "scrolled": true
   },
   "outputs": [
    {
     "data": {
      "text/html": [
       "<div>\n",
       "<style scoped>\n",
       "    .dataframe tbody tr th:only-of-type {\n",
       "        vertical-align: middle;\n",
       "    }\n",
       "\n",
       "    .dataframe tbody tr th {\n",
       "        vertical-align: top;\n",
       "    }\n",
       "\n",
       "    .dataframe thead th {\n",
       "        text-align: right;\n",
       "    }\n",
       "</style>\n",
       "<table border=\"1\" class=\"dataframe\">\n",
       "  <thead>\n",
       "    <tr style=\"text-align: right;\">\n",
       "      <th></th>\n",
       "      <th>intercept</th>\n",
       "      <th>age</th>\n",
       "      <th>M</th>\n",
       "      <th>F</th>\n",
       "      <th>ctl</th>\n",
       "      <th>pat</th>\n",
       "    </tr>\n",
       "  </thead>\n",
       "  <tbody>\n",
       "    <tr>\n",
       "      <th>0</th>\n",
       "      <td>1</td>\n",
       "      <td>39</td>\n",
       "      <td>1.0</td>\n",
       "      <td>0.0</td>\n",
       "      <td>0.0</td>\n",
       "      <td>1.0</td>\n",
       "    </tr>\n",
       "    <tr>\n",
       "      <th>1</th>\n",
       "      <td>1</td>\n",
       "      <td>44</td>\n",
       "      <td>1.0</td>\n",
       "      <td>0.0</td>\n",
       "      <td>0.0</td>\n",
       "      <td>1.0</td>\n",
       "    </tr>\n",
       "    <tr>\n",
       "      <th>2</th>\n",
       "      <td>1</td>\n",
       "      <td>32</td>\n",
       "      <td>0.0</td>\n",
       "      <td>1.0</td>\n",
       "      <td>0.0</td>\n",
       "      <td>1.0</td>\n",
       "    </tr>\n",
       "    <tr>\n",
       "      <th>3</th>\n",
       "      <td>1</td>\n",
       "      <td>29</td>\n",
       "      <td>0.0</td>\n",
       "      <td>1.0</td>\n",
       "      <td>0.0</td>\n",
       "      <td>1.0</td>\n",
       "    </tr>\n",
       "    <tr>\n",
       "      <th>4</th>\n",
       "      <td>1</td>\n",
       "      <td>46</td>\n",
       "      <td>1.0</td>\n",
       "      <td>0.0</td>\n",
       "      <td>0.0</td>\n",
       "      <td>1.0</td>\n",
       "    </tr>\n",
       "    <tr>\n",
       "      <th>...</th>\n",
       "      <td>...</td>\n",
       "      <td>...</td>\n",
       "      <td>...</td>\n",
       "      <td>...</td>\n",
       "      <td>...</td>\n",
       "      <td>...</td>\n",
       "    </tr>\n",
       "    <tr>\n",
       "      <th>95</th>\n",
       "      <td>1</td>\n",
       "      <td>50</td>\n",
       "      <td>1.0</td>\n",
       "      <td>0.0</td>\n",
       "      <td>1.0</td>\n",
       "      <td>0.0</td>\n",
       "    </tr>\n",
       "    <tr>\n",
       "      <th>96</th>\n",
       "      <td>1</td>\n",
       "      <td>39</td>\n",
       "      <td>1.0</td>\n",
       "      <td>0.0</td>\n",
       "      <td>1.0</td>\n",
       "      <td>0.0</td>\n",
       "    </tr>\n",
       "    <tr>\n",
       "      <th>97</th>\n",
       "      <td>1</td>\n",
       "      <td>20</td>\n",
       "      <td>1.0</td>\n",
       "      <td>0.0</td>\n",
       "      <td>1.0</td>\n",
       "      <td>0.0</td>\n",
       "    </tr>\n",
       "    <tr>\n",
       "      <th>98</th>\n",
       "      <td>1</td>\n",
       "      <td>35</td>\n",
       "      <td>1.0</td>\n",
       "      <td>0.0</td>\n",
       "      <td>1.0</td>\n",
       "      <td>0.0</td>\n",
       "    </tr>\n",
       "    <tr>\n",
       "      <th>99</th>\n",
       "      <td>1</td>\n",
       "      <td>25</td>\n",
       "      <td>0.0</td>\n",
       "      <td>1.0</td>\n",
       "      <td>1.0</td>\n",
       "      <td>0.0</td>\n",
       "    </tr>\n",
       "  </tbody>\n",
       "</table>\n",
       "<p>100 rows × 6 columns</p>\n",
       "</div>"
      ],
      "text/plain": [
       "    intercept  age    M    F  ctl  pat\n",
       "0           1   39  1.0  0.0  0.0  1.0\n",
       "1           1   44  1.0  0.0  0.0  1.0\n",
       "2           1   32  0.0  1.0  0.0  1.0\n",
       "3           1   29  0.0  1.0  0.0  1.0\n",
       "4           1   46  1.0  0.0  0.0  1.0\n",
       "..        ...  ...  ...  ...  ...  ...\n",
       "95          1   50  1.0  0.0  1.0  0.0\n",
       "96          1   39  1.0  0.0  1.0  0.0\n",
       "97          1   20  1.0  0.0  1.0  0.0\n",
       "98          1   35  1.0  0.0  1.0  0.0\n",
       "99          1   25  0.0  1.0  1.0  0.0\n",
       "\n",
       "[100 rows x 6 columns]"
      ]
     },
     "execution_count": 34,
     "metadata": {},
     "output_type": "execute_result"
    }
   ],
   "source": [
    "# from brainstat.stats.terms import FixedEffect\n",
    "\n",
    "term_age = FixedEffect(age, \"age\")\n",
    "term_sex = FixedEffect(sex_dum, {\"F\", \"M\"})\n",
    "term_grp = FixedEffect(grp_dum, {\"ctl\", \"pat\"})\n",
    "\n",
    "model = term_age + term_sex + term_grp\n",
    "\n",
    "model"
   ]
  },
  {
   "cell_type": "markdown",
   "id": "2f26df46",
   "metadata": {},
   "source": [
    "append 200x3 matrices of 100 individuals by 3d array"
   ]
  },
  {
   "cell_type": "code",
   "execution_count": 35,
   "id": "a3843998",
   "metadata": {
    "ExecuteTime": {
     "end_time": "2022-08-11T06:18:23.412190Z",
     "start_time": "2022-08-11T06:18:23.390220Z"
    }
   },
   "outputs": [],
   "source": [
    "Z = np.dstack([grad_1,grad_2])\n",
    "\n",
    "for i in range(3,100+1):\n",
    "    Z = np.dstack([Z, getattr(mod, 'grad_{}'.format(i))])"
   ]
  },
  {
   "cell_type": "code",
   "execution_count": 36,
   "id": "a32ca83c",
   "metadata": {
    "ExecuteTime": {
     "end_time": "2022-08-11T06:18:25.411811Z",
     "start_time": "2022-08-11T06:18:25.401872Z"
    }
   },
   "outputs": [],
   "source": [
    "NumROI = 200"
   ]
  },
  {
   "cell_type": "code",
   "execution_count": 37,
   "id": "952e5857",
   "metadata": {
    "ExecuteTime": {
     "end_time": "2022-08-11T06:18:26.841024Z",
     "start_time": "2022-08-11T06:18:26.820044Z"
    }
   },
   "outputs": [],
   "source": [
    "data = np.zeros((NumSubj, NumROI, 3))\n",
    "\n",
    "for ns in range(0,NumSubj):\n",
    "    mat = Z[:,:,ns]\n",
    "    data[ns,:,:] = mat"
   ]
  },
  {
   "cell_type": "code",
   "execution_count": 38,
   "id": "c8e75153",
   "metadata": {
    "ExecuteTime": {
     "end_time": "2022-08-11T06:18:27.046439Z",
     "start_time": "2022-08-11T06:18:26.991587Z"
    }
   },
   "outputs": [],
   "source": [
    "from brainstat.stats.SLM import SLM\n",
    "\n",
    "contrast = grp_dum[:,0] - grp_dum[:,1]\n",
    "slm = SLM(model, contrast, correction=\"fdr\")\n",
    "slm.fit(data)"
   ]
  },
  {
   "cell_type": "markdown",
   "id": "6d175806",
   "metadata": {},
   "source": [
    "when we put contrast = patient groups - normal controls, we get t-values of these contrasts"
   ]
  },
  {
   "cell_type": "code",
   "execution_count": 39,
   "id": "52df3d69",
   "metadata": {
    "ExecuteTime": {
     "end_time": "2022-08-11T06:18:28.459697Z",
     "start_time": "2022-08-11T06:18:28.439710Z"
    }
   },
   "outputs": [
    {
     "data": {
      "text/plain": [
       "array([[2.14876103, 1.23186571, 3.12476075, 1.92518485, 1.95904819,\n",
       "        3.39230119, 2.78195211, 1.6217462 , 0.78672987, 2.60300912,\n",
       "        1.67177175, 1.63802031, 1.48959521, 0.30324139, 2.44473167,\n",
       "        1.58025548, 2.08427581, 1.57246564, 2.61300185, 2.3043656 ,\n",
       "        1.32283402, 1.43303737, 1.39847783, 3.35928534, 1.09629441,\n",
       "        1.55050335, 1.51088932, 2.93119455, 1.99455004, 2.30888821,\n",
       "        3.26062455, 2.316518  , 2.62426723, 1.85550358, 1.23774366,\n",
       "        2.44618028, 2.42998781, 3.19399333, 2.11057079, 1.05533982,\n",
       "        1.16205301, 2.36243894, 3.32433216, 1.86276838, 0.55875263,\n",
       "        2.1272764 , 2.53680982, 1.77572975, 0.96535913, 1.85895688,\n",
       "        1.04059509, 2.42195584, 1.79071038, 2.58530215, 1.8555495 ,\n",
       "        1.28948764, 2.95795313, 3.5265642 , 2.37801895, 2.15374232,\n",
       "        0.57181577, 1.4125735 , 1.26812938, 0.85087741, 1.56260274,\n",
       "        2.70899759, 1.51460081, 1.06539731, 2.59570729, 1.79732002,\n",
       "        1.38070694, 0.82210246, 1.12505329, 2.22272447, 1.6597432 ,\n",
       "        1.38340068, 1.05446951, 0.60793982, 1.16324667, 1.14025699,\n",
       "        1.61973612, 1.72458642, 3.01881976, 0.85602747, 1.62503686,\n",
       "        2.18002497, 1.21119249, 2.14132852, 0.90676318, 2.28976961,\n",
       "        1.48843455, 2.29610428, 1.07673471, 0.69007071, 0.97572406,\n",
       "        0.82028504, 0.44105152, 1.5173868 , 0.71444991, 1.13891527,\n",
       "        1.74662038, 1.62125718, 1.81612676, 2.86127775, 0.48963315,\n",
       "        3.28727712, 4.53655116, 1.07890986, 3.33047547, 4.5454522 ,\n",
       "        1.76127332, 0.31857211, 1.58489202, 2.64131967, 2.48896164,\n",
       "        1.49928948, 1.83109802, 1.33170507, 2.15576086, 1.62414736,\n",
       "        1.56392543, 3.26453802, 2.1325655 , 2.8788841 , 2.29305033,\n",
       "        2.1136247 , 2.37869936, 0.82954223, 0.97640369, 2.19507823,\n",
       "        1.52557443, 1.94718938, 2.23970778, 3.02840945, 0.92201272,\n",
       "        2.14312449, 1.67928438, 2.42851968, 1.82281035, 1.91919074,\n",
       "        3.47122595, 3.26042077, 2.29644614, 1.03201611, 2.00925585,\n",
       "        1.99021437, 2.04662991, 1.36067896, 1.44835831, 2.31127767,\n",
       "        2.11080698, 0.37107504, 0.36025533, 2.10589067, 2.37850315,\n",
       "        1.44694622, 1.74175016, 1.99921285, 1.04170012, 1.6395154 ,\n",
       "        0.81761838, 1.12336892, 3.27217298, 2.522678  , 1.29877981,\n",
       "        1.21166477, 1.76679801, 1.49213006, 0.6083127 , 1.36203566,\n",
       "        2.49453458, 1.30730128, 1.64829703, 2.1083993 , 2.29997221,\n",
       "        0.89130916, 1.45634453, 1.84943853, 1.28920999, 1.82570771,\n",
       "        1.03176736, 2.41118421, 1.66102103, 1.0911323 , 2.06951651,\n",
       "        1.19429041, 0.62465349, 1.25187807, 0.37432438, 1.16503936,\n",
       "        1.39186253, 1.73343665, 2.15637382, 1.24466199, 1.13280657,\n",
       "        1.55725527, 0.99677056, 1.34060823, 1.10842498, 2.12423464]])"
      ]
     },
     "execution_count": 39,
     "metadata": {},
     "output_type": "execute_result"
    }
   ],
   "source": [
    "slm.t"
   ]
  },
  {
   "cell_type": "markdown",
   "id": "a0d8d42b",
   "metadata": {},
   "source": [
    "we save t-values of group differences in cortical eigenvectors for future correlation analysis with neurotransmitter distribution"
   ]
  },
  {
   "cell_type": "code",
   "execution_count": 40,
   "id": "a580af35",
   "metadata": {
    "ExecuteTime": {
     "end_time": "2022-08-11T06:19:32.850269Z",
     "start_time": "2022-08-11T06:19:32.832317Z"
    }
   },
   "outputs": [],
   "source": [
    "pd.DataFrame([slm.t[0]]).T.to_csv(\"./fig1/total_t_value.csv\", header=False, index=False)"
   ]
  },
  {
   "cell_type": "markdown",
   "id": "c70d2b6d",
   "metadata": {},
   "source": [
    "we will get p-values"
   ]
  },
  {
   "cell_type": "code",
   "execution_count": 41,
   "id": "c3e1bd96",
   "metadata": {},
   "outputs": [],
   "source": [
    "rv = sp.stats.t(df=slm.df)\n",
    "cdf = rv.cdf(slm.t)\n",
    "pval = 1-cdf"
   ]
  },
  {
   "cell_type": "code",
   "execution_count": 42,
   "id": "9171bb57",
   "metadata": {
    "ExecuteTime": {
     "end_time": "2022-08-11T06:18:31.522489Z",
     "start_time": "2022-08-11T06:18:31.507504Z"
    },
    "scrolled": true
   },
   "outputs": [
    {
     "data": {
      "text/plain": [
       "array([[1.70843385e-02, 1.10504060e-01, 1.17686239e-03, 2.85830892e-02,\n",
       "        2.65041737e-02, 5.04043823e-04, 3.25268804e-03, 5.40687948e-02,\n",
       "        2.16688934e-01, 5.35318686e-03, 4.89129587e-02, 5.23455855e-02,\n",
       "        6.98044080e-02, 3.81181040e-01, 8.15994233e-03, 5.86688688e-02,\n",
       "        1.98952907e-02, 5.95663670e-02, 5.20943456e-03, 1.16787935e-02,\n",
       "        9.45165173e-02, 7.75478976e-02, 8.25959052e-02, 5.61047960e-04,\n",
       "        1.37846241e-01, 6.21556472e-02, 6.70506941e-02, 2.11018555e-03,\n",
       "        2.44638849e-02, 1.15472713e-02, 7.69557690e-04, 1.13283487e-02,\n",
       "        5.05156468e-03, 3.32962939e-02, 1.09414901e-01, 8.12919175e-03,\n",
       "        8.47887527e-03, 9.49240286e-04, 1.87042323e-02, 1.46959324e-01,\n",
       "        1.24047409e-01, 1.00864947e-02, 6.27960925e-04, 3.27763278e-02,\n",
       "        2.88815796e-01, 1.79799812e-02, 6.39942981e-03, 3.94730859e-02,\n",
       "        1.68395272e-01, 3.30482752e-02, 1.50338583e-01, 8.65725439e-03,\n",
       "        3.82458438e-02, 5.61673629e-03, 3.32929855e-02, 1.00163355e-01,\n",
       "        1.94949071e-03, 3.23716924e-04, 9.69344517e-03, 1.68822983e-02,\n",
       "        2.84391647e-01, 8.05074529e-02, 1.03909297e-01, 1.98477403e-01,\n",
       "        6.07183499e-02, 3.99618951e-03, 6.65795836e-02, 1.44684212e-01,\n",
       "        5.46048352e-03, 3.77145049e-02, 8.52876028e-02, 2.06527891e-01,\n",
       "        1.31685731e-01, 1.42906687e-02, 5.01147367e-02, 8.48753516e-02,\n",
       "        1.47157339e-01, 2.72331472e-01, 1.23806340e-01, 1.28508036e-01,\n",
       "        5.42847650e-02, 4.39101992e-02, 1.62511526e-03, 1.97057101e-01,\n",
       "        5.37167280e-02, 1.58502913e-02, 1.14397394e-01, 1.73897015e-02,\n",
       "        1.83401227e-01, 1.21123118e-02, 6.99570058e-02, 1.19224538e-02,\n",
       "        1.42148601e-01, 2.45907311e-01, 1.65826770e-01, 2.07042874e-01,\n",
       "        3.30083702e-01, 6.62276617e-02, 2.38341347e-01, 1.28786272e-01,\n",
       "        4.19508314e-02, 5.41212734e-02, 3.62360513e-02, 2.58936351e-03,\n",
       "        3.12755255e-01, 7.07025846e-04, 8.27096725e-06, 1.41665641e-01,\n",
       "        6.15682692e-04, 7.98862468e-06, 4.06880563e-02, 3.75371528e-01,\n",
       "        5.81398146e-02, 4.82081820e-03, 7.26644547e-03, 6.85399911e-02,\n",
       "        3.50938536e-02, 9.30552224e-02, 1.68010197e-02, 5.38117125e-02,\n",
       "        6.05628401e-02, 7.60062689e-04, 1.77557986e-02, 2.46009198e-03,\n",
       "        1.20136548e-02, 1.85699801e-02, 9.67659400e-03, 2.04427819e-01,\n",
       "        1.65659256e-01, 1.52843154e-02, 6.52018806e-02, 2.72171151e-02,\n",
       "        1.37086865e-02, 1.57881816e-03, 1.79416666e-01, 1.73154839e-02,\n",
       "        4.81743074e-02, 8.51123372e-03, 3.57223782e-02, 2.89650709e-02,\n",
       "        3.89062619e-04, 7.70055144e-04, 1.19122829e-02, 1.52328765e-01,\n",
       "        2.36588215e-02, 2.47056528e-02, 2.17139748e-02, 8.84006016e-02,\n",
       "        7.53875948e-02, 1.14783124e-02, 1.86938193e-02, 3.55699637e-01,\n",
       "        3.59723803e-01, 1.89116015e-02, 9.68145075e-03, 7.55847348e-02,\n",
       "        4.23776109e-02, 2.42061293e-02, 1.50083519e-01, 5.21895217e-02,\n",
       "        2.07799887e-01, 1.32041138e-01, 7.41853139e-04, 6.64528718e-03,\n",
       "        9.85652575e-02, 1.14307358e-01, 4.02201506e-02, 6.94720412e-02,\n",
       "        2.72208343e-01, 8.81870464e-02, 7.16031584e-03, 9.71164423e-02,\n",
       "        5.12804226e-02, 1.88002021e-02, 1.18078204e-02, 1.87495919e-01,\n",
       "        7.42801366e-02, 3.37356580e-02, 1.00211399e-01, 3.55015893e-02,\n",
       "        1.52386736e-01, 8.90172230e-03, 4.99859439e-02, 1.38972840e-01,\n",
       "        2.05920497e-02, 1.17653473e-01, 2.66840163e-01, 1.06827956e-01,\n",
       "        3.54494270e-01, 1.23444918e-01, 8.35902146e-02, 4.31143650e-02,\n",
       "        1.67764054e-02, 1.08143020e-01, 1.30058416e-01, 6.13502916e-02,\n",
       "        1.60690864e-01, 9.16057574e-02, 1.35223781e-01, 1.81100157e-02]])"
      ]
     },
     "execution_count": 42,
     "metadata": {},
     "output_type": "execute_result"
    }
   ],
   "source": [
    "pval"
   ]
  },
  {
   "cell_type": "markdown",
   "id": "d22999fa",
   "metadata": {},
   "source": [
    "we will get corrected p-values"
   ]
  },
  {
   "cell_type": "code",
   "execution_count": 43,
   "id": "dcd2658a",
   "metadata": {
    "ExecuteTime": {
     "end_time": "2022-08-11T06:18:39.242863Z",
     "start_time": "2022-08-11T06:18:39.177980Z"
    }
   },
   "outputs": [],
   "source": [
    "# two-tailed\n",
    "pval = stats.t.sf(np.abs(slm.t), slm.df)*2\n",
    "\n",
    "from  statsmodels.stats import multitest\n",
    "pcor = multitest.fdrcorrection(pval.ravel())"
   ]
  },
  {
   "cell_type": "code",
   "execution_count": 44,
   "id": "112df2a8",
   "metadata": {
    "ExecuteTime": {
     "end_time": "2022-08-07T17:24:51.916945Z",
     "start_time": "2022-08-07T17:24:51.857074Z"
    }
   },
   "outputs": [
    {
     "data": {
      "text/plain": [
       "array([0.10806629, 0.2966552 , 0.031383  , 0.14291545, 0.13591884,\n",
       "       0.023694  , 0.05913978, 0.19562077, 0.46599771, 0.07747222,\n",
       "       0.19371469, 0.19562077, 0.22208573, 0.76236208, 0.09112899,\n",
       "       0.20767741, 0.11208614, 0.2090048 , 0.07747222, 0.09317163,\n",
       "       0.27004719, 0.23860892, 0.25029062, 0.023694  , 0.34036109,\n",
       "       0.21069711, 0.21983834, 0.04442496, 0.12834105, 0.09317163,\n",
       "       0.023694  , 0.09317163, 0.07747222, 0.15668844, 0.29571595,\n",
       "       0.09112899, 0.09112899, 0.02712115, 0.10806629, 0.35037462,\n",
       "       0.32012235, 0.09317163, 0.023694  , 0.15668844, 0.59858196,\n",
       "       0.10806629, 0.08532573, 0.16977671, 0.38271653, 0.15668844,\n",
       "       0.35373784, 0.09112899, 0.16628628, 0.07747222, 0.15668844,\n",
       "       0.278365  , 0.04332202, 0.023694  , 0.09231853, 0.10806629,\n",
       "       0.5924826 , 0.24582428, 0.28664634, 0.43862409, 0.20937362,\n",
       "       0.06949895, 0.21983834, 0.34863665, 0.07747222, 0.16577804,\n",
       "       0.25270401, 0.44929705, 0.33010284, 0.1058568 , 0.19462034,\n",
       "       0.25270401, 0.35037462, 0.57032769, 0.32012235, 0.32811789,\n",
       "       0.19562077, 0.17741495, 0.03823801, 0.43790467, 0.19562077,\n",
       "       0.10806629, 0.30303945, 0.10806629, 0.41213759, 0.09317163,\n",
       "       0.22208573, 0.09317163, 0.34460267, 0.52320704, 0.37903262,\n",
       "       0.44929705, 0.67709477, 0.21983834, 0.50982106, 0.32811789,\n",
       "       0.17475303, 0.19562077, 0.16104912, 0.04932121, 0.6448562 ,\n",
       "       0.023694  , 0.00165419, 0.34460267, 0.023694  , 0.00165419,\n",
       "       0.17131813, 0.75451563, 0.2076422 , 0.07747222, 0.08807813,\n",
       "       0.22208573, 0.16055001, 0.26778481, 0.10806629, 0.19562077,\n",
       "       0.20937362, 0.023694  , 0.10806629, 0.04920184, 0.09317163,\n",
       "       0.10806629, 0.09231853, 0.44929191, 0.37903262, 0.10806629,\n",
       "       0.21916599, 0.13780818, 0.10346179, 0.03823801, 0.40546139,\n",
       "       0.10806629, 0.19269723, 0.09112899, 0.16055001, 0.14303739,\n",
       "       0.023694  , 0.023694  , 0.09317163, 0.35438776, 0.12788552,\n",
       "       0.12834105, 0.11898068, 0.25810395, 0.23437127, 0.09317163,\n",
       "       0.10806629, 0.72223276, 0.72671475, 0.10806629, 0.09231853,\n",
       "       0.23437127, 0.17475303, 0.12834105, 0.35373784, 0.19562077,\n",
       "       0.44929705, 0.33010284, 0.023694  , 0.08574564, 0.27764861,\n",
       "       0.30303945, 0.17114958, 0.22208573, 0.57032769, 0.25810395,\n",
       "       0.08807813, 0.27550764, 0.19562077, 0.10806629, 0.09317163,\n",
       "       0.41898529, 0.23395319, 0.15691004, 0.278365  , 0.16055001,\n",
       "       0.35438776, 0.09129972, 0.19462034, 0.34103764, 0.11440028,\n",
       "       0.3096144 , 0.56474109, 0.29267933, 0.72223276, 0.32012235,\n",
       "       0.25139914, 0.175977  , 0.10806629, 0.29426672, 0.32926181,\n",
       "       0.20974459, 0.37153957, 0.26552393, 0.3359597 , 0.10806629])"
      ]
     },
     "execution_count": 44,
     "metadata": {},
     "output_type": "execute_result"
    }
   ],
   "source": [
    "pcor[1]"
   ]
  },
  {
   "cell_type": "markdown",
   "id": "276f6a67",
   "metadata": {},
   "source": [
    "return significant indexes of t-values under corrected p-values < 0.055"
   ]
  },
  {
   "cell_type": "code",
   "execution_count": 45,
   "id": "30aefcec",
   "metadata": {
    "ExecuteTime": {
     "end_time": "2022-08-11T06:18:41.545647Z",
     "start_time": "2022-08-11T06:18:41.534677Z"
    }
   },
   "outputs": [],
   "source": [
    "sig_idx = np.where(pcor[1]<0.055)"
   ]
  },
  {
   "cell_type": "code",
   "execution_count": 46,
   "id": "d29ecb50",
   "metadata": {
    "ExecuteTime": {
     "end_time": "2022-08-11T06:18:41.735142Z",
     "start_time": "2022-08-11T06:18:41.720181Z"
    }
   },
   "outputs": [],
   "source": [
    "tot_t = slm.t.T\n",
    "sig_t = np.zeros((200,1))\n",
    "sig_t[sig_idx] = tot_t[sig_idx]"
   ]
  },
  {
   "cell_type": "code",
   "execution_count": 47,
   "id": "a9ac142b",
   "metadata": {
    "ExecuteTime": {
     "end_time": "2022-08-07T17:25:32.832888Z",
     "start_time": "2022-08-07T17:25:32.819957Z"
    }
   },
   "outputs": [
    {
     "data": {
      "text/plain": [
       "array([[0.        ],\n",
       "       [0.        ],\n",
       "       [3.12476075],\n",
       "       [0.        ],\n",
       "       [0.        ],\n",
       "       [3.39230119],\n",
       "       [0.        ],\n",
       "       [0.        ],\n",
       "       [0.        ],\n",
       "       [0.        ],\n",
       "       [0.        ],\n",
       "       [0.        ],\n",
       "       [0.        ],\n",
       "       [0.        ],\n",
       "       [0.        ],\n",
       "       [0.        ],\n",
       "       [0.        ],\n",
       "       [0.        ],\n",
       "       [0.        ],\n",
       "       [0.        ],\n",
       "       [0.        ],\n",
       "       [0.        ],\n",
       "       [0.        ],\n",
       "       [3.35928534],\n",
       "       [0.        ],\n",
       "       [0.        ],\n",
       "       [0.        ],\n",
       "       [2.93119455],\n",
       "       [0.        ],\n",
       "       [0.        ],\n",
       "       [3.26062455],\n",
       "       [0.        ],\n",
       "       [0.        ],\n",
       "       [0.        ],\n",
       "       [0.        ],\n",
       "       [0.        ],\n",
       "       [0.        ],\n",
       "       [3.19399333],\n",
       "       [0.        ],\n",
       "       [0.        ],\n",
       "       [0.        ],\n",
       "       [0.        ],\n",
       "       [3.32433216],\n",
       "       [0.        ],\n",
       "       [0.        ],\n",
       "       [0.        ],\n",
       "       [0.        ],\n",
       "       [0.        ],\n",
       "       [0.        ],\n",
       "       [0.        ],\n",
       "       [0.        ],\n",
       "       [0.        ],\n",
       "       [0.        ],\n",
       "       [0.        ],\n",
       "       [0.        ],\n",
       "       [0.        ],\n",
       "       [2.95795313],\n",
       "       [3.5265642 ],\n",
       "       [0.        ],\n",
       "       [0.        ],\n",
       "       [0.        ],\n",
       "       [0.        ],\n",
       "       [0.        ],\n",
       "       [0.        ],\n",
       "       [0.        ],\n",
       "       [0.        ],\n",
       "       [0.        ],\n",
       "       [0.        ],\n",
       "       [0.        ],\n",
       "       [0.        ],\n",
       "       [0.        ],\n",
       "       [0.        ],\n",
       "       [0.        ],\n",
       "       [0.        ],\n",
       "       [0.        ],\n",
       "       [0.        ],\n",
       "       [0.        ],\n",
       "       [0.        ],\n",
       "       [0.        ],\n",
       "       [0.        ],\n",
       "       [0.        ],\n",
       "       [0.        ],\n",
       "       [3.01881976],\n",
       "       [0.        ],\n",
       "       [0.        ],\n",
       "       [0.        ],\n",
       "       [0.        ],\n",
       "       [0.        ],\n",
       "       [0.        ],\n",
       "       [0.        ],\n",
       "       [0.        ],\n",
       "       [0.        ],\n",
       "       [0.        ],\n",
       "       [0.        ],\n",
       "       [0.        ],\n",
       "       [0.        ],\n",
       "       [0.        ],\n",
       "       [0.        ],\n",
       "       [0.        ],\n",
       "       [0.        ],\n",
       "       [0.        ],\n",
       "       [0.        ],\n",
       "       [0.        ],\n",
       "       [2.86127775],\n",
       "       [0.        ],\n",
       "       [3.28727712],\n",
       "       [4.53655116],\n",
       "       [0.        ],\n",
       "       [3.33047547],\n",
       "       [4.5454522 ],\n",
       "       [0.        ],\n",
       "       [0.        ],\n",
       "       [0.        ],\n",
       "       [0.        ],\n",
       "       [0.        ],\n",
       "       [0.        ],\n",
       "       [0.        ],\n",
       "       [0.        ],\n",
       "       [0.        ],\n",
       "       [0.        ],\n",
       "       [0.        ],\n",
       "       [3.26453802],\n",
       "       [0.        ],\n",
       "       [2.8788841 ],\n",
       "       [0.        ],\n",
       "       [0.        ],\n",
       "       [0.        ],\n",
       "       [0.        ],\n",
       "       [0.        ],\n",
       "       [0.        ],\n",
       "       [0.        ],\n",
       "       [0.        ],\n",
       "       [0.        ],\n",
       "       [3.02840945],\n",
       "       [0.        ],\n",
       "       [0.        ],\n",
       "       [0.        ],\n",
       "       [0.        ],\n",
       "       [0.        ],\n",
       "       [0.        ],\n",
       "       [3.47122595],\n",
       "       [3.26042077],\n",
       "       [0.        ],\n",
       "       [0.        ],\n",
       "       [0.        ],\n",
       "       [0.        ],\n",
       "       [0.        ],\n",
       "       [0.        ],\n",
       "       [0.        ],\n",
       "       [0.        ],\n",
       "       [0.        ],\n",
       "       [0.        ],\n",
       "       [0.        ],\n",
       "       [0.        ],\n",
       "       [0.        ],\n",
       "       [0.        ],\n",
       "       [0.        ],\n",
       "       [0.        ],\n",
       "       [0.        ],\n",
       "       [0.        ],\n",
       "       [0.        ],\n",
       "       [0.        ],\n",
       "       [3.27217298],\n",
       "       [0.        ],\n",
       "       [0.        ],\n",
       "       [0.        ],\n",
       "       [0.        ],\n",
       "       [0.        ],\n",
       "       [0.        ],\n",
       "       [0.        ],\n",
       "       [0.        ],\n",
       "       [0.        ],\n",
       "       [0.        ],\n",
       "       [0.        ],\n",
       "       [0.        ],\n",
       "       [0.        ],\n",
       "       [0.        ],\n",
       "       [0.        ],\n",
       "       [0.        ],\n",
       "       [0.        ],\n",
       "       [0.        ],\n",
       "       [0.        ],\n",
       "       [0.        ],\n",
       "       [0.        ],\n",
       "       [0.        ],\n",
       "       [0.        ],\n",
       "       [0.        ],\n",
       "       [0.        ],\n",
       "       [0.        ],\n",
       "       [0.        ],\n",
       "       [0.        ],\n",
       "       [0.        ],\n",
       "       [0.        ],\n",
       "       [0.        ],\n",
       "       [0.        ],\n",
       "       [0.        ],\n",
       "       [0.        ],\n",
       "       [0.        ],\n",
       "       [0.        ],\n",
       "       [0.        ]])"
      ]
     },
     "execution_count": 47,
     "metadata": {},
     "output_type": "execute_result"
    }
   ],
   "source": [
    "sig_t"
   ]
  },
  {
   "cell_type": "markdown",
   "id": "3899169a",
   "metadata": {},
   "source": [
    "import maximum value among significant values"
   ]
  },
  {
   "cell_type": "code",
   "execution_count": null,
   "id": "32ec4a4c",
   "metadata": {
    "ExecuteTime": {
     "end_time": "2022-08-11T06:18:44.101807Z",
     "start_time": "2022-08-11T06:18:44.092832Z"
    }
   },
   "outputs": [],
   "source": [
    "np.max(sig_t)"
   ]
  },
  {
   "cell_type": "markdown",
   "id": "7bf463cd",
   "metadata": {},
   "source": [
    "we only plot significant regions onto brain surface "
   ]
  },
  {
   "cell_type": "code",
   "execution_count": null,
   "id": "a25a0140",
   "metadata": {
    "ExecuteTime": {
     "end_time": "2022-08-11T06:18:49.857114Z",
     "start_time": "2022-08-11T06:18:48.235410Z"
    }
   },
   "outputs": [],
   "source": [
    "data = [None]*1\n",
    "data[0] = map_to_labels(sig_t[:,0], labeling, mask=mask, fill=np.nan)\n",
    "\n",
    "\n",
    "label_text = ['sig_t']\n",
    "plot_hemispheres(surf_lh, surf_rh, array_name=data, size=(1200,600),\n",
    "                cmap='Reds', color_bar=False, label_text=label_text, color_range=(0,np.max(sig_t)), zoom=1)"
   ]
  },
  {
   "cell_type": "markdown",
   "id": "6f10a5a3",
   "metadata": {},
   "source": [
    "## visualization"
   ]
  },
  {
   "cell_type": "markdown",
   "id": "f5730792",
   "metadata": {},
   "source": [
    "### radar chart"
   ]
  },
  {
   "cell_type": "markdown",
   "id": "5f5d2d27",
   "metadata": {},
   "source": [
    "classify 200 nodes into 7 networks"
   ]
  },
  {
   "cell_type": "code",
   "execution_count": null,
   "id": "7f951136",
   "metadata": {
    "ExecuteTime": {
     "end_time": "2022-08-11T06:18:51.700180Z",
     "start_time": "2022-08-11T06:18:51.680254Z"
    }
   },
   "outputs": [],
   "source": [
    "Vis_idx = list(range(1-1,14+1-1)) + list(range(101-1,115+1-1))\n",
    "SomMot_idx = list(range(15-1,30+1-1)) + list(range(116-1,134+1-1))\n",
    "DorsAttn_idx = list(range(31-1,43+1-1)) + list(range(135-1,147+1-1))\n",
    "SalVentAttn_idx = list(range(44-1,54+1-1)) + list(range(148-1,158+1-1))\n",
    "Limbic_idx = list(range(55-1,60+1-1)) + list(range(159-1,164+1-1))\n",
    "Cont_idx = list(range(61-1,73+1-1)) + list(range(165-1,181+1-1))\n",
    "Default_idx = list(range(74-1,100+1-1)) + list(range(182-1,200+1-1))"
   ]
  },
  {
   "cell_type": "code",
   "execution_count": null,
   "id": "385646bd",
   "metadata": {
    "ExecuteTime": {
     "end_time": "2022-08-11T06:18:52.840132Z",
     "start_time": "2022-08-11T06:18:52.831157Z"
    }
   },
   "outputs": [],
   "source": [
    "Vis_m = np.mean(tot_t[Vis_idx])\n",
    "SomMot_m = np.mean(tot_t[SomMot_idx])\n",
    "DorsAttn_m = np.mean(tot_t[DorsAttn_idx])\n",
    "SalVentAttn_m = np.mean(tot_t[SalVentAttn_idx])\n",
    "Limbic_m = np.mean(tot_t[Limbic_idx])\n",
    "Cont_m = np.mean(tot_t[Cont_idx])\n",
    "Default_m = np.mean(tot_t[Default_idx])"
   ]
  },
  {
   "cell_type": "code",
   "execution_count": null,
   "id": "7870e5cd",
   "metadata": {
    "ExecuteTime": {
     "end_time": "2022-08-11T06:18:53.934235Z",
     "start_time": "2022-08-11T06:18:53.918258Z"
    }
   },
   "outputs": [],
   "source": [
    "df = pd.DataFrame({\n",
    "    'Visual': [Vis_m],\n",
    "    'Somatomotor': [SomMot_m],\n",
    "    'Dorsal attention': [DorsAttn_m],\n",
    "    'Ventral attention': [SalVentAttn_m],\n",
    "    'Limbic': [Limbic_m],\n",
    "    'Frontoparietal': [Cont_m],\n",
    "    'Default mode': [Default_m]\n",
    "})"
   ]
  },
  {
   "cell_type": "code",
   "execution_count": null,
   "id": "af463949",
   "metadata": {
    "ExecuteTime": {
     "end_time": "2022-08-11T06:18:54.683203Z",
     "start_time": "2022-08-11T06:18:54.676226Z"
    }
   },
   "outputs": [],
   "source": [
    "y = df.values[0]\n",
    "y = numpy.concatenate((y,y[0]),axis=None)"
   ]
  },
  {
   "cell_type": "markdown",
   "id": "23843c6d",
   "metadata": {},
   "source": [
    "make spider-plot"
   ]
  },
  {
   "cell_type": "code",
   "execution_count": null,
   "id": "ffb6aef7",
   "metadata": {
    "ExecuteTime": {
     "end_time": "2022-08-11T06:19:00.553924Z",
     "start_time": "2022-08-11T06:19:00.222811Z"
    }
   },
   "outputs": [],
   "source": [
    "labels = df.columns[:]\n",
    "num_labels = len(labels)\n",
    "\n",
    "labels = ['','','','','','','']\n",
    "\n",
    "angles = [x/float(num_labels)*(2*pi) for x in range(num_labels)] \n",
    "angles += angles[:1] \n",
    "\n",
    "\n",
    "fig = plt.figure(figsize=(5,5))\n",
    "# fig.set_facecolor('white')\n",
    " \n",
    "    \n",
    "ax = plt.subplot(polar=True)\n",
    "ax.set_theta_offset(pi / 2) ## starting point\n",
    "ax.set_theta_direction(-1) ## direction\n",
    "    \n",
    "plt.xticks(angles[:-1], labels, fontsize=13) ## x-ticks label\n",
    "ax.tick_params(axis='x', which='major', pad=15) ## make empty spaces between x-axes and ticks\n",
    " \n",
    "ax.set_rlabel_position(0) ## y-axis degree\n",
    "plt.yticks([1,1.5,2,2.5],['1','1.5','2','2.5'], fontsize=20) ## y-ticks\n",
    "plt.ylim(1,2.5)\n",
    "    \n",
    "ax.plot(angles, y, linewidth=2, linestyle='solid', color='black') ## print spider-plot     "
   ]
  },
  {
   "cell_type": "markdown",
   "id": "fcee12fe",
   "metadata": {},
   "source": [
    "return values of spider plot"
   ]
  },
  {
   "cell_type": "code",
   "execution_count": null,
   "id": "4fbd9827",
   "metadata": {
    "ExecuteTime": {
     "end_time": "2022-08-11T06:19:03.237778Z",
     "start_time": "2022-08-11T06:19:03.215803Z"
    }
   },
   "outputs": [],
   "source": [
    "df"
   ]
  },
  {
   "cell_type": "markdown",
   "id": "f07d8a70",
   "metadata": {},
   "source": [
    "we make network-wide brain surfaces to append spider-plot labels."
   ]
  },
  {
   "cell_type": "code",
   "execution_count": null,
   "id": "963faa4c",
   "metadata": {
    "ExecuteTime": {
     "end_time": "2022-08-11T06:19:05.386030Z",
     "start_time": "2022-08-11T06:19:05.365052Z"
    }
   },
   "outputs": [],
   "source": [
    "Vis_t = np.zeros((200,1))\n",
    "Vis_t[Vis_idx] = tot_t[Vis_idx]\n",
    "\n",
    "SomMot_t = np.zeros((200,1))\n",
    "SomMot_t[SomMot_idx] = tot_t[SomMot_idx]\n",
    "\n",
    "DorsAttn_t = np.zeros((200,1))\n",
    "DorsAttn_t[DorsAttn_idx] = tot_t[DorsAttn_idx]\n",
    "\n",
    "SalVentAttn_t = np.zeros((200,1))\n",
    "SalVentAttn_t[SalVentAttn_idx] = tot_t[SalVentAttn_idx]\n",
    "\n",
    "Limbic_t = np.zeros((200,1))\n",
    "Limbic_t[Limbic_idx] = tot_t[Limbic_idx]\n",
    "\n",
    "Cont_t = np.zeros((200,1))\n",
    "Cont_t[Cont_idx] = tot_t[Cont_idx]\n",
    "\n",
    "Default_t = np.zeros((200,1))\n",
    "Default_t[Default_idx] = tot_t[Default_idx]"
   ]
  },
  {
   "cell_type": "code",
   "execution_count": null,
   "id": "d75f0a66",
   "metadata": {
    "ExecuteTime": {
     "end_time": "2022-08-11T06:19:08.070820Z",
     "start_time": "2022-08-11T06:19:06.806197Z"
    }
   },
   "outputs": [],
   "source": [
    "data = [None]*1\n",
    "data[0] = map_to_labels(Vis_t[:,0], labeling, mask=mask, fill=np.nan)\n",
    "\n",
    "\n",
    "label_text = ['Vis_t']\n",
    "plot_hemispheres(surf_lh, surf_rh, array_name=data, size=(1200,600),\n",
    "                cmap='Reds', color_bar=False, label_text=label_text, color_range=(0,np.max(Vis_t)), zoom=1)"
   ]
  },
  {
   "cell_type": "code",
   "execution_count": null,
   "id": "b1d1da81",
   "metadata": {
    "ExecuteTime": {
     "end_time": "2022-08-07T17:28:16.480454Z",
     "start_time": "2022-08-07T17:28:15.285925Z"
    }
   },
   "outputs": [],
   "source": [
    "data = [None]*1\n",
    "data[0] = map_to_labels(SomMot_t[:,0], labeling, mask=mask, fill=np.nan)\n",
    "\n",
    "\n",
    "label_text = ['SomMot_t']\n",
    "plot_hemispheres(surf_lh, surf_rh, array_name=data, size=(1200,600),\n",
    "                cmap='Reds', color_bar=False, label_text=label_text, color_range=(0,np.max(sig_t)), zoom=1)"
   ]
  },
  {
   "cell_type": "code",
   "execution_count": null,
   "id": "04675881",
   "metadata": {
    "ExecuteTime": {
     "end_time": "2022-08-07T17:28:24.013240Z",
     "start_time": "2022-08-07T17:28:22.566880Z"
    }
   },
   "outputs": [],
   "source": [
    "data = [None]*1\n",
    "data[0] = map_to_labels(DorsAttn_t[:,0], labeling, mask=mask, fill=np.nan)\n",
    "\n",
    "\n",
    "label_text = ['DorsAttn_t']\n",
    "plot_hemispheres(surf_lh, surf_rh, array_name=data, size=(1200,600),\n",
    "                cmap='Reds', color_bar=False, label_text=label_text, color_range=(0,np.max(sig_t)), zoom=1)"
   ]
  },
  {
   "cell_type": "code",
   "execution_count": null,
   "id": "1f005e5c",
   "metadata": {
    "ExecuteTime": {
     "end_time": "2022-08-07T17:28:31.813180Z",
     "start_time": "2022-08-07T17:28:30.553142Z"
    }
   },
   "outputs": [],
   "source": [
    "data = [None]*1\n",
    "data[0] = map_to_labels(SalVentAttn_t[:,0], labeling, mask=mask, fill=np.nan)\n",
    "\n",
    "\n",
    "label_text = ['SalVentAttn_t']\n",
    "plot_hemispheres(surf_lh, surf_rh, array_name=data, size=(1200,600),\n",
    "                cmap='Reds', color_bar=False, label_text=label_text, color_range=(0,np.max(sig_t)), zoom=1)"
   ]
  },
  {
   "cell_type": "code",
   "execution_count": null,
   "id": "cdebd7a6",
   "metadata": {
    "ExecuteTime": {
     "end_time": "2022-08-07T17:28:42.080080Z",
     "start_time": "2022-08-07T17:28:40.795199Z"
    }
   },
   "outputs": [],
   "source": [
    "data = [None]*1\n",
    "data[0] = map_to_labels(Limbic_t[:,0], labeling, mask=mask, fill=np.nan)\n",
    "\n",
    "\n",
    "label_text = ['Limbic_t']\n",
    "plot_hemispheres(surf_lh, surf_rh, array_name=data, size=(1200,600),\n",
    "                cmap='Reds', color_bar=False, label_text=label_text, color_range=(0,np.max(sig_t)), zoom=1)"
   ]
  },
  {
   "cell_type": "code",
   "execution_count": null,
   "id": "49d0317b",
   "metadata": {
    "ExecuteTime": {
     "end_time": "2022-08-07T17:28:52.516819Z",
     "start_time": "2022-08-07T17:28:51.081795Z"
    }
   },
   "outputs": [],
   "source": [
    "data = [None]*1\n",
    "data[0] = map_to_labels(Cont_t[:,0], labeling, mask=mask, fill=np.nan)\n",
    "\n",
    "\n",
    "label_text = ['Cont_t']\n",
    "plot_hemispheres(surf_lh, surf_rh, array_name=data, size=(1200,600),\n",
    "                cmap='Reds', color_bar=False, label_text=label_text, color_range=(0,np.max(sig_t)), zoom=1)"
   ]
  },
  {
   "cell_type": "code",
   "execution_count": null,
   "id": "f23230da",
   "metadata": {
    "ExecuteTime": {
     "end_time": "2022-08-07T17:29:01.593990Z",
     "start_time": "2022-08-07T17:29:00.263414Z"
    }
   },
   "outputs": [],
   "source": [
    "data = [None]*1\n",
    "data[0] = map_to_labels(Default_t[:,0], labeling, mask=mask, fill=np.nan)\n",
    "\n",
    "\n",
    "label_text = ['Default_t']\n",
    "plot_hemispheres(surf_lh, surf_rh, array_name=data, size=(1200,600),\n",
    "                cmap='Reds', color_bar=False, label_text=label_text, color_range=(0,np.max(sig_t)), zoom=1)"
   ]
  },
  {
   "cell_type": "markdown",
   "id": "d7c6e097",
   "metadata": {},
   "source": [
    "not only significant regions, but also all regions"
   ]
  },
  {
   "cell_type": "code",
   "execution_count": null,
   "id": "e517cd78",
   "metadata": {
    "ExecuteTime": {
     "end_time": "2022-08-07T17:29:32.327200Z",
     "start_time": "2022-08-07T17:29:25.099526Z"
    }
   },
   "outputs": [],
   "source": [
    "data = [None]*1\n",
    "data[0] = map_to_labels(tot_t[:,0], labeling, mask=mask, fill=np.nan)\n",
    "\n",
    "\n",
    "label_text = ['whole t_value']\n",
    "plot_hemispheres(surf_lh, surf_rh, array_name=data, size=(1200,600),\n",
    "                cmap='Reds', color_bar=False, label_text=label_text, color_range=(0,4), zoom=1)"
   ]
  },
  {
   "cell_type": "markdown",
   "id": "128e1c5a",
   "metadata": {},
   "source": [
    "### scree plot"
   ]
  },
  {
   "cell_type": "markdown",
   "id": "1a02969a",
   "metadata": {},
   "source": [
    "we make scree plot of eigenvectors"
   ]
  },
  {
   "cell_type": "code",
   "execution_count": null,
   "id": "05dac6f5",
   "metadata": {
    "ExecuteTime": {
     "end_time": "2022-08-11T06:19:12.010303Z",
     "start_time": "2022-08-11T06:19:11.993324Z"
    }
   },
   "outputs": [],
   "source": [
    "ctx_df = pd.DataFrame(ctx_mean)"
   ]
  },
  {
   "cell_type": "code",
   "execution_count": null,
   "id": "70b9a1aa",
   "metadata": {
    "ExecuteTime": {
     "end_time": "2022-08-11T06:19:12.357384Z",
     "start_time": "2022-08-11T06:19:12.342388Z"
    },
    "scrolled": true
   },
   "outputs": [],
   "source": [
    "from sklearn import preprocessing"
   ]
  },
  {
   "cell_type": "code",
   "execution_count": null,
   "id": "a3ed68e2",
   "metadata": {
    "ExecuteTime": {
     "end_time": "2022-08-11T06:19:12.690455Z",
     "start_time": "2022-08-11T06:19:12.685470Z"
    }
   },
   "outputs": [],
   "source": [
    "scaler = preprocessing.StandardScaler()"
   ]
  },
  {
   "cell_type": "code",
   "execution_count": null,
   "id": "8ba482cb",
   "metadata": {
    "ExecuteTime": {
     "end_time": "2022-08-11T06:19:14.752935Z",
     "start_time": "2022-08-11T06:19:14.737978Z"
    }
   },
   "outputs": [],
   "source": [
    "scaled_sum = ctx_mean.copy()"
   ]
  },
  {
   "cell_type": "code",
   "execution_count": null,
   "id": "f0db16f5",
   "metadata": {
    "ExecuteTime": {
     "end_time": "2022-08-11T06:19:15.068093Z",
     "start_time": "2022-08-11T06:19:15.058154Z"
    }
   },
   "outputs": [],
   "source": [
    "scaled_sum = pd.DataFrame(scaler.fit_transform(scaled_sum))                         "
   ]
  },
  {
   "cell_type": "code",
   "execution_count": null,
   "id": "53894bef",
   "metadata": {
    "ExecuteTime": {
     "end_time": "2022-08-11T06:19:15.306455Z",
     "start_time": "2022-08-11T06:19:15.289500Z"
    }
   },
   "outputs": [],
   "source": [
    "from sklearn.decomposition import PCA"
   ]
  },
  {
   "cell_type": "code",
   "execution_count": null,
   "id": "f6fc3c67",
   "metadata": {
    "ExecuteTime": {
     "end_time": "2022-08-11T06:19:15.574764Z",
     "start_time": "2022-08-11T06:19:15.561809Z"
    },
    "scrolled": true
   },
   "outputs": [],
   "source": [
    "pca = PCA(n_components=5)"
   ]
  },
  {
   "cell_type": "code",
   "execution_count": null,
   "id": "59575583",
   "metadata": {
    "ExecuteTime": {
     "end_time": "2022-08-11T06:19:16.033511Z",
     "start_time": "2022-08-11T06:19:15.990625Z"
    }
   },
   "outputs": [],
   "source": [
    "Principal_components = pca.fit_transform(scaled_sum)"
   ]
  },
  {
   "cell_type": "code",
   "execution_count": null,
   "id": "9bd423ac",
   "metadata": {
    "ExecuteTime": {
     "end_time": "2022-08-11T06:19:16.443451Z",
     "start_time": "2022-08-11T06:19:16.429451Z"
    }
   },
   "outputs": [],
   "source": [
    "pca_df = pd.DataFrame(data = Principal_components, columns = ['PC1', 'PC2', 'PC3', 'PC4','PC5'])"
   ]
  },
  {
   "cell_type": "code",
   "execution_count": null,
   "id": "f74de181",
   "metadata": {
    "ExecuteTime": {
     "end_time": "2022-08-11T06:19:17.965014Z",
     "start_time": "2022-08-11T06:19:17.956038Z"
    }
   },
   "outputs": [],
   "source": [
    "print(pca_df)"
   ]
  },
  {
   "cell_type": "code",
   "execution_count": null,
   "id": "3e8cbd78",
   "metadata": {
    "ExecuteTime": {
     "end_time": "2022-08-11T06:19:19.600652Z",
     "start_time": "2022-08-11T06:19:19.568738Z"
    }
   },
   "outputs": [],
   "source": [
    "pca_fit = pca.fit(scaled_sum)"
   ]
  },
  {
   "cell_type": "code",
   "execution_count": null,
   "id": "b2caf2c9",
   "metadata": {
    "ExecuteTime": {
     "end_time": "2022-08-11T06:19:19.870928Z",
     "start_time": "2022-08-11T06:19:19.851981Z"
    }
   },
   "outputs": [],
   "source": [
    "PC_values = np.arange(pca.n_components_) + 1"
   ]
  },
  {
   "cell_type": "code",
   "execution_count": null,
   "id": "784454bb",
   "metadata": {
    "ExecuteTime": {
     "end_time": "2022-08-11T06:19:21.539465Z",
     "start_time": "2022-08-11T06:19:21.363936Z"
    },
    "scrolled": true
   },
   "outputs": [],
   "source": [
    "# Scree plot\n",
    "\n",
    "fig = plt.figure(figsize=(7,5))\n",
    "fig.set_facecolor('white')\n",
    "\n",
    "plt.plot(PC_values, pca.explained_variance_ratio_, 'ro-', linewidth=2, color='black')\n",
    "plt.xticks([1,2,3,4,5])\n",
    "plt.xlabel('Component number')\n",
    "plt.ylabel('Scaled eigenvalues')\n",
    "plt.show()\n",
    "# plt.axis([0,5,0,3])"
   ]
  },
  {
   "cell_type": "markdown",
   "id": "d9b73579",
   "metadata": {},
   "source": [
    "we check explained portion"
   ]
  },
  {
   "cell_type": "code",
   "execution_count": null,
   "id": "3a5fc85e",
   "metadata": {
    "ExecuteTime": {
     "end_time": "2022-08-11T06:19:23.829483Z",
     "start_time": "2022-08-11T06:19:23.811507Z"
    },
    "scrolled": true
   },
   "outputs": [],
   "source": [
    "pca.explained_variance_ratio_"
   ]
  },
  {
   "cell_type": "code",
   "execution_count": null,
   "id": "802ae268",
   "metadata": {
    "ExecuteTime": {
     "end_time": "2022-08-11T06:19:28.958647Z",
     "start_time": "2022-08-11T06:19:28.950671Z"
    }
   },
   "outputs": [],
   "source": [
    "print(\"Proportion of Variance Explained : \",\n",
    "     pca.explained_variance_ratio_.round(2))\n",
    "\n",
    "out_sum = np.cumsum(pca.explained_variance_ratio_).round(2)\n",
    "print(\"Cumulative Prop. Variance Explained\", out_sum)"
   ]
  },
  {
   "cell_type": "markdown",
   "id": "758fb748",
   "metadata": {},
   "source": [
    "### yeo17 atlas for functional connectivity schema"
   ]
  },
  {
   "cell_type": "markdown",
   "id": "a59717d9",
   "metadata": {},
   "source": [
    "Load atlases"
   ]
  },
  {
   "cell_type": "code",
   "execution_count": null,
   "id": "ef852e9b",
   "metadata": {
    "ExecuteTime": {
     "end_time": "2022-08-11T06:31:44.163129Z",
     "start_time": "2022-08-11T06:31:44.158143Z"
    }
   },
   "outputs": [],
   "source": [
    "from nilearn.maskers import NiftiMasker\n",
    "from nilearn.input_data import NiftiMasker"
   ]
  },
  {
   "cell_type": "code",
   "execution_count": null,
   "id": "d90a56fa",
   "metadata": {
    "ExecuteTime": {
     "end_time": "2022-08-11T06:31:44.589999Z",
     "start_time": "2022-08-11T06:31:44.578029Z"
    }
   },
   "outputs": [],
   "source": [
    "from nilearn.input_data import NiftiLabelsMasker\n",
    "from nilearn.connectome import ConnectivityMeasure"
   ]
  },
  {
   "cell_type": "code",
   "execution_count": null,
   "id": "aa9e4eec",
   "metadata": {
    "ExecuteTime": {
     "end_time": "2022-08-11T06:32:05.531122Z",
     "start_time": "2022-08-11T06:31:44.852285Z"
    }
   },
   "outputs": [],
   "source": [
    "from nilearn import datasets\n",
    "yeo = datasets.fetch_atlas_yeo_2011()"
   ]
  },
  {
   "cell_type": "code",
   "execution_count": null,
   "id": "887a4616",
   "metadata": {
    "ExecuteTime": {
     "end_time": "2022-08-11T06:36:46.873881Z",
     "start_time": "2022-08-11T06:32:05.534116Z"
    }
   },
   "outputs": [],
   "source": [
    "data = datasets.fetch_development_fmri(n_subjects=50)"
   ]
  },
  {
   "cell_type": "markdown",
   "id": "ad0e6891",
   "metadata": {},
   "source": [
    "extract coordinates on atlas - parcellation"
   ]
  },
  {
   "cell_type": "code",
   "execution_count": null,
   "id": "27357f1a",
   "metadata": {
    "ExecuteTime": {
     "end_time": "2022-08-11T06:37:46.769974Z",
     "start_time": "2022-08-11T06:37:46.752025Z"
    }
   },
   "outputs": [],
   "source": [
    "connectome_measure = ConnectivityMeasure(kind='correlation')\n",
    "\n",
    "from nilearn import plotting\n",
    "\n",
    "masker = NiftiLabelsMasker(labels_img=yeo['thick_17'],standardize=True,memory='nilearn_cache')"
   ]
  },
  {
   "cell_type": "code",
   "execution_count": null,
   "id": "90bf21ab",
   "metadata": {
    "ExecuteTime": {
     "end_time": "2022-08-11T06:38:02.481937Z",
     "start_time": "2022-08-11T06:37:59.371263Z"
    }
   },
   "outputs": [],
   "source": [
    "time_series = []\n",
    "for func, confounds in zip(data.func, data.confounds):\n",
    "    time_series.append(masker.fit_transform(func, confounds=confounds))"
   ]
  },
  {
   "cell_type": "code",
   "execution_count": null,
   "id": "62718ca1",
   "metadata": {
    "ExecuteTime": {
     "end_time": "2022-08-11T06:20:08.359478Z",
     "start_time": "2022-08-11T06:20:07.039008Z"
    }
   },
   "outputs": [],
   "source": [
    "correlation_matrices = connectome_measure.fit_transform(time_series)"
   ]
  },
  {
   "cell_type": "code",
   "execution_count": null,
   "id": "2eb16b1f",
   "metadata": {
    "ExecuteTime": {
     "end_time": "2022-08-11T06:20:08.362465Z",
     "start_time": "2022-08-11T06:20:08.362465Z"
    }
   },
   "outputs": [],
   "source": [
    "mean_correlation_matrix = connectome_measure.mean_"
   ]
  },
  {
   "cell_type": "code",
   "execution_count": null,
   "id": "dfd4437a",
   "metadata": {
    "ExecuteTime": {
     "end_time": "2022-08-07T17:37:06.789803Z",
     "start_time": "2022-08-07T17:37:06.789803Z"
    }
   },
   "outputs": [],
   "source": [
    "coordinates_l = plotting.find_parcellation_cut_coords(labels_img=yeo['thick_17'], label_hemisphere='left')"
   ]
  },
  {
   "cell_type": "code",
   "execution_count": null,
   "id": "8d54f160",
   "metadata": {
    "ExecuteTime": {
     "end_time": "2022-08-07T17:37:06.792791Z",
     "start_time": "2022-08-07T17:37:06.792791Z"
    }
   },
   "outputs": [],
   "source": [
    "coordinates_r = plotting.find_parcellation_cut_coords(labels_img=yeo['thick_17'], label_hemisphere='right')"
   ]
  },
  {
   "cell_type": "code",
   "execution_count": null,
   "id": "4cf0eb9e",
   "metadata": {
    "ExecuteTime": {
     "end_time": "2022-08-07T17:37:06.795783Z",
     "start_time": "2022-08-07T17:37:06.795783Z"
    }
   },
   "outputs": [],
   "source": [
    "plotting.plot_connectome(mean_correlation_matrix, coordinates_l,\n",
    "                        edge_threshold=\"80%\", annotate=False)\n",
    "# plt.savefig('./fig1/yeo17_left.png')"
   ]
  },
  {
   "cell_type": "code",
   "execution_count": null,
   "id": "013d701b",
   "metadata": {
    "ExecuteTime": {
     "end_time": "2022-08-07T17:37:06.797777Z",
     "start_time": "2022-08-07T17:37:06.797777Z"
    }
   },
   "outputs": [],
   "source": [
    "plotting.plot_connectome(mean_correlation_matrix, coordinates_r,\n",
    "                        edge_threshold=\"80%\", annotate=False)\n",
    "# plt.savefig('./fig1/yeo17_right.png')"
   ]
  },
  {
   "cell_type": "code",
   "execution_count": null,
   "id": "9f901b64",
   "metadata": {},
   "outputs": [],
   "source": []
  },
  {
   "cell_type": "code",
   "execution_count": null,
   "id": "51d2e292",
   "metadata": {},
   "outputs": [],
   "source": []
  },
  {
   "cell_type": "code",
   "execution_count": null,
   "id": "e30a1955",
   "metadata": {},
   "outputs": [],
   "source": []
  },
  {
   "cell_type": "code",
   "execution_count": null,
   "id": "e645d60a",
   "metadata": {},
   "outputs": [],
   "source": []
  },
  {
   "cell_type": "code",
   "execution_count": null,
   "id": "a4117588",
   "metadata": {},
   "outputs": [],
   "source": []
  },
  {
   "cell_type": "code",
   "execution_count": null,
   "id": "958cef76",
   "metadata": {},
   "outputs": [],
   "source": []
  }
 ],
 "metadata": {
  "kernelspec": {
   "display_name": "Python 3 (ipykernel)",
   "language": "python",
   "name": "python3"
  },
  "language_info": {
   "codemirror_mode": {
    "name": "ipython",
    "version": 3
   },
   "file_extension": ".py",
   "mimetype": "text/x-python",
   "name": "python",
   "nbconvert_exporter": "python",
   "pygments_lexer": "ipython3",
   "version": "3.9.12"
  },
  "toc": {
   "base_numbering": 1,
   "nav_menu": {},
   "number_sections": false,
   "sideBar": true,
   "skip_h1_title": false,
   "title_cell": "Table of Contents",
   "title_sidebar": "Contents",
   "toc_cell": false,
   "toc_position": {},
   "toc_section_display": true,
   "toc_window_display": false
  },
  "widgets": {
   "application/vnd.jupyter.widget-state+json": {
    "state": {},
    "version_major": 2,
    "version_minor": 0
   }
  }
 },
 "nbformat": 4,
 "nbformat_minor": 5
}
