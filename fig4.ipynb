{
 "cells": [
  {
   "cell_type": "markdown",
   "id": "019cce95",
   "metadata": {},
   "source": [
    "## import"
   ]
  },
  {
   "cell_type": "code",
   "execution_count": null,
   "id": "4d08fc92",
   "metadata": {
    "ExecuteTime": {
     "end_time": "2022-08-09T03:14:34.203242Z",
     "start_time": "2022-08-09T03:14:22.708632Z"
    },
    "scrolled": true
   },
   "outputs": [],
   "source": [
    "import numpy as np\n",
    "import pandas as pd\n",
    "import seaborn as sns\n",
    "\n",
    "import os\n",
    "\n",
    "import nibabel as nib\n",
    "from nilearn.datasets import fetch_surf_fsaverage\n",
    "\n",
    "import brainstat\n",
    "from brainstat.stats.terms import FixedEffect\n",
    "\n",
    "import matplotlib.pyplot as plt\n",
    "from scipy import io\n",
    "\n",
    "from brainspace.datasets import load_group_fc, load_parcellation, load_conte69\n",
    "\n",
    "from brainspace.gradient import GradientMaps\n",
    "from brainspace.plotting import plot_hemispheres\n",
    "from brainspace.utils.parcellation import map_to_labels\n",
    "\n",
    "import scipy.io\n",
    "import re\n",
    "\n",
    "import matplotlib"
   ]
  },
  {
   "cell_type": "code",
   "execution_count": null,
   "id": "bccd8f1d",
   "metadata": {
    "ExecuteTime": {
     "end_time": "2022-08-09T03:14:41.891410Z",
     "start_time": "2022-08-09T03:14:41.877416Z"
    }
   },
   "outputs": [],
   "source": [
    "import sys , numpy as np\n",
    "mod = sys.modules[__name__]"
   ]
  },
  {
   "cell_type": "markdown",
   "id": "f79b8478",
   "metadata": {},
   "source": [
    "## make model"
   ]
  },
  {
   "cell_type": "code",
   "execution_count": null,
   "id": "ab67b18e",
   "metadata": {
    "ExecuteTime": {
     "end_time": "2022-08-09T03:14:43.821761Z",
     "start_time": "2022-08-09T03:14:41.894381Z"
    }
   },
   "outputs": [],
   "source": [
    "brain = pd.read_excel(\"./data/환자군_정상군_181104_결측값업데이트_scores2_bypark.xlsx\")"
   ]
  },
  {
   "cell_type": "code",
   "execution_count": null,
   "id": "0f05e7fc",
   "metadata": {
    "ExecuteTime": {
     "end_time": "2022-08-09T03:14:43.837697Z",
     "start_time": "2022-08-09T03:14:43.824717Z"
    }
   },
   "outputs": [],
   "source": [
    "ha_freq_sbt = brain[np.array(('Sex','Age','HA_freq_m_fMRI'))]"
   ]
  },
  {
   "cell_type": "code",
   "execution_count": null,
   "id": "941477a4",
   "metadata": {
    "ExecuteTime": {
     "end_time": "2022-08-09T03:14:43.853637Z",
     "start_time": "2022-08-09T03:14:43.839675Z"
    }
   },
   "outputs": [],
   "source": [
    "ha_freq_sbt = ha_freq_sbt.dropna()"
   ]
  },
  {
   "cell_type": "code",
   "execution_count": null,
   "id": "70e35e52",
   "metadata": {
    "ExecuteTime": {
     "end_time": "2022-08-09T03:14:43.869595Z",
     "start_time": "2022-08-09T03:14:43.855635Z"
    }
   },
   "outputs": [],
   "source": [
    "age = ha_freq_sbt['Age']\n",
    "sex = ha_freq_sbt['Sex']\n",
    "sex=np.array(sex)\n",
    "sex=sex.reshape(sex.shape[0],1)\n",
    "ha_freq = ha_freq_sbt['HA_freq_m_fMRI']\n",
    "NumSubj = np.size(ha_freq)"
   ]
  },
  {
   "cell_type": "code",
   "execution_count": null,
   "id": "e1e79490",
   "metadata": {
    "ExecuteTime": {
     "end_time": "2022-08-09T03:14:43.885552Z",
     "start_time": "2022-08-09T03:14:43.871590Z"
    }
   },
   "outputs": [],
   "source": [
    "# # make sex and grp as dummy variables\n",
    "sex_dum1 = np.zeros((NumSubj,1))\n",
    "sex_dum1 = np.where(sex==0, 1, sex_dum1)\n",
    "sex_dum2 = np.zeros((NumSubj,1))\n",
    "sex_dum2 = np.where(sex==1, 1, sex_dum2)\n",
    "sex_dum = np.concatenate((sex_dum1, sex_dum2), axis=1) # F,M"
   ]
  },
  {
   "cell_type": "code",
   "execution_count": null,
   "id": "8a0590b8",
   "metadata": {
    "ExecuteTime": {
     "end_time": "2022-08-09T03:14:43.901544Z",
     "start_time": "2022-08-09T03:14:43.887550Z"
    }
   },
   "outputs": [],
   "source": [
    "sex_dum = pd.DataFrame(sex_dum)\n",
    "sex_dum.columns = ['F','M']"
   ]
  },
  {
   "cell_type": "code",
   "execution_count": null,
   "id": "9e56c21b",
   "metadata": {
    "ExecuteTime": {
     "end_time": "2022-08-09T03:14:43.917468Z",
     "start_time": "2022-08-09T03:14:43.905499Z"
    }
   },
   "outputs": [],
   "source": [
    "intercept = np.ones((NumSubj,1))"
   ]
  },
  {
   "cell_type": "code",
   "execution_count": null,
   "id": "a076a0ca",
   "metadata": {
    "ExecuteTime": {
     "end_time": "2022-08-09T03:14:43.933423Z",
     "start_time": "2022-08-09T03:14:43.921458Z"
    }
   },
   "outputs": [],
   "source": [
    "intercept = pd.DataFrame(intercept)\n",
    "intercept.columns = ['intercept']"
   ]
  },
  {
   "cell_type": "code",
   "execution_count": null,
   "id": "6da8346c",
   "metadata": {
    "ExecuteTime": {
     "end_time": "2022-08-09T03:14:43.949414Z",
     "start_time": "2022-08-09T03:14:43.936424Z"
    }
   },
   "outputs": [],
   "source": [
    "age = age.reset_index(drop=True)\n",
    "ha_freq = ha_freq.reset_index(drop=True)"
   ]
  },
  {
   "cell_type": "code",
   "execution_count": null,
   "id": "65d08d97",
   "metadata": {
    "ExecuteTime": {
     "end_time": "2022-08-09T04:10:08.673109Z",
     "start_time": "2022-08-09T04:10:08.659152Z"
    }
   },
   "outputs": [],
   "source": [
    "rm = pd.concat([intercept,sex_dum,age],axis=1)"
   ]
  },
  {
   "cell_type": "code",
   "execution_count": null,
   "id": "9ed408a1",
   "metadata": {
    "ExecuteTime": {
     "end_time": "2022-08-09T04:06:27.105964Z",
     "start_time": "2022-08-09T04:06:27.082028Z"
    },
    "scrolled": true
   },
   "outputs": [],
   "source": [
    "# reduced model with sex&age terms\n",
    "rm"
   ]
  },
  {
   "cell_type": "markdown",
   "id": "bd05a149",
   "metadata": {},
   "source": [
    "### <span style=\"color:#2D3748; background-color:#fff5b1;\">make full model with sex&age terms, cortical eigenvector&subcortical weighted manifold terms</span>"
   ]
  },
  {
   "cell_type": "markdown",
   "id": "61545fc6",
   "metadata": {},
   "source": [
    "### load cortex files"
   ]
  },
  {
   "cell_type": "code",
   "execution_count": null,
   "id": "c70cbf61",
   "metadata": {
    "ExecuteTime": {
     "end_time": "2022-08-09T03:14:44.029192Z",
     "start_time": "2022-08-09T03:14:44.015206Z"
    }
   },
   "outputs": [],
   "source": [
    "from glob import glob\n",
    "path = './data/schaefer200/cortex/'\n",
    "filepaths = glob(path+'*.csv') # load path of csv files"
   ]
  },
  {
   "cell_type": "code",
   "execution_count": null,
   "id": "8ab5ecd0",
   "metadata": {
    "ExecuteTime": {
     "end_time": "2022-08-09T03:14:46.361511Z",
     "start_time": "2022-08-09T03:14:44.031163Z"
    }
   },
   "outputs": [],
   "source": [
    "import pandas as pd\n",
    "for i in range(len(filepaths)):\n",
    "    dat = pd.read_csv(filepaths[i], header=None)\n",
    "    res = re.split('[\\\\\\/]',filepaths[i])\n",
    "    globals()[res[-1][:-4]+'_a'] = dat.to_numpy() # load csv files as array type"
   ]
  },
  {
   "cell_type": "code",
   "execution_count": null,
   "id": "bfe4e18e",
   "metadata": {
    "ExecuteTime": {
     "end_time": "2022-08-09T03:14:46.377517Z",
     "start_time": "2022-08-09T03:14:46.364516Z"
    },
    "scrolled": true
   },
   "outputs": [],
   "source": [
    "for i in range(1,100+1):\n",
    "    globals()['ctx{}'.format(i)] = getattr(mod,'g{}_200_a'.format(i))"
   ]
  },
  {
   "cell_type": "markdown",
   "id": "7f918b46",
   "metadata": {},
   "source": [
    "### make cortico-cortical connectivity matrix"
   ]
  },
  {
   "cell_type": "code",
   "execution_count": null,
   "id": "efcc1d1d",
   "metadata": {
    "ExecuteTime": {
     "end_time": "2022-08-09T03:14:47.311130Z",
     "start_time": "2022-08-09T03:14:46.379472Z"
    }
   },
   "outputs": [],
   "source": [
    "from nilearn import plotting\n",
    "from nilearn.connectome import ConnectivityMeasure \n",
    "correlation_measure = ConnectivityMeasure(kind='correlation')\n",
    "\n",
    "for i in range(1,100+1):\n",
    "    globals()['ctx{}_c'.format(i)] = correlation_measure.fit_transform([getattr(mod, 'ctx{}'.format(i))]) "
   ]
  },
  {
   "cell_type": "code",
   "execution_count": null,
   "id": "d7a36004",
   "metadata": {
    "ExecuteTime": {
     "end_time": "2022-08-09T03:14:47.327087Z",
     "start_time": "2022-08-09T03:14:47.313126Z"
    }
   },
   "outputs": [],
   "source": [
    "for i in range(1, 100+1):\n",
    "    globals()['ctx{}_c'.format(i)] = getattr(mod, 'ctx{}_c'.format(i))[0]\n",
    "# (1,200,200) array shape -> (200,200) array shape"
   ]
  },
  {
   "cell_type": "markdown",
   "id": "aace5bd1",
   "metadata": {},
   "source": [
    "### 1. z-transformation\n",
    "### 2. transform all diagonals into zeros"
   ]
  },
  {
   "cell_type": "code",
   "execution_count": null,
   "id": "e426f823",
   "metadata": {
    "ExecuteTime": {
     "end_time": "2022-08-09T03:14:47.342048Z",
     "start_time": "2022-08-09T03:14:47.329084Z"
    }
   },
   "outputs": [],
   "source": [
    "tab = np.zeros(shape=(200,200))"
   ]
  },
  {
   "cell_type": "code",
   "execution_count": null,
   "id": "d82ba5d5",
   "metadata": {
    "ExecuteTime": {
     "end_time": "2022-08-09T03:14:47.498630Z",
     "start_time": "2022-08-09T03:14:47.344043Z"
    }
   },
   "outputs": [],
   "source": [
    "for i in range(1,101):\n",
    "    tab = np.arctanh(getattr(mod, 'ctx{}_c'.format(i)))\n",
    "    np.fill_diagonal(tab, np.zeros(200))\n",
    "    globals()['ctx{}_cz'.format(i)] = tab"
   ]
  },
  {
   "cell_type": "markdown",
   "id": "382bbbe9",
   "metadata": {},
   "source": [
    "### get group connectivity matrix averaging z-transformed 100 connectivity matrix"
   ]
  },
  {
   "cell_type": "code",
   "execution_count": null,
   "id": "3e2b9e14",
   "metadata": {
    "ExecuteTime": {
     "end_time": "2022-08-09T03:14:47.513591Z",
     "start_time": "2022-08-09T03:14:47.500626Z"
    }
   },
   "outputs": [],
   "source": [
    "import numpy\n",
    "ctx_sum = numpy.zeros(shape=(200,200))\n",
    "for i in range(1,101):\n",
    "    ctx_sum = ctx_sum + getattr(mod, 'ctx{}_cz'.format(i))\n",
    "\n",
    "ctx_mean = ctx_sum/100 "
   ]
  },
  {
   "cell_type": "markdown",
   "id": "a6e3bffc",
   "metadata": {},
   "source": [
    "### make template of eigenvectors 1,2 and 3 with hcp"
   ]
  },
  {
   "cell_type": "code",
   "execution_count": null,
   "id": "07618152",
   "metadata": {
    "ExecuteTime": {
     "end_time": "2022-08-09T03:15:14.486278Z",
     "start_time": "2022-08-09T03:15:14.451340Z"
    }
   },
   "outputs": [],
   "source": [
    "mat_file_name = \"./data/gradients_FC.mat\"\n",
    "mat_file = scipy.io.loadmat(mat_file_name)"
   ]
  },
  {
   "cell_type": "code",
   "execution_count": null,
   "id": "cccdf9cc",
   "metadata": {
    "ExecuteTime": {
     "end_time": "2022-08-09T03:15:14.613913Z",
     "start_time": "2022-08-09T03:15:14.597948Z"
    }
   },
   "outputs": [],
   "source": [
    "gm_mean = mat_file['gm_mean']"
   ]
  },
  {
   "cell_type": "markdown",
   "id": "e42a482c",
   "metadata": {},
   "source": [
    "### align group connectivity matrix with hcp eigenvectors"
   ]
  },
  {
   "cell_type": "code",
   "execution_count": null,
   "id": "2dc5b2f1",
   "metadata": {
    "ExecuteTime": {
     "end_time": "2022-08-09T03:15:14.976938Z",
     "start_time": "2022-08-09T03:15:14.886181Z"
    }
   },
   "outputs": [],
   "source": [
    "# Gradient alignment\n",
    "align = GradientMaps(kernel='normalized_angle', approach='dm', alignment='procrustes', n_components = 5)\n",
    "\n",
    "align.fit(ctx_mean, reference = gm_mean)"
   ]
  },
  {
   "cell_type": "markdown",
   "id": "68ec004e",
   "metadata": {},
   "source": [
    "### align each individual connectivity matrix with hcp-aligned group connectivity matrix\n",
    "\n",
    "> we call it individual eigenvector"
   ]
  },
  {
   "cell_type": "code",
   "execution_count": null,
   "id": "edd4553c",
   "metadata": {
    "ExecuteTime": {
     "end_time": "2022-08-09T03:15:16.916750Z",
     "start_time": "2022-08-09T03:15:15.194357Z"
    }
   },
   "outputs": [],
   "source": [
    "for i in range(1,100+1):\n",
    "    align2 = GradientMaps(kernel='normalized_angle', approach='dm', alignment='procrustes', n_components = 5)\n",
    "    align2.fit(getattr(mod,'ctx{}_cz'.format(i)), reference = align.aligned_)\n",
    "    globals()['grad_{}'.format(i)] = align2.aligned_[:,0:2+1]"
   ]
  },
  {
   "cell_type": "markdown",
   "id": "ea11c975",
   "metadata": {},
   "source": [
    "we reset ha_freq_sbt to select eigenvectors corresponding to indices of ha_freq_sbt"
   ]
  },
  {
   "cell_type": "code",
   "execution_count": null,
   "id": "685f4f16",
   "metadata": {
    "ExecuteTime": {
     "end_time": "2022-08-09T03:15:16.946670Z",
     "start_time": "2022-08-09T03:15:16.920765Z"
    }
   },
   "outputs": [],
   "source": [
    "ha_freq_sbt = brain[np.array(('Sex','Age','HA_freq_m_fMRI'))]\n",
    "ha_freq_sbt = ha_freq_sbt.dropna()"
   ]
  },
  {
   "cell_type": "code",
   "execution_count": null,
   "id": "9ab7695b",
   "metadata": {
    "ExecuteTime": {
     "end_time": "2022-08-09T03:15:16.962628Z",
     "start_time": "2022-08-09T03:15:16.949663Z"
    }
   },
   "outputs": [],
   "source": [
    "Z = np.dstack([grad_1,grad_2])"
   ]
  },
  {
   "cell_type": "code",
   "execution_count": null,
   "id": "fd84a4a1",
   "metadata": {
    "ExecuteTime": {
     "end_time": "2022-08-09T03:15:16.978585Z",
     "start_time": "2022-08-09T03:15:16.966617Z"
    }
   },
   "outputs": [],
   "source": [
    "for i in ha_freq_sbt.index[2:]:\n",
    "    Z = np.dstack([Z, getattr(mod, 'grad_{}'.format(i))])"
   ]
  },
  {
   "cell_type": "code",
   "execution_count": null,
   "id": "91a65922",
   "metadata": {
    "ExecuteTime": {
     "end_time": "2022-08-09T03:15:16.994542Z",
     "start_time": "2022-08-09T03:15:16.981577Z"
    }
   },
   "outputs": [],
   "source": [
    "data = np.zeros((NumSubj, 200, 3))\n",
    "for ns in range(0,NumSubj):\n",
    "    mat = Z[:,0:3,ns]\n",
    "    data[ns,:,:] = mat"
   ]
  },
  {
   "cell_type": "code",
   "execution_count": null,
   "id": "faf008bc",
   "metadata": {
    "ExecuteTime": {
     "end_time": "2022-08-09T03:15:17.010499Z",
     "start_time": "2022-08-09T03:15:16.997534Z"
    }
   },
   "outputs": [],
   "source": [
    "name1 = ['gra1_'+str(i+1) for i in range(0,199+1)]"
   ]
  },
  {
   "cell_type": "code",
   "execution_count": null,
   "id": "5e675ca3",
   "metadata": {
    "ExecuteTime": {
     "end_time": "2022-08-09T03:15:17.026456Z",
     "start_time": "2022-08-09T03:15:17.013492Z"
    }
   },
   "outputs": [],
   "source": [
    "name2 = ['gra2_'+str(i+1) for i in range(0,199+1)]"
   ]
  },
  {
   "cell_type": "code",
   "execution_count": null,
   "id": "934abad4",
   "metadata": {
    "ExecuteTime": {
     "end_time": "2022-08-09T03:15:17.042415Z",
     "start_time": "2022-08-09T03:15:17.028452Z"
    }
   },
   "outputs": [],
   "source": [
    "name3 = ['gra3_'+str(i+1) for i in range(0,199+1)]"
   ]
  },
  {
   "cell_type": "code",
   "execution_count": null,
   "id": "3b1f751b",
   "metadata": {
    "ExecuteTime": {
     "end_time": "2022-08-09T03:15:17.058372Z",
     "start_time": "2022-08-09T03:15:17.045406Z"
    }
   },
   "outputs": [],
   "source": [
    "dat1 = pd.DataFrame(data[:,:,0], columns=name1)"
   ]
  },
  {
   "cell_type": "code",
   "execution_count": null,
   "id": "d8e1b2cb",
   "metadata": {
    "ExecuteTime": {
     "end_time": "2022-08-09T03:15:17.074329Z",
     "start_time": "2022-08-09T03:15:17.063359Z"
    }
   },
   "outputs": [],
   "source": [
    "dat2 = pd.DataFrame(data[:,:,1], columns=name2)"
   ]
  },
  {
   "cell_type": "code",
   "execution_count": null,
   "id": "fece233a",
   "metadata": {
    "ExecuteTime": {
     "end_time": "2022-08-09T03:15:17.090287Z",
     "start_time": "2022-08-09T03:15:17.077321Z"
    }
   },
   "outputs": [],
   "source": [
    "dat3 = pd.DataFrame(data[:,:,2], columns=name3)"
   ]
  },
  {
   "cell_type": "code",
   "execution_count": null,
   "id": "141f9c49",
   "metadata": {
    "ExecuteTime": {
     "end_time": "2022-08-09T03:15:17.106245Z",
     "start_time": "2022-08-09T03:15:17.093279Z"
    }
   },
   "outputs": [],
   "source": [
    "# full model\n",
    "fm = pd.concat([rm,dat1,dat2,dat3],axis=1)"
   ]
  },
  {
   "cell_type": "code",
   "execution_count": null,
   "id": "8aecd18a",
   "metadata": {
    "ExecuteTime": {
     "end_time": "2022-08-09T03:15:17.216958Z",
     "start_time": "2022-08-09T03:15:17.135165Z"
    }
   },
   "outputs": [],
   "source": [
    "fm"
   ]
  },
  {
   "cell_type": "markdown",
   "id": "41b6f92c",
   "metadata": {},
   "source": [
    "### regress out"
   ]
  },
  {
   "cell_type": "code",
   "execution_count": null,
   "id": "4dbf5cbf",
   "metadata": {
    "ExecuteTime": {
     "end_time": "2022-08-09T03:15:17.719604Z",
     "start_time": "2022-08-09T03:15:17.461297Z"
    }
   },
   "outputs": [],
   "source": [
    "#Load libraries\n",
    "from sklearn.datasets import load_wine\n",
    "from sklearn.model_selection import StratifiedKFold\n",
    "from sklearn.ensemble import RandomForestClassifier\n",
    "from sklearn.model_selection import cross_val_score, GridSearchCV, KFold"
   ]
  },
  {
   "cell_type": "code",
   "execution_count": null,
   "id": "960c6785",
   "metadata": {
    "ExecuteTime": {
     "end_time": "2022-08-09T03:15:17.734567Z",
     "start_time": "2022-08-09T03:15:17.722597Z"
    }
   },
   "outputs": [],
   "source": [
    "from sklearn.linear_model import LinearRegression\n",
    "from sklearn.linear_model import Ridge"
   ]
  },
  {
   "cell_type": "markdown",
   "id": "5135e1fb",
   "metadata": {},
   "source": [
    "before regressing out, we compile eigenvectors"
   ]
  },
  {
   "cell_type": "code",
   "execution_count": null,
   "id": "3d8803ac",
   "metadata": {
    "ExecuteTime": {
     "end_time": "2022-08-09T03:15:18.112553Z",
     "start_time": "2022-08-09T03:15:18.100589Z"
    }
   },
   "outputs": [],
   "source": [
    "X_dat = pd.concat([dat1,dat2,dat3],axis=1)"
   ]
  },
  {
   "cell_type": "markdown",
   "id": "e5023045",
   "metadata": {},
   "source": [
    "1. we make linear model which has X = rm and y = one column among all features\n",
    "2. we then get predicted value by putting X into the model again\n",
    "\n",
    "> lm.fit(X, y)"
   ]
  },
  {
   "cell_type": "code",
   "execution_count": null,
   "id": "828b0b3e",
   "metadata": {
    "ExecuteTime": {
     "end_time": "2022-08-09T03:15:19.455961Z",
     "start_time": "2022-08-09T03:15:18.532432Z"
    }
   },
   "outputs": [],
   "source": [
    "# 200 nodes of gradient 1\n",
    "for i in range(0,199+1):\n",
    "    lm = LinearRegression()\n",
    "    lm.fit(rm, dat1.iloc[:,i])\n",
    "    pred = lm.predict(rm)\n",
    "    globals()['gra1_{}'.format(i+1)] = pred.reshape(NumSubj,1)"
   ]
  },
  {
   "cell_type": "code",
   "execution_count": null,
   "id": "deaf8d34",
   "metadata": {
    "ExecuteTime": {
     "end_time": "2022-08-09T03:15:20.370520Z",
     "start_time": "2022-08-09T03:15:19.459971Z"
    }
   },
   "outputs": [],
   "source": [
    "# 200 nodes of gradient 2\n",
    "for i in range(0,199+1):\n",
    "    lm = LinearRegression()\n",
    "    lm.fit(rm, dat2.iloc[:,i])\n",
    "    pred = lm.predict(rm)\n",
    "    globals()['gra2_{}'.format(i+1)] = pred.reshape(NumSubj,1)"
   ]
  },
  {
   "cell_type": "code",
   "execution_count": null,
   "id": "0125b553",
   "metadata": {
    "ExecuteTime": {
     "end_time": "2022-08-09T03:15:21.192322Z",
     "start_time": "2022-08-09T03:15:20.374511Z"
    }
   },
   "outputs": [],
   "source": [
    "# 200 nodes of gradient 3\n",
    "for i in range(0,199+1):\n",
    "    lm = LinearRegression()\n",
    "    lm.fit(rm, dat3.iloc[:,i])\n",
    "    pred = lm.predict(rm)\n",
    "    globals()['gra3_{}'.format(i+1)] = pred.reshape(NumSubj,1)"
   ]
  },
  {
   "cell_type": "markdown",
   "id": "ee042b1b",
   "metadata": {},
   "source": [
    "we now merge these 600 terms"
   ]
  },
  {
   "cell_type": "code",
   "execution_count": null,
   "id": "4260fc4d",
   "metadata": {
    "ExecuteTime": {
     "end_time": "2022-08-09T03:15:23.653744Z",
     "start_time": "2022-08-09T03:15:23.632811Z"
    }
   },
   "outputs": [],
   "source": [
    "grad1 = gra1_1\n",
    "for i in range(2,200+1):\n",
    "    tmp = getattr(mod,'gra1_{}'.format(i))\n",
    "    grad1 = np.concatenate((grad1,tmp),axis=1)"
   ]
  },
  {
   "cell_type": "code",
   "execution_count": null,
   "id": "306fcf8e",
   "metadata": {
    "ExecuteTime": {
     "end_time": "2022-08-09T03:15:23.829273Z",
     "start_time": "2022-08-09T03:15:23.809333Z"
    }
   },
   "outputs": [],
   "source": [
    "grad2 = gra2_1\n",
    "for i in range(2,200+1):\n",
    "    tmp = getattr(mod,'gra2_{}'.format(i))\n",
    "    grad2 = np.concatenate((grad2,tmp),axis=1)"
   ]
  },
  {
   "cell_type": "code",
   "execution_count": null,
   "id": "efccd1c7",
   "metadata": {
    "ExecuteTime": {
     "end_time": "2022-08-09T03:15:23.970894Z",
     "start_time": "2022-08-09T03:15:23.961921Z"
    }
   },
   "outputs": [],
   "source": [
    "grad3 = gra3_1\n",
    "for i in range(2,200+1):\n",
    "    tmp = getattr(mod,'gra3_{}'.format(i))\n",
    "    grad3 = np.concatenate((grad3,tmp),axis=1)"
   ]
  },
  {
   "cell_type": "code",
   "execution_count": null,
   "id": "eaed4e91",
   "metadata": {
    "ExecuteTime": {
     "end_time": "2022-08-09T03:15:24.287080Z",
     "start_time": "2022-08-09T03:15:24.270105Z"
    }
   },
   "outputs": [],
   "source": [
    "grad = np.concatenate([grad1,grad2,grad3],axis=1)\n",
    "grad = pd.DataFrame(grad,columns = X_dat.columns)"
   ]
  },
  {
   "cell_type": "markdown",
   "id": "b17f4f78",
   "metadata": {},
   "source": [
    "1. we remove X_dat from grad to get corrected terms"
   ]
  },
  {
   "cell_type": "code",
   "execution_count": null,
   "id": "9c3230ec",
   "metadata": {
    "ExecuteTime": {
     "end_time": "2022-08-09T03:15:24.445623Z",
     "start_time": "2022-08-09T03:15:24.429667Z"
    }
   },
   "outputs": [],
   "source": [
    "X_grad = X_dat - grad"
   ]
  },
  {
   "cell_type": "code",
   "execution_count": null,
   "id": "e91f673e",
   "metadata": {
    "ExecuteTime": {
     "end_time": "2022-08-09T03:15:24.680996Z",
     "start_time": "2022-08-09T03:15:24.605201Z"
    },
    "scrolled": true
   },
   "outputs": [],
   "source": [
    "X_grad"
   ]
  },
  {
   "cell_type": "markdown",
   "id": "2761839a",
   "metadata": {},
   "source": [
    "2. we then add intercept term to them"
   ]
  },
  {
   "cell_type": "code",
   "execution_count": null,
   "id": "dbac9d78",
   "metadata": {
    "ExecuteTime": {
     "end_time": "2022-08-09T03:15:24.802671Z",
     "start_time": "2022-08-09T03:15:24.791701Z"
    }
   },
   "outputs": [],
   "source": [
    "X_grad = pd.concat([intercept,X_grad],axis=1)"
   ]
  },
  {
   "cell_type": "markdown",
   "id": "94e9d686",
   "metadata": {},
   "source": [
    "### subcortical part"
   ]
  },
  {
   "cell_type": "code",
   "execution_count": null,
   "id": "26472e62",
   "metadata": {
    "ExecuteTime": {
     "end_time": "2022-08-09T03:15:25.116830Z",
     "start_time": "2022-08-09T03:15:25.101870Z"
    }
   },
   "outputs": [],
   "source": [
    "from glob import glob\n",
    "path = './data/schaefer200/subcortex/'\n",
    "filepaths = glob(path+'*.csv') # load path of csv files"
   ]
  },
  {
   "cell_type": "code",
   "execution_count": null,
   "id": "9d901f21",
   "metadata": {
    "ExecuteTime": {
     "end_time": "2022-08-09T03:15:25.783083Z",
     "start_time": "2022-08-09T03:15:25.277403Z"
    }
   },
   "outputs": [],
   "source": [
    "for i in range(len(filepaths)):\n",
    "    dat = pd.read_csv(filepaths[i], header=None)\n",
    "    res = re.split('[\\\\\\/]',filepaths[i])\n",
    "    globals()[res[-1][:-4]+'_a'] = dat.to_numpy() # load csv files as numpy type"
   ]
  },
  {
   "cell_type": "code",
   "execution_count": null,
   "id": "8a957aee",
   "metadata": {
    "ExecuteTime": {
     "end_time": "2022-08-09T03:15:25.878794Z",
     "start_time": "2022-08-09T03:15:25.861840Z"
    }
   },
   "outputs": [],
   "source": [
    "for i in range(1,50+1):\n",
    "    globals()['sctx{}'.format(i)] = getattr(mod, 'gp{}_200_a'.format(i)) \n",
    "# we set gp{}_200_a as sctx{}"
   ]
  },
  {
   "cell_type": "code",
   "execution_count": null,
   "id": "a0f5ee41",
   "metadata": {
    "ExecuteTime": {
     "end_time": "2022-08-09T03:15:26.038399Z",
     "start_time": "2022-08-09T03:15:26.024404Z"
    }
   },
   "outputs": [],
   "source": [
    "for i in range(1,50+1):\n",
    "    globals()['sctx{}'.format(str(i+50))] = getattr(mod, 'gn{}_200_a'.format(i)) \n",
    "# we set gn{}_200_a as sctx{}"
   ]
  },
  {
   "cell_type": "markdown",
   "id": "2f64afdb",
   "metadata": {},
   "source": [
    "### make subcortico-subcortical connectivity matrix"
   ]
  },
  {
   "cell_type": "code",
   "execution_count": null,
   "id": "c35a2b2b",
   "metadata": {
    "ExecuteTime": {
     "end_time": "2022-08-09T03:15:26.588894Z",
     "start_time": "2022-08-09T03:15:26.443307Z"
    }
   },
   "outputs": [],
   "source": [
    "from nilearn import plotting\n",
    "from nilearn.connectome import ConnectivityMeasure \n",
    "correlation_measure = ConnectivityMeasure(kind='correlation')\n",
    "\n",
    "for i in range(1,100+1):\n",
    "    globals()['sctx{}_c'.format(i)] = correlation_measure.fit_transform([getattr(mod, 'sctx{}'.format(i))]) "
   ]
  },
  {
   "cell_type": "code",
   "execution_count": null,
   "id": "9b7501a0",
   "metadata": {
    "ExecuteTime": {
     "end_time": "2022-08-09T03:15:26.635770Z",
     "start_time": "2022-08-09T03:15:26.628789Z"
    }
   },
   "outputs": [],
   "source": [
    "for i in range(1, 100+1):\n",
    "    globals()['sctx{}_c'.format(i)] = getattr(mod, 'sctx{}_c'.format(i))[0]\n",
    "# (1,17,17) array shape -> (17,17) array shape"
   ]
  },
  {
   "cell_type": "markdown",
   "id": "35ef23ba",
   "metadata": {},
   "source": [
    "### 1. z-transformation\n",
    "### 2. transform all diagonals into zeros"
   ]
  },
  {
   "cell_type": "code",
   "execution_count": null,
   "id": "c6a79490",
   "metadata": {
    "ExecuteTime": {
     "end_time": "2022-08-09T03:15:27.013300Z",
     "start_time": "2022-08-09T03:15:27.004327Z"
    }
   },
   "outputs": [],
   "source": [
    "tab = np.zeros(shape=(17,17))"
   ]
  },
  {
   "cell_type": "code",
   "execution_count": null,
   "id": "9782ac12",
   "metadata": {
    "ExecuteTime": {
     "end_time": "2022-08-09T03:15:27.201694Z",
     "start_time": "2022-08-09T03:15:27.185703Z"
    }
   },
   "outputs": [],
   "source": [
    "for i in range(1,101):\n",
    "    tab = np.arctanh(getattr(mod, 'sctx{}_c'.format(i)))\n",
    "    np.fill_diagonal(tab, np.zeros(17))\n",
    "    globals()['sctx{}_cz'.format(i)] = tab"
   ]
  },
  {
   "cell_type": "markdown",
   "id": "5885beb4",
   "metadata": {},
   "source": [
    "### get group connectivity matrix averaging z-transformed 100 connectivity matrix"
   ]
  },
  {
   "cell_type": "code",
   "execution_count": null,
   "id": "cd12e2ca",
   "metadata": {
    "ExecuteTime": {
     "end_time": "2022-08-09T03:15:27.578535Z",
     "start_time": "2022-08-09T03:15:27.566526Z"
    }
   },
   "outputs": [],
   "source": [
    "import numpy\n",
    "sctx_sum = numpy.zeros(shape=(17,17))\n",
    "for i in range(1,101):\n",
    "    sctx_sum = sctx_sum + getattr(mod, 'sctx{}_cz'.format(i))"
   ]
  },
  {
   "cell_type": "code",
   "execution_count": null,
   "id": "3f3246c6",
   "metadata": {
    "ExecuteTime": {
     "end_time": "2022-08-09T03:15:27.767507Z",
     "start_time": "2022-08-09T03:15:27.762518Z"
    }
   },
   "outputs": [],
   "source": [
    "sctx_mean = sctx_sum/100"
   ]
  },
  {
   "cell_type": "markdown",
   "id": "7537d41a",
   "metadata": {},
   "source": [
    "### make subcortico-cortical connectivity matrix"
   ]
  },
  {
   "cell_type": "code",
   "execution_count": null,
   "id": "4acf187b",
   "metadata": {
    "ExecuteTime": {
     "end_time": "2022-08-09T03:17:11.965922Z",
     "start_time": "2022-08-09T03:15:28.177006Z"
    }
   },
   "outputs": [],
   "source": [
    "for i in range(1,100+1):\n",
    "    print('\\n\\033[1m'+'##{}th person'.format(i))\n",
    "    npz = np.zeros((200,17))\n",
    "    x = getattr(mod,'ctx{}'.format(i))\n",
    "    y = getattr(mod,'sctx{}'.format(i))\n",
    "    for j in range(0,199+1):\n",
    "        print('\\n\\033[1m'+'{}th row'.format(j+1))\n",
    "        for k in range(0,16+1):\n",
    "            print('\\033[0m' +'{}th col'.format(k+1))\n",
    "            npz[j][k] = np.corrcoef(x.T[j],y.T[k])[0][1]\n",
    "            globals()['sc_ctx{}_c'.format(i)] = npz"
   ]
  },
  {
   "cell_type": "markdown",
   "id": "69399b22",
   "metadata": {},
   "source": [
    "we make 200x9 matrix averaging left and right regions of 200x17 matrix\n",
    "> we can get 200x9 matrices of 100 individuals"
   ]
  },
  {
   "cell_type": "code",
   "execution_count": null,
   "id": "f782bd47",
   "metadata": {
    "ExecuteTime": {
     "end_time": "2022-08-09T03:17:11.997837Z",
     "start_time": "2022-08-09T03:17:11.969915Z"
    }
   },
   "outputs": [],
   "source": [
    "for i in range(1,100+1):\n",
    "    npz = np.zeros((9,200))\n",
    "    tmp = getattr(mod,'sc_ctx{}_c'.format(i)).T\n",
    "    for j in range(0,7+1):\n",
    "        npz[j] = (tmp[j]+tmp[j+8])/2\n",
    "        npz[8] = tmp[16]\n",
    "        globals()['sc_ctx{}_c2'.format(i)] = npz"
   ]
  },
  {
   "cell_type": "markdown",
   "id": "a75aa72f",
   "metadata": {},
   "source": [
    "## <span style=\"color:#2D3748; background-color:#fff5b1;\"> make subcortical-weigthed manifold (henceforth eigenvector)</span>"
   ]
  },
  {
   "cell_type": "markdown",
   "id": "dfe619cc",
   "metadata": {},
   "source": [
    "### make template of eigenvectors 1,2 and 3 with hcp"
   ]
  },
  {
   "cell_type": "code",
   "execution_count": null,
   "id": "6bc6df01",
   "metadata": {
    "ExecuteTime": {
     "end_time": "2022-08-09T03:17:12.598234Z",
     "start_time": "2022-08-09T03:17:12.554352Z"
    }
   },
   "outputs": [],
   "source": [
    "mat_file_name = \"./data/gradients_FC.mat\"\n",
    "mat_file = scipy.io.loadmat(mat_file_name)"
   ]
  },
  {
   "cell_type": "code",
   "execution_count": null,
   "id": "e6d62ab6",
   "metadata": {
    "ExecuteTime": {
     "end_time": "2022-08-09T03:17:12.614192Z",
     "start_time": "2022-08-09T03:17:12.602224Z"
    }
   },
   "outputs": [],
   "source": [
    "gm_mean = mat_file['gm_mean']"
   ]
  },
  {
   "cell_type": "markdown",
   "id": "5ea64d0d",
   "metadata": {},
   "source": [
    "### align group connectivity matrix with hcp eigenvectors"
   ]
  },
  {
   "cell_type": "code",
   "execution_count": null,
   "id": "4dab5321",
   "metadata": {
    "ExecuteTime": {
     "end_time": "2022-08-09T03:17:12.630147Z",
     "start_time": "2022-08-09T03:17:12.619177Z"
    }
   },
   "outputs": [],
   "source": [
    "# Gradient alignment\n",
    "align = GradientMaps(kernel='normalized_angle', approach='dm', alignment='procrustes', n_components = 5)"
   ]
  },
  {
   "cell_type": "code",
   "execution_count": null,
   "id": "b59714c6",
   "metadata": {
    "ExecuteTime": {
     "end_time": "2022-08-09T03:17:12.678018Z",
     "start_time": "2022-08-09T03:17:12.637135Z"
    }
   },
   "outputs": [],
   "source": [
    "align.fit(ctx_mean, reference = gm_mean)"
   ]
  },
  {
   "cell_type": "markdown",
   "id": "3f3b4f37",
   "metadata": {},
   "source": [
    "### align each individual connectivity matrix with hcp-aligned group connectivity matrix\n",
    "\n",
    "> we call it individual eigenvector"
   ]
  },
  {
   "cell_type": "code",
   "execution_count": null,
   "id": "607a7b41",
   "metadata": {
    "ExecuteTime": {
     "end_time": "2022-08-09T03:17:14.748486Z",
     "start_time": "2022-08-09T03:17:12.682010Z"
    }
   },
   "outputs": [],
   "source": [
    "for i in range(1,100+1):\n",
    "    align2 = GradientMaps(kernel='normalized_angle', approach='dm', alignment='procrustes', n_components = 5)\n",
    "    align2.fit(getattr(mod,'ctx{}_cz'.format(i)), reference = align.aligned_)\n",
    "    globals()['grad_{}'.format(i)] = align2.aligned_[:,0:2+1]"
   ]
  },
  {
   "cell_type": "markdown",
   "id": "f54eea87",
   "metadata": {},
   "source": [
    "### we perform element-wise multiplication with subcortico-cortical connectivity matrix and cortical eigenvectors"
   ]
  },
  {
   "cell_type": "code",
   "execution_count": null,
   "id": "eecd5b8b",
   "metadata": {
    "ExecuteTime": {
     "end_time": "2022-08-09T03:17:14.824283Z",
     "start_time": "2022-08-09T03:17:14.754469Z"
    }
   },
   "outputs": [],
   "source": [
    "for i in range(1,100+1):\n",
    "    grad = getattr(mod,'grad_{}'.format(i)).T\n",
    "    sc_ctx = getattr(mod,'sc_ctx{}_c2'.format(i))\n",
    "    mat = np.zeros((3,9,200))\n",
    "    for j in range(0,2+1):\n",
    "        for k in range(0,8+1):\n",
    "            mat[j,k,:] = np.multiply(grad[j],sc_ctx[k]) \n",
    "    globals()['sw_manifold{}'.format(i)] = mat\n",
    "# array type: 3x9x200(3 eigenvectors x 9 regions x 200 nodes)"
   ]
  },
  {
   "cell_type": "markdown",
   "id": "828d6f69",
   "metadata": {},
   "source": [
    "### we will get degree centralities of subcortical-weighted manifolds in terms for 9 regions"
   ]
  },
  {
   "cell_type": "code",
   "execution_count": null,
   "id": "c1a819ea",
   "metadata": {
    "ExecuteTime": {
     "end_time": "2022-08-09T04:09:53.513356Z",
     "start_time": "2022-08-09T04:09:53.475452Z"
    }
   },
   "outputs": [],
   "source": [
    "for i in range(0,8+1):\n",
    "    sw_mean = np.zeros((100,3))\n",
    "    for j in range(1,100+1):\n",
    "        sw_manifold = getattr(mod,'sw_manifold{}'.format(j))\n",
    "        row = sw_manifold[:,i,:]\n",
    "        rmean = row.mean(axis=1)\n",
    "        sw_mean[j-1,:] = rmean\n",
    "    globals()['sw_mean{}'.format(str(i+1))] = sw_mean"
   ]
  },
  {
   "cell_type": "markdown",
   "id": "eeab08b5",
   "metadata": {},
   "source": [
    "concatenate 9 sw_means"
   ]
  },
  {
   "cell_type": "code",
   "execution_count": null,
   "id": "2c0dfbfb",
   "metadata": {
    "ExecuteTime": {
     "end_time": "2022-08-09T04:17:40.680545Z",
     "start_time": "2022-08-09T04:17:40.660596Z"
    }
   },
   "outputs": [],
   "source": [
    "sw_means = np.concatenate([getattr(mod, f'sw_mean{i}') for i in range(1,9+1)],1)"
   ]
  },
  {
   "cell_type": "code",
   "execution_count": null,
   "id": "e785fd5b",
   "metadata": {
    "ExecuteTime": {
     "end_time": "2022-08-09T04:17:40.946923Z",
     "start_time": "2022-08-09T04:17:40.938943Z"
    }
   },
   "outputs": [],
   "source": [
    "col1 = [f'sw_mani1_{i}' for i in range(1,9+1)]\n",
    "col2 = [f'sw_mani2_{i}' for i in range(1,9+1)]\n",
    "col3 = [f'sw_mani3_{i}' for i in range(1,9+1)]"
   ]
  },
  {
   "cell_type": "code",
   "execution_count": null,
   "id": "86aec801",
   "metadata": {
    "ExecuteTime": {
     "end_time": "2022-08-09T04:17:41.104415Z",
     "start_time": "2022-08-09T04:17:41.086493Z"
    }
   },
   "outputs": [],
   "source": [
    "col1.extend(col2)"
   ]
  },
  {
   "cell_type": "code",
   "execution_count": null,
   "id": "5ff94bf4",
   "metadata": {
    "ExecuteTime": {
     "end_time": "2022-08-09T04:17:41.247523Z",
     "start_time": "2022-08-09T04:17:41.228602Z"
    }
   },
   "outputs": [],
   "source": [
    "col1.extend(col3)"
   ]
  },
  {
   "cell_type": "code",
   "execution_count": null,
   "id": "918e8548",
   "metadata": {
    "ExecuteTime": {
     "end_time": "2022-08-09T04:17:41.373365Z",
     "start_time": "2022-08-09T04:17:41.368346Z"
    }
   },
   "outputs": [],
   "source": [
    "sw_means = pd.DataFrame(sw_means)"
   ]
  },
  {
   "cell_type": "code",
   "execution_count": null,
   "id": "9134f0f2",
   "metadata": {
    "ExecuteTime": {
     "end_time": "2022-08-09T04:17:41.530385Z",
     "start_time": "2022-08-09T04:17:41.512399Z"
    }
   },
   "outputs": [],
   "source": [
    "sw_means.columns = col1"
   ]
  },
  {
   "cell_type": "code",
   "execution_count": null,
   "id": "2de30f5a",
   "metadata": {
    "ExecuteTime": {
     "end_time": "2022-08-09T04:17:41.687168Z",
     "start_time": "2022-08-09T04:17:41.674181Z"
    }
   },
   "outputs": [],
   "source": [
    "sw_means = sw_means[:50]"
   ]
  },
  {
   "cell_type": "code",
   "execution_count": null,
   "id": "97a93cc0",
   "metadata": {
    "ExecuteTime": {
     "end_time": "2022-08-09T04:17:41.812408Z",
     "start_time": "2022-08-09T04:17:41.807423Z"
    }
   },
   "outputs": [],
   "source": [
    "X_dat_s = sw_means"
   ]
  },
  {
   "cell_type": "markdown",
   "id": "21084195",
   "metadata": {},
   "source": [
    "### regress out"
   ]
  },
  {
   "cell_type": "markdown",
   "id": "5f52c8e8",
   "metadata": {},
   "source": [
    "1. we make linear model which has X = rm and y = one column among all features\n",
    "2. we then get predicted value by putting X into the model again\n",
    "\n",
    "> lm.fit(X, y)"
   ]
  },
  {
   "cell_type": "code",
   "execution_count": null,
   "id": "1b763167",
   "metadata": {
    "ExecuteTime": {
     "end_time": "2022-08-09T04:17:43.350340Z",
     "start_time": "2022-08-09T04:17:43.267585Z"
    }
   },
   "outputs": [],
   "source": [
    "# 27 sw_manifold terms\n",
    "for i in range(0,26+1):\n",
    "    lm = LinearRegression()\n",
    "    lm.fit(rm, sw_means.iloc[:,i])\n",
    "    pred = lm.predict(rm)\n",
    "    globals()[f'sw_means{i+1}'] = pred.reshape(NumSubj,1)"
   ]
  },
  {
   "cell_type": "code",
   "execution_count": null,
   "id": "5470830d",
   "metadata": {
    "ExecuteTime": {
     "end_time": "2022-08-09T04:17:43.442345Z",
     "start_time": "2022-08-09T04:17:43.422372Z"
    }
   },
   "outputs": [],
   "source": [
    "sw_means = np.concatenate([getattr(mod, f'sw_means{i}') for i in range(1,27+1)],1)"
   ]
  },
  {
   "cell_type": "code",
   "execution_count": null,
   "id": "19be5cf7",
   "metadata": {
    "ExecuteTime": {
     "end_time": "2022-08-09T04:17:43.585088Z",
     "start_time": "2022-08-09T04:17:43.580097Z"
    }
   },
   "outputs": [],
   "source": [
    "grad_s = sw_means"
   ]
  },
  {
   "cell_type": "markdown",
   "id": "b4797dbb",
   "metadata": {},
   "source": [
    "we remove X_dat from grad to get corrected terms"
   ]
  },
  {
   "cell_type": "code",
   "execution_count": null,
   "id": "9ba9f63f",
   "metadata": {
    "ExecuteTime": {
     "end_time": "2022-08-09T04:17:43.849764Z",
     "start_time": "2022-08-09T04:17:43.833812Z"
    }
   },
   "outputs": [],
   "source": [
    "X_grad_s = X_dat_s - grad_s"
   ]
  },
  {
   "cell_type": "markdown",
   "id": "10d56198",
   "metadata": {},
   "source": [
    "we set y"
   ]
  },
  {
   "cell_type": "code",
   "execution_count": null,
   "id": "2d13297d",
   "metadata": {
    "ExecuteTime": {
     "end_time": "2022-08-09T04:18:37.576657Z",
     "start_time": "2022-08-09T04:18:37.561698Z"
    }
   },
   "outputs": [],
   "source": [
    "y = pd.DataFrame(ha_freq)"
   ]
  },
  {
   "cell_type": "code",
   "execution_count": null,
   "id": "b16d7c6a",
   "metadata": {
    "ExecuteTime": {
     "end_time": "2022-08-09T04:18:38.093695Z",
     "start_time": "2022-08-09T04:18:38.085707Z"
    }
   },
   "outputs": [],
   "source": [
    "y.columns = ['ha_freq']"
   ]
  },
  {
   "cell_type": "markdown",
   "id": "755448ca",
   "metadata": {},
   "source": [
    "we make one model that concatenate X_grad and X_grad_s"
   ]
  },
  {
   "cell_type": "code",
   "execution_count": null,
   "id": "732e222a",
   "metadata": {
    "ExecuteTime": {
     "end_time": "2022-08-09T04:18:44.015957Z",
     "start_time": "2022-08-09T04:18:40.276285Z"
    }
   },
   "outputs": [],
   "source": [
    "from statsmodels.formula.api import ols\n",
    "import matplotlib\n",
    "from __future__ import print_function\n",
    "import statsmodels.api as sm\n",
    "import matplotlib.pyplot as plot\n",
    "from statsmodels.sandbox.regression.predstd import wls_prediction_std"
   ]
  },
  {
   "cell_type": "code",
   "execution_count": null,
   "id": "1acd58c7",
   "metadata": {
    "ExecuteTime": {
     "end_time": "2022-08-09T04:18:48.972610Z",
     "start_time": "2022-08-09T04:18:48.958648Z"
    }
   },
   "outputs": [],
   "source": [
    "X_grad_rst = pd.concat([X_grad,X_grad_s],axis=1)"
   ]
  },
  {
   "cell_type": "code",
   "execution_count": null,
   "id": "53652904",
   "metadata": {
    "ExecuteTime": {
     "end_time": "2022-08-09T04:18:49.539623Z",
     "start_time": "2022-08-09T04:18:49.523663Z"
    }
   },
   "outputs": [],
   "source": [
    "matplotlib.rcParams['axes.unicode_minus'] = False"
   ]
  },
  {
   "cell_type": "markdown",
   "id": "3dd95f1c",
   "metadata": {},
   "source": [
    "we compute ols with X_grad_rst and ha_freq"
   ]
  },
  {
   "cell_type": "code",
   "execution_count": null,
   "id": "0e65c914",
   "metadata": {
    "ExecuteTime": {
     "end_time": "2022-08-09T04:18:51.962152Z",
     "start_time": "2022-08-09T04:18:51.949161Z"
    }
   },
   "outputs": [],
   "source": [
    "# summary and modeling\n",
    "model = sm.OLS(y, X_grad_rst)"
   ]
  },
  {
   "cell_type": "code",
   "execution_count": null,
   "id": "c4bb8e8b",
   "metadata": {
    "ExecuteTime": {
     "end_time": "2022-08-09T04:18:52.352717Z",
     "start_time": "2022-08-09T04:18:52.305877Z"
    }
   },
   "outputs": [],
   "source": [
    "results = model.fit()"
   ]
  },
  {
   "cell_type": "code",
   "execution_count": null,
   "id": "caa329f8",
   "metadata": {
    "ExecuteTime": {
     "end_time": "2022-08-09T04:18:53.137386Z",
     "start_time": "2022-08-09T04:18:52.855099Z"
    }
   },
   "outputs": [],
   "source": [
    "print(results.summary())"
   ]
  },
  {
   "cell_type": "markdown",
   "id": "08b39027",
   "metadata": {},
   "source": [
    "## <span style=\"color:#2D3748; background-color:#fff5b1;\">supervised machine learning</span>"
   ]
  },
  {
   "cell_type": "code",
   "execution_count": null,
   "id": "cc2c9414",
   "metadata": {
    "ExecuteTime": {
     "end_time": "2022-08-09T04:18:58.687164Z",
     "start_time": "2022-08-09T04:18:55.392422Z"
    }
   },
   "outputs": [],
   "source": [
    "from sklearn.datasets import load_iris\n",
    "from sklearn.tree import DecisionTreeClassifier\n",
    "from sklearn.metrics import accuracy_score\n",
    "from sklearn.model_selection import KFold\n",
    "from sklearn.linear_model import Lasso, Ridge\n",
    "from sklearn.metrics import mean_squared_error as mse\n",
    "\n",
    "\n",
    "from sklearn.ensemble import RandomForestRegressor\n",
    "from sklearn.metrics import mean_absolute_error\n",
    "from scipy.stats import pearsonr\n",
    "\n",
    "from math import isclose\n",
    "\n",
    "from sklearn.metrics import mean_squared_error\n",
    "from sklearn.metrics import mean_absolute_error \n",
    "from math import sqrt\n",
    "import sklearn\n",
    "\n",
    "from sklearn.model_selection import RepeatedKFold\n",
    "import time"
   ]
  },
  {
   "cell_type": "markdown",
   "id": "499440a3",
   "metadata": {},
   "source": [
    "### generate outer fold "
   ]
  },
  {
   "cell_type": "code",
   "execution_count": null,
   "id": "9fe7deb5",
   "metadata": {
    "ExecuteTime": {
     "end_time": "2022-08-09T04:19:02.562587Z",
     "start_time": "2022-08-09T04:19:02.556603Z"
    }
   },
   "outputs": [],
   "source": [
    "alphas = np.array((0.01,0.02,0.03,0.04,0.05,0.06,0.07,0.08,0.09,0.1))"
   ]
  },
  {
   "cell_type": "code",
   "execution_count": null,
   "id": "1c5053fc",
   "metadata": {
    "ExecuteTime": {
     "end_time": "2022-08-09T04:19:02.735512Z",
     "start_time": "2022-08-09T04:19:02.717551Z"
    }
   },
   "outputs": [],
   "source": [
    "rfk = RepeatedKFold(n_splits=5, n_repeats=100,random_state=1219)"
   ]
  },
  {
   "cell_type": "markdown",
   "id": "6c240a54",
   "metadata": {},
   "source": [
    "### 100 trials loop"
   ]
  },
  {
   "cell_type": "markdown",
   "id": "e0ebc9f1",
   "metadata": {},
   "source": [
    "- get the set of indices using 100 trials loop"
   ]
  },
  {
   "cell_type": "code",
   "execution_count": null,
   "id": "0cd16911",
   "metadata": {
    "ExecuteTime": {
     "end_time": "2022-08-09T04:19:04.898299Z",
     "start_time": "2022-08-09T04:19:04.844415Z"
    }
   },
   "outputs": [],
   "source": [
    "i = 0\n",
    "j = 0\n",
    "train = []\n",
    "test = []\n",
    "for train_index, test_index in rfk.split(X_grad_rst):\n",
    "    i = i + 1\n",
    "    train.append(train_index)\n",
    "    test.append(test_index)\n",
    "    if i % 5 == 0:\n",
    "        j = j+1\n",
    "        globals()['train{}'.format(j)] = train \n",
    "        globals()['test{}'.format(j)] = test\n",
    "        train = []\n",
    "        test = []"
   ]
  },
  {
   "cell_type": "markdown",
   "id": "5b46da85",
   "metadata": {},
   "source": [
    "- get the datasets of outer folds at each trial"
   ]
  },
  {
   "cell_type": "code",
   "execution_count": null,
   "id": "0a83e828",
   "metadata": {
    "ExecuteTime": {
     "end_time": "2022-08-09T04:19:07.229735Z",
     "start_time": "2022-08-09T04:19:06.896273Z"
    }
   },
   "outputs": [],
   "source": [
    "for i in range(1,100+1):\n",
    "    train_ = getattr(mod, 'train{}'.format(i))\n",
    "    test_ = getattr(mod, 'test{}'.format(i))\n",
    "    \n",
    "    for out in range(1,5+1):\n",
    "        train_idx = train_[out-1]\n",
    "        test_idx = test_[out-1]\n",
    "\n",
    "        # e.g., X_train1_1: 1st trial's 1st outer fold's dataset\n",
    "        globals()['X_train{}_{}'.format(i,out)] = X_grad_rst.iloc[train_idx]\n",
    "        globals()['X_test{}_{}'.format(i,out)] = X_grad_rst.iloc[test_idx]\n",
    "        globals()['y_train{}_{}'.format(i,out)] = y.iloc[train_idx]\n",
    "        globals()['y_test{}_{}'.format(i,out)] = y.iloc[test_idx]"
   ]
  },
  {
   "cell_type": "markdown",
   "id": "504b621c",
   "metadata": {},
   "source": [
    "- perform inner fold loop and alpha loop at each outer fold"
   ]
  },
  {
   "cell_type": "code",
   "execution_count": null,
   "id": "c6e6a929",
   "metadata": {
    "ExecuteTime": {
     "end_time": "2022-08-09T04:27:06.385159Z",
     "start_time": "2022-08-09T04:19:16.400502Z"
    },
    "scrolled": true
   },
   "outputs": [],
   "source": [
    "start = time.time()\n",
    "for i in range(1,100+1):\n",
    "    print('\\n\\033[1m'+'### {}th tiral ###'.format(i)+'\\033[0m')\n",
    "    for out in range(1,5+1):\n",
    "        print('·outfold={}'.format(out))\n",
    "        X_train_ = getattr(mod,'X_train{}_{}'.format(i,out))\n",
    "        X_test_ = getattr(mod,'X_test{}_{}'.format(i,out))\n",
    "        y_train_ = getattr(mod,'y_train{}_{}'.format(i,out))\n",
    "        y_test_ = getattr(mod,'y_test{}_{}'.format(i,out))\n",
    "\n",
    "        \n",
    "        np.random.seed(0)\n",
    "        kf = KFold(n_splits=5,shuffle=True)\n",
    "        inner = 0\n",
    "        inner_icc, inner_mae = [], []\n",
    "        for inner_train, inner_test in kf.split(X_train_):\n",
    "            inner = inner + 1\n",
    "            print(' - inner_fold={}'.format(inner))\n",
    "            x_train_sbt, x_val = X_train_.iloc[inner_train], X_train_.iloc[inner_test]\n",
    "            y_train_sbt, y_val = y_train_.iloc[inner_train], y_train_.iloc[inner_test]\n",
    "            \n",
    "            alpha_mae = []\n",
    "            alpha_icc = []\n",
    "            for alpha in range(1,10+1):\n",
    "                np.random.seed(0)\n",
    "                lasso = Lasso(alpha=alphas[alpha-1])\n",
    "                \n",
    "                lasso.fit(x_train_sbt,y_train_sbt)\n",
    "                \n",
    "                # save indices of selected features through lasso\n",
    "                lasso_idx = np.where(lasso.coef_!=0)\n",
    "                \n",
    "                # if there is no selected feature, we put weird values,\n",
    "                # and then interrupt the corresponding iteration and pass the next iteration.\n",
    "                if np.sum(lasso_idx) == 0:\n",
    "                    alpha_mae.append(100)\n",
    "                    alpha_icc.append(-100)\n",
    "                    continue\n",
    "                \n",
    "                # if there is selected feature, we perform next working\n",
    "                globals()['alpha_lasso{}'.format(alpha)] = lasso_idx\n",
    "                # save feature names with corresponding alpha iteration\n",
    "                \n",
    "                # we make linear model only using selected features\n",
    "                selected_col = x_train_sbt.columns[lasso_idx]\n",
    "                \n",
    "                x_train_sel = x_train_sbt[selected_col]\n",
    "                x_val_sel = x_val[selected_col]\n",
    "                \n",
    "                lm = LinearRegression()\n",
    "                lm.fit(x_train_sel, y_train_sbt)\n",
    "                globals()['alpha_model{}'.format(alpha)] = lm\n",
    "                # we save the model's name with corresponding alpha iteration number together\n",
    "                \n",
    "                pred = lm.predict(x_val_sel)\n",
    "                mae = mean_absolute_error(y_val, pred)\n",
    "                \n",
    "                # icc computation\n",
    "                dat = pd.concat([y_val.reset_index(drop=True), pd.DataFrame(pred)], axis=1)\n",
    "                ns = len(dat) # row number\n",
    "                nr = len(dat.columns) # col number\n",
    "                MSr = dat.mean(axis=1).var() * nr\n",
    "                MSw = np.sum(dat.var(axis=1) / ns)\n",
    "                icc = (MSr - MSw) / (MSr + (nr-1)*MSw)\n",
    "                \n",
    "                alpha_mae.append(mae)\n",
    "                alpha_icc.append(icc)\n",
    "            \n",
    "            # we got out of the alpha loop\n",
    "            # now, it is inner loop\n",
    "            \n",
    "            # Based on alpha loop, we save the best model and the lasso indices of the model with accuracy\n",
    "            \n",
    "            # But, since icc may overlap, we perform the following\n",
    "            # also, if icc has -100 values in all alphas, \n",
    "            # we do not save the model corresponding the inner_fold\n",
    "            \n",
    "            # maximum value of icc\n",
    "            icc = np.max(alpha_icc)\n",
    "            \n",
    "            # index of maximum value of icc\n",
    "            num = np.where(alpha_icc == icc)[0]\n",
    "\n",
    "            \n",
    "            # when the maximum of icc has more than two values,\n",
    "            # it will return the smaller of them.\n",
    "            # but, even if there is one maximum value, it applies also.\n",
    "            alpha_mae = pd.DataFrame(alpha_mae)\n",
    "            mae = alpha_mae.iloc[num].min()[0]\n",
    "            \n",
    "            # we save index to select the best model based on the icc\n",
    "            # if icc and mae are same, save as first index.\n",
    "            alpha_idx = alpha_mae.index[alpha_mae[0] == mae][0]\n",
    "            \n",
    "            alpha_idx = alpha_idx + 1\n",
    "                \n",
    "            ### now, we select the best model in alpha loop based on accuracy,\n",
    "            ### and then save it as the model corresponding inner fold iteration \n",
    "            globals()['model{}_{}_{}'.format(i,out,inner)] = getattr(mod,'alpha_model{}'.format(alpha_idx))\n",
    "            globals()['lasso{}_{}_{}'.format(i,out,inner)] = getattr(mod,'alpha_lasso{}'.format(alpha_idx))\n",
    "            \n",
    "            # also save accuracy\n",
    "            globals()['mae{}_{}_{}'.format(i,out,inner)] = mae\n",
    "            globals()['icc{}_{}_{}'.format(i,out,inner)] = icc\n",
    "end = time.time()\n",
    "print('Done!')\n",
    "print('time:', end - start)"
   ]
  },
  {
   "cell_type": "markdown",
   "id": "82d6e935",
   "metadata": {},
   "source": [
    "- we set the best model of inner fold as outer fold model"
   ]
  },
  {
   "cell_type": "code",
   "execution_count": null,
   "id": "385d4523",
   "metadata": {
    "ExecuteTime": {
     "end_time": "2022-08-09T04:27:07.193000Z",
     "start_time": "2022-08-09T04:27:06.389149Z"
    }
   },
   "outputs": [],
   "source": [
    "for i in range(1,100+1):\n",
    "    for out in range(1,5+1):\n",
    "        inner_mae = []\n",
    "        inner_icc = []\n",
    "        for inner in range(1,5+1):\n",
    "            mae_ = getattr(mod,'mae{}_{}_{}'.format(i,out,inner))\n",
    "            icc_ = getattr(mod,'icc{}_{}_{}'.format(i,out,inner))\n",
    "            \n",
    "            globals()['inner_model{}'.format(inner)] = getattr(mod,'model{}_{}_{}'.format(i,out,inner)) \n",
    "            globals()['inner_lasso{}'.format(inner)] = getattr(mod,'lasso{}_{}_{}'.format(i,out,inner))\n",
    "\n",
    "            inner_mae.append(mae_)\n",
    "            inner_icc.append(icc_)\n",
    "        \n",
    "        # we got out of the inner fold loop\n",
    "        # now it is outer loop\n",
    "        \n",
    "        # we select the best model in inner fold loop\n",
    "\n",
    "        # maximum value of icc\n",
    "        icc = np.max(inner_icc)\n",
    "\n",
    "        # index of maximum value of icc\n",
    "        num = np.where(inner_icc == icc)[0]\n",
    "        \n",
    "        # when the maximum of icc has more than two values,\n",
    "        # it will return the smaller of them.\n",
    "        # but, even if there is one maximum value, it applies also.\n",
    "        inner_mae = pd.DataFrame(inner_mae)\n",
    "        mae = inner_mae.iloc[num].min()[0]\n",
    "        \n",
    "        \n",
    "        # we save index to select the best model based on the icc\n",
    "        # if icc and mae are same, save as first index.\n",
    "        inner_idx = inner_mae.index[inner_mae[0] == mae][0]\n",
    "        \n",
    "        inner_idx = inner_idx + 1\n",
    "\n",
    "        ### now, we select the best model in inner fold based on accuracy,\n",
    "        ### and then save it as the model corresponding outer fold iteration \n",
    "        globals()['model{}_{}'.format(i,out)] = getattr(mod,'inner_model{}'.format(inner_idx))\n",
    "        globals()['lasso{}_{}'.format(i,out)] = getattr(mod,'inner_lasso{}'.format(inner_idx))\n",
    "\n",
    "        # also save accuracy\n",
    "        globals()['mae{}_{}'.format(i,out)] = mae\n",
    "        globals()['icc{}_{}'.format(i,out)] = icc"
   ]
  },
  {
   "cell_type": "markdown",
   "id": "d8a518e8",
   "metadata": {},
   "source": [
    "- set lasso indices of the best model at each outer fold as finally selected lasso indices"
   ]
  },
  {
   "cell_type": "code",
   "execution_count": null,
   "id": "c7f3d49f",
   "metadata": {
    "ExecuteTime": {
     "end_time": "2022-08-09T04:27:07.348586Z",
     "start_time": "2022-08-09T04:27:07.195992Z"
    }
   },
   "outputs": [],
   "source": [
    "for i in range(1,100+1):\n",
    "    outer_mae = []\n",
    "    outer_icc = []\n",
    "    for out in range(1,5+1):\n",
    "        mae_ = getattr(mod,'mae{}_{}'.format(i,out))\n",
    "        icc_ = getattr(mod,'icc{}_{}'.format(i,out))\n",
    "\n",
    "        globals()['outer_model{}'.format(out)] = getattr(mod,'model{}_{}'.format(i,out)) \n",
    "        globals()['outer_lasso{}'.format(out)] = getattr(mod,'lasso{}_{}'.format(i,out))\n",
    "\n",
    "        outer_mae.append(mae_)\n",
    "        outer_icc.append(icc_)\n",
    "\n",
    "    # we got out of the outer fold loop\n",
    "    # now it is trial loop\n",
    "\n",
    "\n",
    "    # we select the best model in outer fold loop\n",
    "\n",
    "\n",
    "    # maximum value of icc\n",
    "    icc = np.max(outer_icc)\n",
    "\n",
    "    # index of maximum value of icc\n",
    "    num = np.where(outer_icc == icc)[0]\n",
    "\n",
    "    # when the maximum of icc has more than two values,\n",
    "    # it will return the smaller of them.\n",
    "    # but, even if there is one maximum value, it applies also.\n",
    "    outer_mae = pd.DataFrame(outer_mae)\n",
    "    mae = outer_mae.iloc[num].min()[0]\n",
    "\n",
    "    # we save index to select the best model based on the icc\n",
    "    # if icc and mae are same, save as first index.\n",
    "    outer_idx = outer_mae.index[outer_mae[0] == mae][0]\n",
    "\n",
    "\n",
    "    outer_idx = outer_idx + 1\n",
    "\n",
    "    ### now, we select the best model in outer fold based on accuracy,\n",
    "    ### and then save its lasso indices corresponding the outer fold iteration \n",
    "    globals()['final_lasso{}'.format(i)] = getattr(mod,'outer_lasso{}'.format(outer_idx))\n",
    "\n",
    "    # acc도 저장\n",
    "    globals()['mae{}'.format(i)] = mae\n",
    "    globals()['icc{}'.format(i)] = icc"
   ]
  },
  {
   "cell_type": "markdown",
   "id": "362f2052",
   "metadata": {},
   "source": [
    "#### we will perform 5-fold cross validations based on existing nested cross-validation results\n",
    "- we will save the results from this for later analysis\n",
    "\n",
    "1. put best selected features of outer fold defined above,\n",
    "2. perform 5-fold cross validation with 50 subjects"
   ]
  },
  {
   "cell_type": "code",
   "execution_count": null,
   "id": "983323c6",
   "metadata": {
    "ExecuteTime": {
     "end_time": "2022-08-09T04:27:09.582559Z",
     "start_time": "2022-08-09T04:27:07.352574Z"
    }
   },
   "outputs": [],
   "source": [
    "for i in range(1,100+1):\n",
    "    lasso_ = getattr(mod,'final_lasso{}'.format(i))\n",
    "    \n",
    "    # select column using lasso feature selection\n",
    "    col_selected = X_grad_rst.columns[lasso_]\n",
    "    \n",
    "    X_selected = X_grad_rst[col_selected]\n",
    "\n",
    "    pred_final = np.array(())\n",
    "    y_final = np.array(())\n",
    "\n",
    "    np.random.seed(0)\n",
    "    kf = KFold(n_splits=5, shuffle=True)\n",
    "\n",
    "    for train_index, test_index in kf.split(X_selected):\n",
    "        x_train, x_test = X_selected.iloc[train_index], X_selected.iloc[test_index]\n",
    "        y_train, y_test = y.iloc[train_index], y.iloc[test_index]\n",
    "        \n",
    "        lm = LinearRegression()\n",
    "        lm.fit(x_train, y_train)\n",
    "        pred = lm.predict(x_test)\n",
    "        \n",
    "        pred_final = np.append(pred_final, pred)\n",
    "        y_final = np.append(y_final, y_test)\n",
    "    \n",
    "    # after finishing final 5-fold cross validation, \n",
    "    # save predicted and actual values for each trial\n",
    "    globals()['pred_final{}'.format(i)] = pred_final\n",
    "    globals()['y_final{}'.format(i)] = y_final"
   ]
  },
  {
   "cell_type": "markdown",
   "id": "8d392e2c",
   "metadata": {},
   "source": [
    "plotting it into brain surface"
   ]
  },
  {
   "cell_type": "code",
   "execution_count": null,
   "id": "952d07b1",
   "metadata": {
    "ExecuteTime": {
     "end_time": "2022-08-09T04:27:09.598525Z",
     "start_time": "2022-08-09T04:27:09.586600Z"
    }
   },
   "outputs": [],
   "source": [
    "import nibabel as nib\n",
    "from nilearn.datasets import fetch_surf_fsaverage\n",
    "\n",
    "import brainstat\n",
    "from brainstat.stats.terms import FixedEffect\n",
    "\n",
    "from scipy import io\n",
    "\n",
    "from brainspace.datasets import load_group_fc, load_parcellation, load_conte69\n",
    "from brainspace.gradient import GradientMaps\n",
    "from brainspace.plotting import plot_hemispheres\n",
    "from brainspace.utils.parcellation import map_to_labels\n",
    "\n",
    "import enigmatoolbox\n",
    "from enigmatoolbox.utils.parcellation import parcel_to_surface\n",
    "from enigmatoolbox.plotting import plot_cortical\n",
    "from enigmatoolbox.plotting.surface_plotting import plot_subcortical\n",
    "from mlxtend.evaluate import permutation_test\n",
    "import scipy.stats as st"
   ]
  },
  {
   "cell_type": "code",
   "execution_count": null,
   "id": "15935eeb",
   "metadata": {
    "ExecuteTime": {
     "end_time": "2022-08-09T04:27:09.614294Z",
     "start_time": "2022-08-09T04:27:09.601521Z"
    }
   },
   "outputs": [],
   "source": [
    "# get brainstat dir\n",
    "brainstat_dir = os.path.dirname(brainstat.__file__)"
   ]
  },
  {
   "cell_type": "code",
   "execution_count": null,
   "id": "f7872ddc",
   "metadata": {
    "ExecuteTime": {
     "end_time": "2022-08-09T04:27:09.995006Z",
     "start_time": "2022-08-09T04:27:09.616263Z"
    }
   },
   "outputs": [],
   "source": [
    "labeling = load_parcellation('schaefer', scale=200, join=True)\n",
    "mask = labeling != 0\n",
    "\n",
    "# generate labeing and mask based on schaefer200\n",
    "\n",
    "surf_lh, surf_rh = load_conte69()"
   ]
  },
  {
   "cell_type": "code",
   "execution_count": null,
   "id": "5e2cab61",
   "metadata": {
    "ExecuteTime": {
     "end_time": "2022-08-09T04:27:10.011001Z",
     "start_time": "2022-08-09T04:27:09.997004Z"
    }
   },
   "outputs": [],
   "source": [
    "ctx_surface =  np.zeros((200,3))\n",
    "sctx_surface = np.zeros((9,3))"
   ]
  },
  {
   "cell_type": "code",
   "execution_count": null,
   "id": "6faa7a6e",
   "metadata": {
    "ExecuteTime": {
     "end_time": "2022-08-09T04:27:10.026925Z",
     "start_time": "2022-08-09T04:27:10.013960Z"
    }
   },
   "outputs": [],
   "source": [
    "# continuously append indices of selected features durnig 100 trials\n",
    "for i in range(1,100+1):\n",
    "    final_lasso = getattr(mod,'final_lasso{}'.format(i))\n",
    "    final_lasso = final_lasso[0]-1 \n",
    "    \n",
    "    full = np.ones((627,))\n",
    "    empty = np.zeros((627,))\n",
    "    empty[final_lasso] = full[final_lasso]\n",
    "\n",
    "    ctx = np.zeros((200,3))\n",
    "    sctx = np.zeros((9,3))\n",
    "    \n",
    "\n",
    "    ctx[:,0] = empty[0:200,]\n",
    "    ctx[:,1] = empty[200:400,]\n",
    "    ctx[:,2] = empty[400:600,]\n",
    "    \n",
    "    sctx[:,0] = empty[600:609,]\n",
    "    sctx[:,1] = empty[609:618,]\n",
    "    sctx[:,2] = empty[618:627,]\n",
    "\n",
    "    \n",
    "    ctx_surface = ctx_surface + ctx\n",
    "    sctx_surface = sctx_surface + sctx\n",
    "\n",
    "ctx_surface = ctx_surface/100\n",
    "sctx_surface = sctx_surface/100"
   ]
  },
  {
   "cell_type": "markdown",
   "id": "84a7434b",
   "metadata": {},
   "source": [
    "### ctx_surface"
   ]
  },
  {
   "cell_type": "markdown",
   "id": "cbcd41ee",
   "metadata": {},
   "source": [
    "ctx_surface_sum"
   ]
  },
  {
   "cell_type": "code",
   "execution_count": null,
   "id": "ce7e2fac",
   "metadata": {
    "ExecuteTime": {
     "end_time": "2022-08-09T04:32:29.020152Z",
     "start_time": "2022-08-09T04:32:29.012146Z"
    }
   },
   "outputs": [],
   "source": [
    "ctx_surface_sum = np.sum(ctx_surface,axis=1).round(2).reshape(200,1)"
   ]
  },
  {
   "cell_type": "code",
   "execution_count": null,
   "id": "6894e692",
   "metadata": {
    "ExecuteTime": {
     "end_time": "2022-08-09T04:32:29.240509Z",
     "start_time": "2022-08-09T04:32:29.221600Z"
    }
   },
   "outputs": [],
   "source": [
    "num_max = np.max(ctx_surface_sum)"
   ]
  },
  {
   "cell_type": "code",
   "execution_count": null,
   "id": "756b6b5d",
   "metadata": {
    "ExecuteTime": {
     "end_time": "2022-08-09T04:32:29.553907Z",
     "start_time": "2022-08-09T04:32:29.533931Z"
    }
   },
   "outputs": [],
   "source": [
    "num_max"
   ]
  },
  {
   "cell_type": "code",
   "execution_count": null,
   "id": "e124b36c",
   "metadata": {
    "ExecuteTime": {
     "end_time": "2022-08-09T04:32:32.629406Z",
     "start_time": "2022-08-09T04:32:32.402154Z"
    },
    "scrolled": true
   },
   "outputs": [],
   "source": [
    "gradients_kernel = [None] * 1 \n",
    "\n",
    "gradients_kernel[0] = map_to_labels(ctx_surface_sum[:, 0], labeling, mask=mask,\n",
    "                                       fill=np.nan)\n",
    "\n",
    "    \n",
    "label_text = ['']\n",
    "# plot_hemispheres(surf_lh, surf_rh, array_name=gradients_kernel, size=(1200,300),\n",
    "#                 cmap='Reds', color_bar=True,label_text=label_text, zoom=1,color_range=(0,num_max)) \n",
    "plot_hemispheres(surf_lh, surf_rh, array_name=gradients_kernel, size=(1200,300),\n",
    "                cmap='Reds', color_bar=False,label_text=label_text, zoom=1,color_range=(0,0.8), screenshot=True, filename='./fig4/ha_freq/revised_ctx.png') "
   ]
  },
  {
   "cell_type": "markdown",
   "id": "f7a7c9fa",
   "metadata": {},
   "source": [
    "### sctx_surface"
   ]
  },
  {
   "cell_type": "markdown",
   "id": "7334fbf8",
   "metadata": {},
   "source": [
    "sctx_surface_sum"
   ]
  },
  {
   "cell_type": "code",
   "execution_count": null,
   "id": "a958ccfe",
   "metadata": {},
   "outputs": [],
   "source": [
    "sctx_surface_sum = np.sum(sctx_surface,axis=1).round(2).reshape(9,1)"
   ]
  },
  {
   "cell_type": "code",
   "execution_count": null,
   "id": "67665252",
   "metadata": {
    "ExecuteTime": {
     "end_time": "2022-08-09T04:36:10.492485Z",
     "start_time": "2022-08-09T04:36:10.477526Z"
    }
   },
   "outputs": [],
   "source": [
    "sctx_surface_sum = np.concatenate([sctx_surface_sum[0:7],sctx_surface_sum[0:7]]).reshape(14,)"
   ]
  },
  {
   "cell_type": "code",
   "execution_count": null,
   "id": "af68e684",
   "metadata": {},
   "outputs": [],
   "source": [
    "num_max_s = np.max(sctx_surface_sum)"
   ]
  },
  {
   "cell_type": "code",
   "execution_count": null,
   "id": "f1f17876",
   "metadata": {},
   "outputs": [],
   "source": [
    "num_max_s"
   ]
  },
  {
   "cell_type": "code",
   "execution_count": null,
   "id": "55122dec",
   "metadata": {
    "ExecuteTime": {
     "end_time": "2022-08-09T04:34:50.499328Z",
     "start_time": "2022-08-09T04:34:50.241674Z"
    }
   },
   "outputs": [],
   "source": [
    "# plot_subcortical(array_name=sctx_surface, ventricles=False, size=(800, 400),\n",
    "#                  cmap='Reds', color_range=(0,1), color_bar=True)\n",
    "plot_subcortical(array_name=sctx_surface_sum, ventricles=False, size=(800, 400),\n",
    "                 cmap='Reds', color_range=(0,num_max_s), color_bar=False, screenshot=True, filename='./fig4/ha_freq/revised_sctx.png')"
   ]
  },
  {
   "cell_type": "markdown",
   "id": "d7eb82a6",
   "metadata": {},
   "source": [
    "### report the accuracy of the 100 trials"
   ]
  },
  {
   "cell_type": "code",
   "execution_count": null,
   "id": "a9230110",
   "metadata": {
    "ExecuteTime": {
     "end_time": "2022-08-09T04:30:45.129118Z",
     "start_time": "2022-08-09T04:30:44.922668Z"
    }
   },
   "outputs": [],
   "source": [
    "mae_list = []\n",
    "rmse_list = []\n",
    "icc_list = []\n",
    "corr_list = []\n",
    "# after importing the actual and predicted values for the existing 100 trials,\n",
    "# we will report the accuracy values\n",
    "for i in range(1,100+1):\n",
    "    y = getattr(mod,'y_final{}'.format(i))\n",
    "    pred = getattr(mod,'pred_final{}'.format(i))\n",
    "    \n",
    "    mae = mean_absolute_error(y,pred)\n",
    "    rmse = sqrt(mean_squared_error(y,pred))\n",
    "    \n",
    "    # icc\n",
    "    dat = pd.concat([pd.DataFrame(y),pd.DataFrame(pred)],axis=1)\n",
    "\n",
    "    # row number\n",
    "    ns = len(dat)\n",
    "    # col number\n",
    "    nr = len(dat.columns)\n",
    "\n",
    "    MSr = dat.mean(axis=1).var() * nr\n",
    "    MSw = np.sum(dat.var(axis=1) / ns)\n",
    "\n",
    "    icc = (MSr - MSw)/(MSr + (nr - 1) * MSw) ## 이게 icc\n",
    "\n",
    "    corr = pearsonr(y,pred)[0]\n",
    "        \n",
    "    mae_list.append(mae)\n",
    "    rmse_list.append(rmse)\n",
    "    icc_list.append(icc)\n",
    "    corr_list.append(corr)\n",
    "\n",
    "# #create 95% confidence interval for population mean weight\n",
    "# st.t.interval(alpha=0.95, df=len(mae_list)-1, loc=np.mean(mae_list), scale=st.sem(mae_list)) \n",
    "\n",
    "mean_mae = np.mean(mae_list).round(2)\n",
    "mean_rmse = np.mean(rmse_list).round(2)\n",
    "mean_icc = np.mean(icc_list).round(2)\n",
    "mean_corr = np.mean(corr_list).round(2)\n",
    "\n",
    "std_mae = np.std(mae_list).round(2)\n",
    "std_rmse = np.std(rmse_list).round(2)\n",
    "std_icc = np.std(icc_list).round(2)\n",
    "std_corr = np.std(corr_list).round(2)    \n",
    "\n",
    "L_mae, U_mae = (mean_mae-std_mae).round(2),(mean_mae+std_mae).round(2)\n",
    "L_rmse, U_rmse = (mean_rmse-std_rmse).round(2),(mean_rmse+std_rmse).round(2)\n",
    "L_icc, U_icc = (mean_icc-std_icc).round(2),(mean_icc+std_icc).round(2)\n",
    "L_corr, U_corr = (mean_corr-std_corr).round(2),(mean_corr+std_corr).round(2)\n",
    "\n",
    "\n",
    "\n",
    "print('mae:({},{})'.format(L_mae, U_mae))\n",
    "print('rmse:({},{})'.format(L_rmse, U_rmse))\n",
    "print('icc:({},{})'.format(L_icc, U_icc))\n",
    "print('r:({},{})'.format(L_corr, U_corr))"
   ]
  },
  {
   "cell_type": "markdown",
   "id": "3176509a",
   "metadata": {},
   "source": [
    "#### permutation test between actual and predicted values"
   ]
  },
  {
   "cell_type": "code",
   "execution_count": null,
   "id": "85ff848f",
   "metadata": {
    "ExecuteTime": {
     "end_time": "2022-08-09T04:30:47.682084Z",
     "start_time": "2022-08-09T04:30:47.677097Z"
    }
   },
   "outputs": [],
   "source": [
    "import random"
   ]
  },
  {
   "cell_type": "code",
   "execution_count": null,
   "id": "3349aa71",
   "metadata": {
    "ExecuteTime": {
     "end_time": "2022-08-09T04:31:03.390007Z",
     "start_time": "2022-08-09T04:30:47.830396Z"
    }
   },
   "outputs": [],
   "source": [
    "perm_p_list = []\n",
    "for i in range(1,100+1):\n",
    "    y = getattr(mod,'y_final{}'.format(i))\n",
    "    pred = getattr(mod,'pred_final{}'.format(i))\n",
    "\n",
    "    actual_corr = pearsonr(y,pred)[0]\n",
    "    \n",
    "\n",
    "    i = 1\n",
    "    perm_r_list = []\n",
    "    \n",
    "    # repeat the loop until i = 1000\n",
    "    while i < 1000+1:\n",
    "        i = i+1\n",
    "        \n",
    "        #1. shuffle 50 indices randomly\n",
    "        perm_idx = random.sample(range(0,49+1),k=50)\n",
    "        #2. put mixed indices into y, and the select y randomly\n",
    "        y_perm = y[perm_idx]\n",
    "        #3. compute the correlation between mixed y and predicted y\n",
    "        r_perm = np.corrcoef(y_perm,pred)[0][1]\n",
    "        #4. store the correlation coefficients in a perm_r_list one by one\n",
    "        # repeat this for 1000 times\n",
    "        perm_r_list.append(r_perm)\n",
    "\n",
    "    # perform the following actions after 1000 trials\n",
    "    perm_r_list = np.array(perm_r_list)\n",
    "    #5. store the number of values greater than the actual correlation coefficients in the perm_r_list\n",
    "    n_perm = len(perm_r_list[perm_r_list>actual_corr])\n",
    "    #6. divide the number of actual values by 1000.\n",
    "    # that is the p-value\n",
    "    p_perm = n_perm/1000\n",
    "    #7. p-value obtained in this way is stored as p-value of nth trial one by one\n",
    "    perm_p_list.append(p_perm)"
   ]
  },
  {
   "cell_type": "code",
   "execution_count": null,
   "id": "1df5ca92",
   "metadata": {
    "ExecuteTime": {
     "end_time": "2022-08-09T04:31:03.404965Z",
     "start_time": "2022-08-09T04:31:03.392999Z"
    }
   },
   "outputs": [],
   "source": [
    "mean_pval = np.round(np.mean(perm_p_list),2)"
   ]
  },
  {
   "cell_type": "code",
   "execution_count": null,
   "id": "ffb3b712",
   "metadata": {
    "ExecuteTime": {
     "end_time": "2022-08-09T04:31:03.419926Z",
     "start_time": "2022-08-09T04:31:03.407958Z"
    },
    "scrolled": false
   },
   "outputs": [],
   "source": [
    "print('r = {}±{}, p = {} (ICC = {}±{}, MAE = {}±{})'.format(mean_corr,std_corr,mean_pval,mean_icc,std_icc,mean_mae,std_mae))"
   ]
  },
  {
   "cell_type": "markdown",
   "id": "0ab5f376",
   "metadata": {},
   "source": [
    "### scatter plot of the averages of 100 iterations"
   ]
  },
  {
   "cell_type": "code",
   "execution_count": null,
   "id": "d74494d8",
   "metadata": {
    "ExecuteTime": {
     "end_time": "2022-08-09T04:31:03.435883Z",
     "start_time": "2022-08-09T04:31:03.422919Z"
    }
   },
   "outputs": [],
   "source": [
    "y_sum = np.zeros((50,))\n",
    "pred_sum = np.zeros((50,))"
   ]
  },
  {
   "cell_type": "code",
   "execution_count": null,
   "id": "b7c9cd2d",
   "metadata": {
    "ExecuteTime": {
     "end_time": "2022-08-09T04:31:03.450844Z",
     "start_time": "2022-08-09T04:31:03.438874Z"
    }
   },
   "outputs": [],
   "source": [
    "for i in range(1,100+1):\n",
    "    y = getattr(mod,'y_final{}'.format(i))\n",
    "    pred = getattr(mod,'pred_final{}'.format(i))\n",
    "    \n",
    "    y_sum = y_sum + y\n",
    "    pred_sum = pred_sum + pred\n",
    "y_mean = y_sum/100\n",
    "pred_mean = pred_sum/100"
   ]
  },
  {
   "cell_type": "code",
   "execution_count": null,
   "id": "d65b1893",
   "metadata": {
    "ExecuteTime": {
     "end_time": "2022-08-09T04:31:03.466802Z",
     "start_time": "2022-08-09T04:31:03.454834Z"
    }
   },
   "outputs": [],
   "source": [
    "final = pd.DataFrame([y_mean,pred_mean]).T\n",
    "final.columns = ['actual_y','predicted_y']"
   ]
  },
  {
   "cell_type": "code",
   "execution_count": null,
   "id": "bade2142",
   "metadata": {
    "ExecuteTime": {
     "end_time": "2022-08-09T04:31:04.189701Z",
     "start_time": "2022-08-09T04:31:03.469794Z"
    }
   },
   "outputs": [],
   "source": [
    "fig, ax = plt.subplots()\n",
    "\n",
    "ax.scatter(y_mean,pred_mean,color='grey')\n",
    "ax.set_aspect(0.5/ax.get_data_ratio(), adjustable='box')\n",
    "\n",
    "ax.spines['right'].set_visible(False)\n",
    "ax.spines['top'].set_visible(False)\n",
    "\n",
    "sns.regplot(x='actual_y',y='predicted_y',data=final, scatter=False, color='black')\n",
    "\n",
    "plt.xlabel('')\n",
    "plt.ylabel('')\n",
    "\n",
    "plt.xlim(0,14)\n",
    "plt.ylim(0,14)\n",
    "\n",
    "# ax.axes.xaxis.set_ticklabels([0,2,4,6,8,10,12,14])\n",
    "\n",
    "plt.savefig('./fig4/ha_freq/scatter_plot_revised.png')"
   ]
  },
  {
   "cell_type": "code",
   "execution_count": null,
   "id": "0f4f38fb",
   "metadata": {},
   "outputs": [],
   "source": []
  },
  {
   "cell_type": "code",
   "execution_count": null,
   "id": "05f17f5e",
   "metadata": {},
   "outputs": [],
   "source": []
  },
  {
   "cell_type": "code",
   "execution_count": null,
   "id": "98430572",
   "metadata": {},
   "outputs": [],
   "source": []
  },
  {
   "cell_type": "code",
   "execution_count": null,
   "id": "380d3c9a",
   "metadata": {},
   "outputs": [],
   "source": []
  },
  {
   "cell_type": "code",
   "execution_count": null,
   "id": "255d8542",
   "metadata": {},
   "outputs": [],
   "source": []
  },
  {
   "cell_type": "code",
   "execution_count": null,
   "id": "7e0e2116",
   "metadata": {},
   "outputs": [],
   "source": []
  },
  {
   "cell_type": "code",
   "execution_count": null,
   "id": "1f58fe25",
   "metadata": {},
   "outputs": [],
   "source": []
  },
  {
   "cell_type": "code",
   "execution_count": null,
   "id": "3c08124c",
   "metadata": {},
   "outputs": [],
   "source": []
  }
 ],
 "metadata": {
  "kernelspec": {
   "display_name": "Python 3 (ipykernel)",
   "language": "python",
   "name": "python3"
  },
  "language_info": {
   "codemirror_mode": {
    "name": "ipython",
    "version": 3
   },
   "file_extension": ".py",
   "mimetype": "text/x-python",
   "name": "python",
   "nbconvert_exporter": "python",
   "pygments_lexer": "ipython3",
   "version": "3.9.7"
  },
  "toc": {
   "base_numbering": 1,
   "nav_menu": {},
   "number_sections": false,
   "sideBar": true,
   "skip_h1_title": false,
   "title_cell": "Table of Contents",
   "title_sidebar": "Contents",
   "toc_cell": false,
   "toc_position": {},
   "toc_section_display": true,
   "toc_window_display": false
  }
 },
 "nbformat": 4,
 "nbformat_minor": 5
}
