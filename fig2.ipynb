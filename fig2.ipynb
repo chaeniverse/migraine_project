{
 "cells": [
  {
   "cell_type": "markdown",
   "id": "1d04bddc",
   "metadata": {},
   "source": [
    "## import"
   ]
  },
  {
   "cell_type": "code",
   "execution_count": null,
   "id": "dc54b199",
   "metadata": {
    "ExecuteTime": {
     "end_time": "2022-08-07T17:54:29.209982Z",
     "start_time": "2022-08-07T17:54:29.191033Z"
    }
   },
   "outputs": [],
   "source": [
    "import numpy as np\n",
    "import matplotlib.pylab as plt\n",
    "import scipy.io\n",
    "import re\n",
    "\n",
    "from brainspace.datasets import load_group_fc, load_parcellation, load_conte69\n",
    "from brainspace.gradient import GradientMaps\n",
    "from brainspace.plotting import plot_hemispheres\n",
    "from brainspace.utils.parcellation import map_to_labels\n",
    "\n",
    "import os\n",
    "\n",
    "import nibabel as nib\n",
    "from nilearn.datasets import fetch_surf_fsaverage\n",
    "\n",
    "import brainstat\n",
    "from brainstat.stats.terms import FixedEffect\n",
    "\n",
    "import pandas as pd\n",
    "from scipy import io\n",
    "import scipy as sp\n",
    "import scipy.stats\n",
    "from scipy import stats\n",
    "\n",
    "import matplotlib\n",
    "\n",
    "from matplotlib import pyplot as plt\n",
    "import seaborn as sns"
   ]
  },
  {
   "cell_type": "code",
   "execution_count": null,
   "id": "abd66b8c",
   "metadata": {
    "ExecuteTime": {
     "end_time": "2022-08-07T17:35:04.603843Z",
     "start_time": "2022-08-07T17:35:04.590879Z"
    }
   },
   "outputs": [],
   "source": [
    "import sys , numpy as np\n",
    "mod = sys.modules[__name__]"
   ]
  },
  {
   "cell_type": "markdown",
   "id": "60e30f3b",
   "metadata": {},
   "source": [
    "## load subcortex files"
   ]
  },
  {
   "cell_type": "code",
   "execution_count": null,
   "id": "872b588d",
   "metadata": {
    "ExecuteTime": {
     "end_time": "2022-08-07T17:34:53.087954Z",
     "start_time": "2022-08-07T17:34:53.074948Z"
    }
   },
   "outputs": [],
   "source": [
    "from glob import glob\n",
    "path = './data/schaefer200/subcortex/'\n",
    "filepaths = glob(path+'*.csv') # load path of csv files"
   ]
  },
  {
   "cell_type": "code",
   "execution_count": null,
   "id": "2960791f",
   "metadata": {
    "ExecuteTime": {
     "end_time": "2022-08-07T17:35:04.587879Z",
     "start_time": "2022-08-07T17:35:03.171618Z"
    }
   },
   "outputs": [],
   "source": [
    "import pandas as pd\n",
    "for i in range(len(filepaths)):\n",
    "    dat = pd.read_csv(filepaths[i], header=None)\n",
    "    res = re.split('[\\\\\\/]',filepaths[i])\n",
    "    globals()[res[-1][:-4]+'_a'] = dat.to_numpy() # load csv files as numpy type"
   ]
  },
  {
   "cell_type": "code",
   "execution_count": null,
   "id": "7d4b8e34",
   "metadata": {
    "ExecuteTime": {
     "end_time": "2022-08-07T17:36:04.276337Z",
     "start_time": "2022-08-07T17:36:04.258389Z"
    }
   },
   "outputs": [],
   "source": [
    "for i in range(1,50+1):\n",
    "    globals()['sctx{}'.format(i)] = getattr(mod, 'gp{}_200_a'.format(i)) \n",
    "# we set gp{}_200_a as sctx{}"
   ]
  },
  {
   "cell_type": "code",
   "execution_count": null,
   "id": "26cf7415",
   "metadata": {
    "ExecuteTime": {
     "end_time": "2022-08-07T17:36:18.126361Z",
     "start_time": "2022-08-07T17:36:18.114409Z"
    }
   },
   "outputs": [],
   "source": [
    "for i in range(1,50+1):\n",
    "    globals()['sctx{}'.format(str(i+50))] = getattr(mod, 'gn{}_200_a'.format(i)) \n",
    "# we set gn{}_200_a as sctx{}"
   ]
  },
  {
   "cell_type": "markdown",
   "id": "f7d722d8",
   "metadata": {},
   "source": [
    "### make subcortico-subcortical connectivity matrix"
   ]
  },
  {
   "cell_type": "code",
   "execution_count": null,
   "id": "34eff885",
   "metadata": {
    "ExecuteTime": {
     "end_time": "2022-08-07T17:36:56.297206Z",
     "start_time": "2022-08-07T17:36:54.255555Z"
    }
   },
   "outputs": [],
   "source": [
    "from nilearn import plotting\n",
    "from nilearn.connectome import ConnectivityMeasure \n",
    "correlation_measure = ConnectivityMeasure(kind='correlation')\n",
    "\n",
    "for i in range(1,100+1):\n",
    "    globals()['sctx{}_c'.format(i)] = correlation_measure.fit_transform([getattr(mod, 'sctx{}'.format(i))]) "
   ]
  },
  {
   "cell_type": "code",
   "execution_count": null,
   "id": "86987f72",
   "metadata": {
    "ExecuteTime": {
     "end_time": "2022-08-07T17:36:57.046504Z",
     "start_time": "2022-08-07T17:36:57.042506Z"
    }
   },
   "outputs": [],
   "source": [
    "for i in range(1, 100+1):\n",
    "    globals()['sctx{}_c'.format(i)] = getattr(mod, 'sctx{}_c'.format(i))[0]\n",
    "# (1,17,17) array shape -> (17,17) array shape"
   ]
  },
  {
   "cell_type": "markdown",
   "id": "de41c195",
   "metadata": {},
   "source": [
    "### 1. z-transformation\n",
    "### 2. transform all diagonals into zeros"
   ]
  },
  {
   "cell_type": "code",
   "execution_count": null,
   "id": "f2de2123",
   "metadata": {
    "ExecuteTime": {
     "end_time": "2022-08-07T17:37:11.507726Z",
     "start_time": "2022-08-07T17:37:11.492735Z"
    }
   },
   "outputs": [],
   "source": [
    "tab = np.zeros(shape=(17,17))"
   ]
  },
  {
   "cell_type": "code",
   "execution_count": null,
   "id": "dfd48c81",
   "metadata": {
    "ExecuteTime": {
     "end_time": "2022-08-07T17:37:11.997669Z",
     "start_time": "2022-08-07T17:37:11.980688Z"
    },
    "scrolled": false
   },
   "outputs": [],
   "source": [
    "for i in range(1,101):\n",
    "    tab = np.arctanh(getattr(mod, 'sctx{}_c'.format(i)))\n",
    "    np.fill_diagonal(tab, np.zeros(17))\n",
    "    globals()['sctx{}_cz'.format(i)] = tab"
   ]
  },
  {
   "cell_type": "markdown",
   "id": "f6c39f8e",
   "metadata": {},
   "source": [
    "### get group connectivity matrix averaging z-transformed 100 connectivity matrix"
   ]
  },
  {
   "cell_type": "code",
   "execution_count": null,
   "id": "342e9dc5",
   "metadata": {
    "ExecuteTime": {
     "end_time": "2022-08-07T17:37:57.273356Z",
     "start_time": "2022-08-07T17:37:57.258398Z"
    }
   },
   "outputs": [],
   "source": [
    "import numpy\n",
    "sctx_sum = numpy.zeros(shape=(17,17))\n",
    "for i in range(1,101):\n",
    "    sctx_sum = sctx_sum + getattr(mod, 'sctx{}_cz'.format(i))"
   ]
  },
  {
   "cell_type": "code",
   "execution_count": null,
   "id": "6d6a7367",
   "metadata": {
    "ExecuteTime": {
     "end_time": "2022-08-07T17:37:57.458862Z",
     "start_time": "2022-08-07T17:37:57.440923Z"
    }
   },
   "outputs": [],
   "source": [
    "sctx_mean = sctx_sum/100"
   ]
  },
  {
   "cell_type": "code",
   "execution_count": null,
   "id": "0d95488a",
   "metadata": {
    "ExecuteTime": {
     "end_time": "2022-08-07T17:38:11.136491Z",
     "start_time": "2022-08-07T17:38:10.856239Z"
    },
    "scrolled": true
   },
   "outputs": [],
   "source": [
    "plotting.plot_matrix(sctx_mean, vmin=0, vmax=1,colorbar=False) # we get group connectivity matrix of 100 individual connectivity matrices"
   ]
  },
  {
   "cell_type": "markdown",
   "id": "40a08660",
   "metadata": {},
   "source": [
    "### <span style=\"color:#2D3748; background-color:#fff5b1;\">make subcortical-cortico connectivity matrix</span>"
   ]
  },
  {
   "cell_type": "markdown",
   "id": "e34fe5bd",
   "metadata": {},
   "source": [
    "### load cortex files"
   ]
  },
  {
   "cell_type": "code",
   "execution_count": null,
   "id": "2b9304fa",
   "metadata": {
    "ExecuteTime": {
     "end_time": "2022-08-07T17:39:15.318174Z",
     "start_time": "2022-08-07T17:39:15.310195Z"
    }
   },
   "outputs": [],
   "source": [
    "from glob import glob\n",
    "path = './data/schaefer200/cortex/'\n",
    "filepaths = glob(path+'*.csv') # load path of csv files"
   ]
  },
  {
   "cell_type": "code",
   "execution_count": null,
   "id": "4dacd675",
   "metadata": {
    "ExecuteTime": {
     "end_time": "2022-08-07T17:39:18.019165Z",
     "start_time": "2022-08-07T17:39:15.491709Z"
    }
   },
   "outputs": [],
   "source": [
    "import pandas as pd\n",
    "for i in range(len(filepaths)):\n",
    "    dat = pd.read_csv(filepaths[i], header=None)\n",
    "    res = re.split('[\\\\\\/]',filepaths[i])\n",
    "    globals()[res[-1][:-4]+'_a'] = dat.to_numpy() # load csv files as array type"
   ]
  },
  {
   "cell_type": "code",
   "execution_count": null,
   "id": "5150dd93",
   "metadata": {
    "ExecuteTime": {
     "end_time": "2022-08-07T17:39:18.442090Z",
     "start_time": "2022-08-07T17:39:18.435120Z"
    }
   },
   "outputs": [],
   "source": [
    "for i in range(1,100+1):\n",
    "    globals()['ctx{}'.format(i)] = getattr(mod,'g{}_200_a'.format(i))"
   ]
  },
  {
   "cell_type": "markdown",
   "id": "f32d33be",
   "metadata": {},
   "source": [
    "### make cortico-cortical connectivity matrix"
   ]
  },
  {
   "cell_type": "code",
   "execution_count": null,
   "id": "8d9fa472",
   "metadata": {
    "ExecuteTime": {
     "end_time": "2022-08-07T17:39:24.668839Z",
     "start_time": "2022-08-07T17:39:24.326358Z"
    }
   },
   "outputs": [],
   "source": [
    "from nilearn import plotting\n",
    "from nilearn.connectome import ConnectivityMeasure \n",
    "correlation_measure = ConnectivityMeasure(kind='correlation')\n",
    "\n",
    "for i in range(1,100+1):\n",
    "    globals()['ctx{}_c'.format(i)] = correlation_measure.fit_transform([getattr(mod, 'ctx{}'.format(i))]) "
   ]
  },
  {
   "cell_type": "code",
   "execution_count": null,
   "id": "625c800c",
   "metadata": {
    "ExecuteTime": {
     "end_time": "2022-08-07T17:39:24.684796Z",
     "start_time": "2022-08-07T17:39:24.671831Z"
    }
   },
   "outputs": [],
   "source": [
    "for i in range(1, 100+1):\n",
    "    globals()['ctx{}_c'.format(i)] = getattr(mod, 'ctx{}_c'.format(i))[0]\n",
    "# (1,200,200) array shape -> (200,200) array shape"
   ]
  },
  {
   "cell_type": "markdown",
   "id": "8f07c29e",
   "metadata": {},
   "source": [
    "### 1. z-transformation\n",
    "### 2. transform all diagonals into zeros"
   ]
  },
  {
   "cell_type": "code",
   "execution_count": null,
   "id": "fcc4f43b",
   "metadata": {
    "ExecuteTime": {
     "end_time": "2022-08-07T17:39:33.981587Z",
     "start_time": "2022-08-07T17:39:33.968591Z"
    }
   },
   "outputs": [],
   "source": [
    "tab = np.zeros(shape=(200,200))"
   ]
  },
  {
   "cell_type": "code",
   "execution_count": null,
   "id": "ae78a26b",
   "metadata": {
    "ExecuteTime": {
     "end_time": "2022-08-07T17:39:34.282266Z",
     "start_time": "2022-08-07T17:39:34.140141Z"
    }
   },
   "outputs": [],
   "source": [
    "for i in range(1,101):\n",
    "    tab = np.arctanh(getattr(mod, 'ctx{}_c'.format(i)))\n",
    "    np.fill_diagonal(tab, np.zeros(200))\n",
    "    globals()['ctx{}_cz'.format(i)] = tab"
   ]
  },
  {
   "cell_type": "markdown",
   "id": "2f05b0b3",
   "metadata": {},
   "source": [
    "### get group connectivity matrix averaging z-transformed 100 connectivity matrix"
   ]
  },
  {
   "cell_type": "code",
   "execution_count": null,
   "id": "79febb8b",
   "metadata": {
    "ExecuteTime": {
     "end_time": "2022-08-07T17:40:20.208307Z",
     "start_time": "2022-08-07T17:40:20.186367Z"
    }
   },
   "outputs": [],
   "source": [
    "import numpy\n",
    "ctx_sum = numpy.zeros(shape=(200,200))\n",
    "for i in range(1,101):\n",
    "    ctx_sum = ctx_sum + getattr(mod, 'ctx{}_cz'.format(i))"
   ]
  },
  {
   "cell_type": "code",
   "execution_count": null,
   "id": "46b7c7e0",
   "metadata": {
    "ExecuteTime": {
     "end_time": "2022-08-07T17:40:20.537834Z",
     "start_time": "2022-08-07T17:40:20.530870Z"
    }
   },
   "outputs": [],
   "source": [
    "ctx_mean = ctx_sum/100 "
   ]
  },
  {
   "cell_type": "markdown",
   "id": "c081df86",
   "metadata": {},
   "source": [
    "### make subcortico-cortical connectivity matrix"
   ]
  },
  {
   "cell_type": "code",
   "execution_count": null,
   "id": "cd305c5c",
   "metadata": {
    "ExecuteTime": {
     "end_time": "2022-08-07T17:43:46.121677Z",
     "start_time": "2022-08-07T17:41:55.399602Z"
    }
   },
   "outputs": [],
   "source": [
    "for i in range(1,100+1):\n",
    "    print('\\n\\033[1m'+'##{}th person'.format(i))\n",
    "    npz = np.zeros((200,17))\n",
    "    x = getattr(mod,'ctx{}'.format(i))\n",
    "    y = getattr(mod,'sctx{}'.format(i))\n",
    "    for j in range(0,199+1):\n",
    "        print('\\n\\033[1m'+'{}th row'.format(j+1))\n",
    "        for k in range(0,16+1):\n",
    "            print('\\033[0m' +'{}th col'.format(k+1))\n",
    "            npz[j][k] = np.corrcoef(x.T[j],y.T[k])[0][1]\n",
    "            globals()['sc_ctx{}_c'.format(i)] = npz"
   ]
  },
  {
   "cell_type": "markdown",
   "id": "6b5a5cdc",
   "metadata": {},
   "source": [
    "we make 200x9 matrix averaging left and right regions of 200x17 matrix\n",
    "> we can get 200x9 matrices of 100 individuals"
   ]
  },
  {
   "cell_type": "code",
   "execution_count": null,
   "id": "8c342c42",
   "metadata": {
    "ExecuteTime": {
     "end_time": "2022-08-07T17:44:08.828102Z",
     "start_time": "2022-08-07T17:44:08.807159Z"
    },
    "scrolled": true
   },
   "outputs": [],
   "source": [
    "for i in range(1,100+1):\n",
    "    npz = np.zeros((9,200))\n",
    "    tmp = getattr(mod,'sc_ctx{}_c'.format(i)).T\n",
    "    for j in range(0,7+1):\n",
    "        npz[j] = (tmp[j]+tmp[j+8])/2\n",
    "        npz[8] = tmp[16]\n",
    "        globals()['sc_ctx{}_c2'.format(i)] = npz"
   ]
  },
  {
   "cell_type": "markdown",
   "id": "e22d0811",
   "metadata": {},
   "source": [
    "## <span style=\"color:#2D3748; background-color:#fff5b1;\"> make subcortical-weigthed manifold (henceforth eigenvector)</span>"
   ]
  },
  {
   "cell_type": "markdown",
   "id": "be3c3c50",
   "metadata": {},
   "source": [
    "### make template of eigenvectors 1,2 and 3 with hcp"
   ]
  },
  {
   "cell_type": "code",
   "execution_count": null,
   "id": "6bc6df01",
   "metadata": {
    "ExecuteTime": {
     "end_time": "2022-08-07T17:44:40.335379Z",
     "start_time": "2022-08-07T17:44:40.290501Z"
    }
   },
   "outputs": [],
   "source": [
    "mat_file_name = \"./data/gradients_FC.mat\"\n",
    "mat_file = scipy.io.loadmat(mat_file_name)"
   ]
  },
  {
   "cell_type": "code",
   "execution_count": null,
   "id": "e6d62ab6",
   "metadata": {
    "ExecuteTime": {
     "end_time": "2022-08-07T17:44:41.215340Z",
     "start_time": "2022-08-07T17:44:41.206365Z"
    }
   },
   "outputs": [],
   "source": [
    "gm_mean = mat_file['gm_mean']"
   ]
  },
  {
   "cell_type": "markdown",
   "id": "633a36fd",
   "metadata": {},
   "source": [
    "### align group connectivity matrix with hcp eigenvectors"
   ]
  },
  {
   "cell_type": "code",
   "execution_count": null,
   "id": "4dab5321",
   "metadata": {
    "ExecuteTime": {
     "end_time": "2022-08-07T17:44:45.885977Z",
     "start_time": "2022-08-07T17:44:45.868014Z"
    }
   },
   "outputs": [],
   "source": [
    "# Gradient alignment\n",
    "align = GradientMaps(kernel='normalized_angle', approach='dm', alignment='procrustes', n_components = 5)\n",
    "\n",
    "align.fit(ctx_mean, reference = gm_mean)"
   ]
  },
  {
   "cell_type": "markdown",
   "id": "a697a696",
   "metadata": {},
   "source": [
    "### align each individual connectivity matrix with hcp-aligned group connectivity matrix\n",
    "\n",
    "> we call it individual eigenvector"
   ]
  },
  {
   "cell_type": "code",
   "execution_count": null,
   "id": "2a04bcf9",
   "metadata": {
    "ExecuteTime": {
     "end_time": "2022-08-07T17:45:32.639793Z",
     "start_time": "2022-08-07T17:45:31.110289Z"
    }
   },
   "outputs": [],
   "source": [
    "for i in range(1,100+1):\n",
    "    align2 = GradientMaps(kernel='normalized_angle', approach='dm', alignment='procrustes', n_components = 5)\n",
    "    align2.fit(getattr(mod,'ctx{}_cz'.format(i)), reference = align.aligned_)\n",
    "    globals()['grad_{}'.format(i)] = align2.aligned_[:,0:2+1]"
   ]
  },
  {
   "cell_type": "markdown",
   "id": "979a08a0",
   "metadata": {},
   "source": [
    "### we perform element-wise multiplication with subcortico-cortical connectivity matrix and cortical eigenvectors"
   ]
  },
  {
   "cell_type": "code",
   "execution_count": null,
   "id": "e015181e",
   "metadata": {
    "ExecuteTime": {
     "end_time": "2022-08-07T17:45:58.841877Z",
     "start_time": "2022-08-07T17:45:58.813989Z"
    }
   },
   "outputs": [],
   "source": [
    "for i in range(1,100+1):\n",
    "    grad = getattr(mod,'grad_{}'.format(i)).T\n",
    "    sc_ctx = getattr(mod,'sc_ctx{}_c2'.format(i))\n",
    "    mat = np.zeros((3,9,200))\n",
    "    for j in range(0,2+1):\n",
    "        for k in range(0,8+1):\n",
    "            mat[j,k,:] = np.multiply(grad[j],sc_ctx[k]) \n",
    "    globals()['sw_manifold{}'.format(i)] = mat\n",
    "# array type: 3x9x200(3 eigenvectors x 9 regions x 200 nodes)"
   ]
  },
  {
   "cell_type": "markdown",
   "id": "2b5060d6",
   "metadata": {},
   "source": [
    "## Multivariate analysis"
   ]
  },
  {
   "cell_type": "markdown",
   "id": "def90aab",
   "metadata": {},
   "source": [
    "> we perform multivariate analysis with 100 individual eigenvectors"
   ]
  },
  {
   "cell_type": "code",
   "execution_count": null,
   "id": "3c69e9ff",
   "metadata": {
    "ExecuteTime": {
     "end_time": "2022-08-07T17:47:11.371900Z",
     "start_time": "2022-08-07T17:47:09.740085Z"
    }
   },
   "outputs": [],
   "source": [
    "import numpy as np\n",
    "import pandas as pd\n",
    "import matplotlib.pyplot as plt\n",
    "import seaborn as sns\n",
    "\n",
    "brain = pd.read_excel(\"./data/환자군_정상군_181104_결측값업데이트_scores2_bypark.xlsx\")"
   ]
  },
  {
   "cell_type": "markdown",
   "id": "9b4c2cf3",
   "metadata": {},
   "source": [
    "make sex and grp as dummy variables"
   ]
  },
  {
   "cell_type": "code",
   "execution_count": null,
   "id": "c7fc94b7",
   "metadata": {
    "ExecuteTime": {
     "end_time": "2022-08-07T17:47:15.585954Z",
     "start_time": "2022-08-07T17:47:15.568979Z"
    }
   },
   "outputs": [],
   "source": [
    "age = brain['Age']\n",
    "sex = brain['Sex']\n",
    "sex=np.array(sex)\n",
    "sex=sex.reshape(100,1)\n",
    "grp = brain['group']\n",
    "grp=np.array(grp)\n",
    "grp=grp.reshape(100,1)\n",
    "NumSubj = np.size(grp)"
   ]
  },
  {
   "cell_type": "code",
   "execution_count": null,
   "id": "ca043162",
   "metadata": {
    "ExecuteTime": {
     "end_time": "2022-08-07T17:47:15.760680Z",
     "start_time": "2022-08-07T17:47:15.746702Z"
    }
   },
   "outputs": [],
   "source": [
    "sex_dum1 = np.zeros((NumSubj,1))\n",
    "sex_dum1 = np.where(sex==0, 1, sex_dum1)\n",
    "sex_dum2 = np.zeros((NumSubj,1))\n",
    "sex_dum2 = np.where(sex==1, 1, sex_dum2)\n",
    "sex_dum = np.concatenate((sex_dum1, sex_dum2), axis=1) # F,M"
   ]
  },
  {
   "cell_type": "code",
   "execution_count": null,
   "id": "137be09f",
   "metadata": {
    "ExecuteTime": {
     "end_time": "2022-08-07T17:47:15.935194Z",
     "start_time": "2022-08-07T17:47:15.917291Z"
    }
   },
   "outputs": [],
   "source": [
    "grp_dum1 = np.zeros((NumSubj,1))\n",
    "grp_dum1 = np.where(grp==0, 1, grp_dum1)\n",
    "grp_dum2 = np.zeros((NumSubj, 1))\n",
    "grp_dum2 = np.where(grp==1, 1, grp_dum2)\n",
    "grp_dum = np.concatenate((grp_dum1, grp_dum2), axis=1) # ctl pat"
   ]
  },
  {
   "cell_type": "code",
   "execution_count": null,
   "id": "cf6c7a82",
   "metadata": {
    "ExecuteTime": {
     "end_time": "2022-08-07T17:47:17.176709Z",
     "start_time": "2022-08-07T17:47:17.166755Z"
    }
   },
   "outputs": [],
   "source": [
    "# get brainstat dir\n",
    "brainstat_dir = os.path.dirname(brainstat.__file__)"
   ]
  },
  {
   "cell_type": "markdown",
   "id": "101df4e5",
   "metadata": {},
   "source": [
    "define model"
   ]
  },
  {
   "cell_type": "code",
   "execution_count": null,
   "id": "46c4eb7a",
   "metadata": {
    "ExecuteTime": {
     "end_time": "2022-08-07T17:47:17.392863Z",
     "start_time": "2022-08-07T17:47:17.323981Z"
    },
    "scrolled": true
   },
   "outputs": [],
   "source": [
    "# from brainstat.stats.terms import FixedEffect\n",
    "\n",
    "term_age = FixedEffect(age, \"age\")\n",
    "term_sex = FixedEffect(sex_dum, {\"F\", \"M\"})\n",
    "term_grp = FixedEffect(grp_dum, {\"ctl\", \"pat\"})\n",
    "model = term_age + term_sex + term_grp\n",
    "\n",
    "model"
   ]
  },
  {
   "cell_type": "markdown",
   "id": "5a5e7110",
   "metadata": {},
   "source": [
    "### 1. we will make between-group comparison with degree centralities of subcortical-weighted manifolds\n",
    "\n",
    "- to be specific, we get the values by averaging all nodes of subcortical-weighted manifolds\n",
    "- Thus, we can get the matrices of 100 individuals, where one matrix array shape is 3x9x1.\n",
    "\n",
    "### 2. we then indicate them as scatter plots into 3-dimensional spaces -> 2-(a) part"
   ]
  },
  {
   "cell_type": "code",
   "execution_count": null,
   "id": "1fba1550",
   "metadata": {
    "ExecuteTime": {
     "end_time": "2022-08-07T17:52:13.522426Z",
     "start_time": "2022-08-07T17:52:13.471563Z"
    }
   },
   "outputs": [],
   "source": [
    "for i in range(0,8+1):\n",
    "    sw_mean = np.zeros((100,3))\n",
    "    for j in range(1,100+1):\n",
    "        sw_manifold = getattr(mod,'sw_manifold{}'.format(j))\n",
    "        row = sw_manifold[:,i,:]\n",
    "        rm = row.mean(axis=1)\n",
    "        sw_mean[j-1,:] = rm\n",
    "    globals()['sw_mean{}'.format(str(i+1))] = sw_mean"
   ]
  },
  {
   "cell_type": "markdown",
   "id": "968a6517",
   "metadata": {},
   "source": [
    "when we put contrast = patient groups - normal controls, we get t-values of these contrasts"
   ]
  },
  {
   "cell_type": "markdown",
   "id": "19b88909",
   "metadata": {},
   "source": [
    "> we perform between-group comparisons in terms of 9 subcortical regions"
   ]
  },
  {
   "cell_type": "code",
   "execution_count": null,
   "id": "6ae86327",
   "metadata": {
    "ExecuteTime": {
     "end_time": "2022-08-07T17:54:44.915861Z",
     "start_time": "2022-08-07T17:54:44.783216Z"
    }
   },
   "outputs": [],
   "source": [
    "from brainstat.stats.SLM import SLM\n",
    "from  statsmodels.stats import multitest\n",
    "\n",
    "\n",
    "T_val = []\n",
    "P_val = []\n",
    "P_cor = []\n",
    "for i in range(1,9+1):\n",
    "    sw_mean = getattr(mod,'sw_mean{}'.format(i))\n",
    "    Z = np.dstack([sw_mean[0,:],sw_mean[1,:]])\n",
    "    for j in range(2,99+1):\n",
    "        Z = np.dstack([Z,sw_mean[j,:]])\n",
    "    Z = Z[0,:,:].T\n",
    "    globals()['Z{}'.format(i)] = Z\n",
    "    \n",
    "    # t-values\n",
    "    contrast = grp_dum[:,0] - grp_dum[:,1]\n",
    "    slm = SLM(model,contrast,correction='fdr')\n",
    "    slm.fit(Z)\n",
    "    t = slm.t\n",
    "    \n",
    "    # cdf of t-values\n",
    "    rv = sp.stats.t(df=slm.df)\n",
    "    cdf = rv.cdf(slm.t)\n",
    "    \n",
    "    # p-values of t-values\n",
    "    p = 1-cdf\n",
    "    \n",
    "    # corrected p-values\n",
    "    pval = stats.t.sf(np.abs(slm.t),slm.df)*2\n",
    "    pcor = multitest.fdrcorrection(pval.ravel())[1]\n",
    "    \n",
    "    T_val.append(t)\n",
    "    P_val.append(p)\n",
    "    P_cor.append(pcor)\n",
    "    \n",
    "    sig_idx = np.where(pcor<0.055)\n",
    "    sig_t = np.zeros((200,1))\n",
    "    sig_t[sig_idx] = t.T[sig_idx]\n",
    "    globals()['sig_t{}'.format(i)] = sig_t"
   ]
  },
  {
   "cell_type": "code",
   "execution_count": null,
   "id": "8f1a927a",
   "metadata": {
    "ExecuteTime": {
     "end_time": "2022-08-07T17:54:48.692815Z",
     "start_time": "2022-08-07T17:54:48.679849Z"
    }
   },
   "outputs": [],
   "source": [
    "region_name = ['Accumbens','Amygdala','Caudate','Hippocampus','Pallidum','Putamen','Thalamus','Cerebellum','Brainstem']"
   ]
  },
  {
   "cell_type": "markdown",
   "id": "c7471214",
   "metadata": {},
   "source": [
    "sctx region1~9 t-value"
   ]
  },
  {
   "cell_type": "code",
   "execution_count": null,
   "id": "b3063f8c",
   "metadata": {
    "ExecuteTime": {
     "end_time": "2022-08-07T17:54:49.384530Z",
     "start_time": "2022-08-07T17:54:49.365612Z"
    }
   },
   "outputs": [],
   "source": [
    "i=0\n",
    "print('\\033[1m# t_value')\n",
    "for t in zip(T_val):\n",
    "    print('\\033[0m{}:'.format(region_name[i]),t[0][0][0].round(2))\n",
    "    i = i+1"
   ]
  },
  {
   "cell_type": "markdown",
   "id": "6c53a653",
   "metadata": {},
   "source": [
    "sctx region1~9 p-value"
   ]
  },
  {
   "cell_type": "code",
   "execution_count": null,
   "id": "714dedd0",
   "metadata": {
    "ExecuteTime": {
     "end_time": "2022-08-07T17:54:50.688508Z",
     "start_time": "2022-08-07T17:54:50.669533Z"
    }
   },
   "outputs": [],
   "source": [
    "i=0\n",
    "print('\\033[1m# p_value')\n",
    "for p in zip(P_val):\n",
    "    print('\\033[0m{}:'.format(region_name[i]),p[0][0][0].round(2))\n",
    "    i = i+1"
   ]
  },
  {
   "cell_type": "markdown",
   "id": "2092babf",
   "metadata": {},
   "source": [
    "sctx region 1~9 corrected p_value"
   ]
  },
  {
   "cell_type": "code",
   "execution_count": null,
   "id": "4a063803",
   "metadata": {
    "ExecuteTime": {
     "end_time": "2022-08-07T17:54:52.305579Z",
     "start_time": "2022-08-07T17:54:52.297603Z"
    },
    "scrolled": true
   },
   "outputs": [],
   "source": [
    "i=0\n",
    "print('\\033[1m# corrected p_value')\n",
    "for p in P_cor:\n",
    "    print('\\033[0m{}:'.format(region_name[i]),p[0].round(2))\n",
    "    i = i+1"
   ]
  },
  {
   "cell_type": "markdown",
   "id": "3e642890",
   "metadata": {},
   "source": [
    "## Supplement part"
   ]
  },
  {
   "cell_type": "markdown",
   "id": "8aad056c",
   "metadata": {},
   "source": [
    "### 2-(a) part"
   ]
  },
  {
   "cell_type": "markdown",
   "id": "149d7424",
   "metadata": {},
   "source": [
    "make three-dimensional plots of 9 regions and save them as .png-type files"
   ]
  },
  {
   "cell_type": "code",
   "execution_count": null,
   "id": "86ea1d10",
   "metadata": {
    "ExecuteTime": {
     "end_time": "2022-08-07T18:01:27.124427Z",
     "start_time": "2022-08-07T18:01:15.936273Z"
    }
   },
   "outputs": [],
   "source": [
    "for i in range(1,9+1):\n",
    "    fig = plt.figure()\n",
    "    ax = fig.gca(projection='3d')\n",
    "    pat = np.zeros(3) # patients: red\n",
    "    ctl = np.zeros(3) # normals: blue\n",
    "    sw_mean = getattr(mod,'sw_mean{}'.format(i))\n",
    "    for j in range(0,99+1):\n",
    "        coord = sw_mean[j,:]\n",
    "        if j <= 49:\n",
    "            col = 'red'\n",
    "            pat = pat + coord\n",
    "        else: \n",
    "            col = 'blue'\n",
    "            ctl = ctl + coord\n",
    "        ax.scatter(coord[0],coord[1],coord[2],c=col,alpha=0.1)\n",
    "    pat_mean = pat/50\n",
    "    ctl_mean = ctl/50\n",
    "    ax.scatter(pat_mean[0],pat_mean[1],pat_mean[2],c='red',marker='D')\n",
    "    ax.scatter(ctl_mean[0],ctl_mean[1],ctl_mean[2],c='blue',marker='D')\n",
    "\n",
    "#     ax.set_xlim3d(-0.04, 0.02)\n",
    "#     ax.set_ylim3d(-0.02, 0.02)\n",
    "#     ax.set_zlim3d(-0.05, 0.03)\n",
    "\n",
    "#     ax.axes.xaxis.set_ticklabels(['',-0.03,-0.02,-0.01,'0',0.01,''])\n",
    "#     ax.axes.yaxis.set_ticklabels(['',0.01,'0',0.01,0.02])\n",
    "#     ax.axes.zaxis.set_ticklabels(['',-0.04,-0.02,'0',0.02,''])\n",
    "\n",
    "    ax.legend(['pat', 'ctl'])\n",
    "\n",
    "    plt.title(region_name[i-1])\n",
    "\n",
    "    ax = plt.gca()\n",
    "    leg = ax.get_legend()\n",
    "    \n",
    "    leg.legendHandles[0].set_color('red')\n",
    "    leg.legendHandles[1].set_color('blue')\n",
    "    \n",
    "#     plt.legend(loc='best')    \n",
    "#     plt.savefig('./fig2/sw_manifold/3d_plot/mean/{}.png'.format(region_name[i-1]))\n",
    "#     plt.close()"
   ]
  },
  {
   "cell_type": "markdown",
   "id": "1eb1742f",
   "metadata": {},
   "source": [
    "- Accumbens"
   ]
  },
  {
   "cell_type": "code",
   "execution_count": null,
   "id": "22428660",
   "metadata": {
    "ExecuteTime": {
     "end_time": "2022-08-07T18:01:52.607573Z",
     "start_time": "2022-08-07T18:01:51.127977Z"
    }
   },
   "outputs": [],
   "source": [
    "fig = plt.figure()\n",
    "ax = fig.gca(projection='3d')\n",
    "pat = np.zeros(3) \n",
    "ctl = np.zeros(3) \n",
    "sw_mean = getattr(mod,'sw_mean{}'.format(1))\n",
    "for j in range(0,99+1):\n",
    "    coord = sw_mean[j,:]\n",
    "    if j <= 49:\n",
    "        col = 'red'\n",
    "        pat = pat + coord\n",
    "    else: \n",
    "        col = 'blue'\n",
    "        ctl = ctl + coord\n",
    "    ax.scatter(coord[0],coord[1],coord[2],c=col,alpha=0.1)\n",
    "pat_mean = pat/50\n",
    "ctl_mean = ctl/50\n",
    "ax.scatter(pat_mean[0],pat_mean[1],pat_mean[2],c='red',marker='D')\n",
    "ax.scatter(ctl_mean[0],ctl_mean[1],ctl_mean[2],c='blue',marker='D')\n",
    "\n",
    "\n",
    "ax.axes.xaxis.set_ticklabels(['',-0.02,'','',0.01,''])\n",
    "ax.axes.yaxis.set_ticklabels(['','',-0.01,'','','',0.01,'',''])\n",
    "ax.axes.zaxis.set_ticklabels(['',-0.005,'','','',0.015,''])\n",
    "\n",
    "\n",
    "ax = plt.gca()\n",
    "leg = ax.get_legend()\n",
    "\n",
    "\n",
    "# plt.savefig('./fig2/sw_manifold/3d_plot/mean/{}.png'.format(region_name[1-1]))\n",
    "#     plt.close()"
   ]
  },
  {
   "cell_type": "markdown",
   "id": "eee9549e",
   "metadata": {},
   "source": [
    "- Amygdala"
   ]
  },
  {
   "cell_type": "code",
   "execution_count": null,
   "id": "b58fc9ea",
   "metadata": {
    "ExecuteTime": {
     "end_time": "2022-08-07T17:59:59.808279Z",
     "start_time": "2022-08-07T17:59:58.543114Z"
    }
   },
   "outputs": [],
   "source": [
    "fig = plt.figure()\n",
    "ax = fig.gca(projection='3d')\n",
    "pat = np.zeros(3) \n",
    "ctl = np.zeros(3) \n",
    "sw_mean = getattr(mod,'sw_mean{}'.format(2))\n",
    "for j in range(0,99+1):\n",
    "    coord = sw_mean[j,:]\n",
    "    if j <= 49:\n",
    "        col = 'red'\n",
    "        pat = pat + coord\n",
    "    else: \n",
    "        col = 'blue'\n",
    "        ctl = ctl + coord\n",
    "    ax.scatter(coord[0],coord[1],coord[2],c=col,alpha=0.1)\n",
    "pat_mean = pat/50\n",
    "ctl_mean = ctl/50\n",
    "ax.scatter(pat_mean[0],pat_mean[1],pat_mean[2],c='red',marker='D')\n",
    "ax.scatter(ctl_mean[0],ctl_mean[1],ctl_mean[2],c='blue',marker='D')\n",
    "\n",
    "\n",
    "ax.axes.xaxis.set_ticklabels(['',-0.01,'','',0.02,''])\n",
    "ax.axes.yaxis.set_ticklabels(['',-0.005,'','',0.01,'',''])\n",
    "ax.axes.zaxis.set_ticklabels(['',-0.005,'','',0.01,''])\n",
    "\n",
    "\n",
    "ax = plt.gca()\n",
    "leg = ax.get_legend()\n",
    "\n",
    "\n",
    "\n",
    "# plt.savefig('./fig2/sw_manifold/3d_plot/mean/{}.png'.format(region_name[2-1]))\n",
    "#     plt.close()"
   ]
  },
  {
   "cell_type": "markdown",
   "id": "b94cd23c",
   "metadata": {},
   "source": [
    "- Caudate"
   ]
  },
  {
   "cell_type": "code",
   "execution_count": null,
   "id": "18d48366",
   "metadata": {},
   "outputs": [],
   "source": [
    "fig = plt.figure()\n",
    "ax = fig.gca(projection='3d')\n",
    "pat = np.zeros(3) \n",
    "ctl = np.zeros(3) \n",
    "sw_mean = getattr(mod,'sw_mean{}'.format(3))\n",
    "for j in range(0,99+1):\n",
    "    coord = sw_mean[j,:]\n",
    "    if j <= 49:\n",
    "        col = 'red'\n",
    "        pat = pat + coord\n",
    "    else: \n",
    "        col = 'blue'\n",
    "        ctl = ctl + coord\n",
    "    ax.scatter(coord[0],coord[1],coord[2],c=col,alpha=0.1)\n",
    "pat_mean = pat/50\n",
    "ctl_mean = ctl/50\n",
    "ax.scatter(pat_mean[0],pat_mean[1],pat_mean[2],c='red',marker='D')\n",
    "ax.scatter(ctl_mean[0],ctl_mean[1],ctl_mean[2],c='blue',marker='D')\n",
    "\n",
    "\n",
    "ax.axes.xaxis.set_ticklabels(['','',-0.01,'','','',0.01])\n",
    "ax.axes.yaxis.set_ticklabels(['','',-0.005,'','',0.01,'',''])\n",
    "ax.axes.zaxis.set_ticklabels(['',-0.01,'','','',0.01,''])\n",
    "\n",
    "\n",
    "ax = plt.gca()\n",
    "leg = ax.get_legend()\n",
    "\n",
    "# leg.legendHandles[0].set_color('red')\n",
    "# leg.legendHandles[1].set_color('blue')\n",
    "\n",
    "#     plt.legend(loc='best')    \n",
    "# plt.savefig('./fig2/sw_manifold/3d_plot/mean/{}.png'.format(region_name[3-1]))\n",
    "#     plt.close()"
   ]
  },
  {
   "cell_type": "markdown",
   "id": "81f41a24",
   "metadata": {},
   "source": [
    "- Hippocampus"
   ]
  },
  {
   "cell_type": "code",
   "execution_count": null,
   "id": "03246b35",
   "metadata": {
    "ExecuteTime": {
     "end_time": "2022-08-07T18:00:08.278200Z",
     "start_time": "2022-08-07T18:00:06.989495Z"
    }
   },
   "outputs": [],
   "source": [
    "fig = plt.figure()\n",
    "ax = fig.gca(projection='3d')\n",
    "pat = np.zeros(3) \n",
    "ctl = np.zeros(3) \n",
    "sw_mean = getattr(mod,'sw_mean{}'.format(4))\n",
    "for j in range(0,99+1):\n",
    "    coord = sw_mean[j,:]\n",
    "    if j <= 49:\n",
    "        col = 'red'\n",
    "        pat = pat + coord\n",
    "    else: \n",
    "        col = 'blue'\n",
    "        ctl = ctl + coord\n",
    "    ax.scatter(coord[0],coord[1],coord[2],c=col,alpha=0.1)\n",
    "pat_mean = pat/50\n",
    "ctl_mean = ctl/50\n",
    "ax.scatter(pat_mean[0],pat_mean[1],pat_mean[2],c='red',marker='D')\n",
    "ax.scatter(ctl_mean[0],ctl_mean[1],ctl_mean[2],c='blue',marker='D')\n",
    "\n",
    "\n",
    "ax.axes.xaxis.set_ticklabels(['',-0.01,'',0.01])\n",
    "ax.axes.yaxis.set_ticklabels(['',-0.01,'','','',0.01,'',''])\n",
    "ax.axes.zaxis.set_ticklabels(['',-0.01,'','','',0.01,''])\n",
    "\n",
    "\n",
    "ax = plt.gca()\n",
    "leg = ax.get_legend()\n",
    "\n",
    "\n",
    "\n",
    "# plt.savefig('./fig2/sw_manifold/3d_plot/mean/{}.png'.format(region_name[4-1]))\n",
    "#     plt.close()"
   ]
  },
  {
   "cell_type": "markdown",
   "id": "efe36a75",
   "metadata": {},
   "source": [
    "- Pallidum"
   ]
  },
  {
   "cell_type": "code",
   "execution_count": null,
   "id": "1ff46189",
   "metadata": {},
   "outputs": [],
   "source": [
    "fig = plt.figure()\n",
    "ax = fig.gca(projection='3d')\n",
    "pat = np.zeros(3) \n",
    "ctl = np.zeros(3) \n",
    "sw_mean = getattr(mod,'sw_mean{}'.format(5))\n",
    "for j in range(0,99+1):\n",
    "    coord = sw_mean[j,:]\n",
    "    if j <= 49:\n",
    "        col = 'red'\n",
    "        pat = pat + coord\n",
    "    else: \n",
    "        col = 'blue'\n",
    "        ctl = ctl + coord\n",
    "    ax.scatter(coord[0],coord[1],coord[2],c=col,alpha=0.1)\n",
    "pat_mean = pat/50\n",
    "ctl_mean = ctl/50\n",
    "ax.scatter(pat_mean[0],pat_mean[1],pat_mean[2],c='red',marker='D')\n",
    "ax.scatter(ctl_mean[0],ctl_mean[1],ctl_mean[2],c='blue',marker='D')\n",
    "\n",
    "\n",
    "ax.axes.xaxis.set_ticklabels(['','',-0.03,'','','',0.01,''])\n",
    "ax.axes.yaxis.set_ticklabels(['','',-0.01,'','','',0.01,'',''])\n",
    "ax.axes.zaxis.set_ticklabels(['',-0.03,'','','',0.01,''])\n",
    "\n",
    "\n",
    "ax = plt.gca()\n",
    "leg = ax.get_legend()\n",
    "\n",
    "# leg.legendHandles[0].set_color('red')\n",
    "# leg.legendHandles[1].set_color('blue')\n",
    "\n",
    "#     plt.legend(loc='best')    \n",
    "# plt.savefig('./fig2/sw_manifold/3d_plot/mean/{}.png'.format(region_name[5-1]))\n",
    "#     plt.close()"
   ]
  },
  {
   "cell_type": "markdown",
   "id": "4b66b9c0",
   "metadata": {},
   "source": [
    "- Putamen"
   ]
  },
  {
   "cell_type": "code",
   "execution_count": null,
   "id": "ea894cf6",
   "metadata": {
    "ExecuteTime": {
     "end_time": "2022-08-07T18:00:15.687219Z",
     "start_time": "2022-08-07T18:00:14.448999Z"
    }
   },
   "outputs": [],
   "source": [
    "fig = plt.figure()\n",
    "ax = fig.gca(projection='3d')\n",
    "pat = np.zeros(3) \n",
    "ctl = np.zeros(3) \n",
    "sw_mean = getattr(mod,'sw_mean{}'.format(6))\n",
    "for j in range(0,99+1):\n",
    "    coord = sw_mean[j,:]\n",
    "    if j <= 49:\n",
    "        col = 'red'\n",
    "        pat = pat + coord\n",
    "    else: \n",
    "        col = 'blue'\n",
    "        ctl = ctl + coord\n",
    "    ax.scatter(coord[0],coord[1],coord[2],c=col,alpha=0.1)\n",
    "pat_mean = pat/50\n",
    "ctl_mean = ctl/50\n",
    "ax.scatter(pat_mean[0],pat_mean[1],pat_mean[2],c='red',marker='D')\n",
    "ax.scatter(ctl_mean[0],ctl_mean[1],ctl_mean[2],c='blue',marker='D')\n",
    "\n",
    "\n",
    "ax.axes.xaxis.set_ticklabels(['','',-0.01,'','','',0.01])\n",
    "ax.axes.yaxis.set_ticklabels(['','',-0.005,'','',0.01])\n",
    "ax.axes.zaxis.set_ticklabels(['','',-0.015,'','','','',0.01])\n",
    "\n",
    "\n",
    "ax = plt.gca()\n",
    "leg = ax.get_legend()\n",
    "\n",
    "\n",
    "\n",
    "# plt.savefig('./fig2/sw_manifold/3d_plot/mean/{}.png'.format(region_name[6-1]))\n",
    "#     plt.close()"
   ]
  },
  {
   "cell_type": "markdown",
   "id": "c3cb7c05",
   "metadata": {},
   "source": [
    "- Thalamus"
   ]
  },
  {
   "cell_type": "code",
   "execution_count": null,
   "id": "477aefe3",
   "metadata": {},
   "outputs": [],
   "source": [
    "fig = plt.figure()\n",
    "ax = fig.gca(projection='3d')\n",
    "pat = np.zeros(3) \n",
    "ctl = np.zeros(3) \n",
    "sw_mean = getattr(mod,'sw_mean{}'.format(7))\n",
    "for j in range(0,99+1):\n",
    "    coord = sw_mean[j,:]\n",
    "    if j <= 49:\n",
    "        col = 'red'\n",
    "        pat = pat + coord\n",
    "    else: \n",
    "        col = 'blue'\n",
    "        ctl = ctl + coord\n",
    "    ax.scatter(coord[0],coord[1],coord[2],c=col,alpha=0.1)\n",
    "pat_mean = pat/50\n",
    "ctl_mean = ctl/50\n",
    "ax.scatter(pat_mean[0],pat_mean[1],pat_mean[2],c='red',marker='D')\n",
    "ax.scatter(ctl_mean[0],ctl_mean[1],ctl_mean[2],c='blue',marker='D')\n",
    "\n",
    "\n",
    "ax.axes.xaxis.set_ticklabels(['',-0.02,'','',0.01])\n",
    "ax.axes.yaxis.set_ticklabels(['',-0.01,'','','',0.01])\n",
    "ax.axes.zaxis.set_ticklabels(['',-0.01,'','','',0.01])\n",
    "\n",
    "\n",
    "ax = plt.gca()\n",
    "leg = ax.get_legend()\n",
    "\n",
    "# leg.legendHandles[0].set_color('red')\n",
    "# leg.legendHandles[1].set_color('blue')\n",
    "\n",
    "#     plt.legend(loc='best')    \n",
    "# plt.savefig('./fig2/sw_manifold/3d_plot/mean/{}.png'.format(region_name[7-1]))\n",
    "#     plt.close()"
   ]
  },
  {
   "cell_type": "markdown",
   "id": "08d196e5",
   "metadata": {},
   "source": [
    "- Cerebellum"
   ]
  },
  {
   "cell_type": "code",
   "execution_count": null,
   "id": "953fb8e1",
   "metadata": {
    "ExecuteTime": {
     "end_time": "2022-08-07T18:00:21.839869Z",
     "start_time": "2022-08-07T18:00:20.637411Z"
    }
   },
   "outputs": [],
   "source": [
    "fig = plt.figure()\n",
    "ax = fig.gca(projection='3d')\n",
    "pat = np.zeros(3) \n",
    "ctl = np.zeros(3) \n",
    "sw_mean = getattr(mod,'sw_mean{}'.format(8))\n",
    "for j in range(0,99+1):\n",
    "    coord = sw_mean[j,:]\n",
    "    if j <= 49:\n",
    "        col = 'red'\n",
    "        pat = pat + coord\n",
    "    else: \n",
    "        col = 'blue'\n",
    "        ctl = ctl + coord\n",
    "    ax.scatter(coord[0],coord[1],coord[2],c=col,alpha=0.1)\n",
    "pat_mean = pat/50\n",
    "ctl_mean = ctl/50\n",
    "ax.scatter(pat_mean[0],pat_mean[1],pat_mean[2],c='red',marker='D')\n",
    "ax.scatter(ctl_mean[0],ctl_mean[1],ctl_mean[2],c='blue',marker='D')\n",
    "\n",
    "\n",
    "ax.axes.xaxis.set_ticklabels(['',-0.04,'','','','',0.01])\n",
    "ax.axes.yaxis.set_ticklabels(['',-0.015,'','','','',0.01])\n",
    "ax.axes.zaxis.set_ticklabels(['',-0.03,'','','',0.01])\n",
    "\n",
    "\n",
    "ax = plt.gca()\n",
    "leg = ax.get_legend()\n",
    "\n",
    "\n",
    "\n",
    "# plt.savefig('./fig2/sw_manifold/3d_plot/mean/{}.png'.format(region_name[8-1]))\n",
    "#     plt.close()"
   ]
  },
  {
   "cell_type": "markdown",
   "id": "748e935f",
   "metadata": {},
   "source": [
    "- Brainstem"
   ]
  },
  {
   "cell_type": "code",
   "execution_count": null,
   "id": "aaeebdb3",
   "metadata": {
    "ExecuteTime": {
     "end_time": "2022-08-07T18:00:27.245619Z",
     "start_time": "2022-08-07T18:00:25.959057Z"
    }
   },
   "outputs": [],
   "source": [
    "fig = plt.figure()\n",
    "ax = fig.gca(projection='3d')\n",
    "pat = np.zeros(3) \n",
    "ctl = np.zeros(3) \n",
    "sw_mean = getattr(mod,'sw_mean{}'.format(9))\n",
    "for j in range(0,99+1):\n",
    "    coord = sw_mean[j,:]\n",
    "    if j <= 49:\n",
    "        col = 'red'\n",
    "        pat = pat + coord\n",
    "    else: \n",
    "        col = 'blue'\n",
    "        ctl = ctl + coord\n",
    "    ax.scatter(coord[0],coord[1],coord[2],c=col,alpha=0.1)\n",
    "pat_mean = pat/50\n",
    "ctl_mean = ctl/50\n",
    "ax.scatter(pat_mean[0],pat_mean[1],pat_mean[2],c='red',marker='D')\n",
    "ax.scatter(ctl_mean[0],ctl_mean[1],ctl_mean[2],c='blue',marker='D')\n",
    "\n",
    "\n",
    "ax.axes.xaxis.set_ticklabels(['',-0.01,'','',0.02])\n",
    "ax.axes.yaxis.set_ticklabels(['','',-0.01,'','','','',0.015])\n",
    "ax.axes.zaxis.set_ticklabels(['',-0.015,'','','','',0.01])\n",
    "\n",
    "\n",
    "ax = plt.gca()\n",
    "leg = ax.get_legend()\n",
    "\n",
    "\n",
    "\n",
    "# plt.savefig('./fig2/sw_manifold/3d_plot/mean/{}.png'.format(region_name[9-1]))\n",
    "#     plt.close()"
   ]
  },
  {
   "cell_type": "markdown",
   "id": "2a76e401",
   "metadata": {},
   "source": [
    "## visualization"
   ]
  },
  {
   "cell_type": "markdown",
   "id": "6b6b77c0",
   "metadata": {},
   "source": [
    "### we will plot between-group differenes of subcortical-weighted manifolds onto brain surface using ENIGMA toolbox"
   ]
  },
  {
   "cell_type": "code",
   "execution_count": null,
   "id": "6c7cf577",
   "metadata": {
    "ExecuteTime": {
     "end_time": "2022-08-07T18:04:29.038469Z",
     "start_time": "2022-08-07T18:04:28.884083Z"
    }
   },
   "outputs": [],
   "source": [
    "import enigmatoolbox\n",
    "from enigmatoolbox.utils.parcellation import parcel_to_surface\n",
    "from enigmatoolbox.plotting import plot_cortical\n",
    "from enigmatoolbox.plotting.surface_plotting import plot_subcortical"
   ]
  },
  {
   "cell_type": "markdown",
   "id": "931892ce",
   "metadata": {},
   "source": [
    "we will load between-group differences of sw-manifolds again"
   ]
  },
  {
   "cell_type": "code",
   "execution_count": null,
   "id": "84722e97",
   "metadata": {
    "ExecuteTime": {
     "end_time": "2022-08-07T18:04:43.333406Z",
     "start_time": "2022-08-07T18:04:43.298464Z"
    }
   },
   "outputs": [],
   "source": [
    "for i in range(0,8+1):\n",
    "    sw_mean = np.zeros((100,3))\n",
    "    for j in range(1,100+1):\n",
    "        sw_manifold = getattr(mod,'sw_manifold{}'.format(j))\n",
    "        row = sw_manifold[:,i,:]\n",
    "        rm = row.mean(axis=1)\n",
    "        sw_mean[j-1,:] = rm\n",
    "    globals()['sw_mean{}'.format(str(i+1))] = sw_mean"
   ]
  },
  {
   "cell_type": "code",
   "execution_count": null,
   "id": "a458f0c8",
   "metadata": {
    "ExecuteTime": {
     "end_time": "2022-08-07T18:04:44.702544Z",
     "start_time": "2022-08-07T18:04:44.621815Z"
    }
   },
   "outputs": [],
   "source": [
    "T_val = []\n",
    "P_val = []\n",
    "P_cor = []\n",
    "for i in range(1,9+1):\n",
    "    sw_mean = getattr(mod,'sw_mean{}'.format(i))\n",
    "    Z = np.dstack([sw_mean[0,:],sw_mean[1,:]])\n",
    "    for j in range(2,99+1):\n",
    "        Z = np.dstack([Z,sw_mean[j,:]])\n",
    "    Z = Z[0,:,:].T\n",
    "    globals()['Z{}'.format(i)] = Z\n",
    "    \n",
    "    # t-values\n",
    "    contrast = grp_dum[:,0] - grp_dum[:,1]\n",
    "    slm = SLM(model,contrast,correction='fdr')\n",
    "    slm.fit(Z)\n",
    "    t = slm.t\n",
    "    \n",
    "    # cdf of t-values\n",
    "    rv = sp.stats.t(df=slm.df)\n",
    "    cdf = rv.cdf(slm.t)\n",
    "    \n",
    "    # p-values of t-values\n",
    "    p = 1-cdf\n",
    "    \n",
    "    # corrected p-values\n",
    "    pval = stats.t.sf(np.abs(slm.t),slm.df)*2\n",
    "    pcor = multitest.fdrcorrection(pval.ravel())[1]\n",
    "    \n",
    "    T_val.append(t)\n",
    "    P_val.append(p)\n",
    "    P_cor.append(pcor)\n",
    "    \n",
    "    sig_idx = np.where(pcor<0.055)\n",
    "    sig_t = np.zeros((200,1))\n",
    "    sig_t[sig_idx] = t.T[sig_idx]\n",
    "    globals()['sig_t{}'.format(i)] = sig_t"
   ]
  },
  {
   "cell_type": "code",
   "execution_count": null,
   "id": "050eed8f",
   "metadata": {
    "ExecuteTime": {
     "end_time": "2022-08-07T18:04:49.496888Z",
     "start_time": "2022-08-07T18:04:49.487912Z"
    },
    "scrolled": true
   },
   "outputs": [],
   "source": [
    "i=0\n",
    "print('\\033[1m# t_value')\n",
    "for t in zip(T_val):\n",
    "    print('\\033[0m{}:'.format(region_name[i]),t[0][0][0].round(2))\n",
    "    i = i+1"
   ]
  },
  {
   "cell_type": "code",
   "execution_count": null,
   "id": "cf53624c",
   "metadata": {
    "ExecuteTime": {
     "end_time": "2022-08-07T18:04:52.887004Z",
     "start_time": "2022-08-07T18:04:52.878064Z"
    }
   },
   "outputs": [],
   "source": [
    "tval=[]\n",
    "for t in zip(T_val):\n",
    "    tval.append(t[0][0][0].round(2))"
   ]
  },
  {
   "cell_type": "markdown",
   "id": "27a287b9",
   "metadata": {},
   "source": [
    "sctx region 1~9 pval"
   ]
  },
  {
   "cell_type": "code",
   "execution_count": null,
   "id": "e7a5d582",
   "metadata": {
    "ExecuteTime": {
     "end_time": "2022-08-07T18:04:56.664177Z",
     "start_time": "2022-08-07T18:04:56.652219Z"
    }
   },
   "outputs": [],
   "source": [
    "i=0\n",
    "print('\\033[1m# p_value')\n",
    "for p in zip(P_val):\n",
    "    print('\\033[0m{}:'.format(region_name[i]),p[0][0][0].round(2))\n",
    "    i = i+1"
   ]
  },
  {
   "cell_type": "markdown",
   "id": "f04a0c4c",
   "metadata": {},
   "source": [
    "sctx region 1~9 pcor"
   ]
  },
  {
   "cell_type": "code",
   "execution_count": null,
   "id": "a5dc8137",
   "metadata": {
    "ExecuteTime": {
     "end_time": "2022-08-07T18:05:03.535059Z",
     "start_time": "2022-08-07T18:05:03.519077Z"
    }
   },
   "outputs": [],
   "source": [
    "i=0\n",
    "print('\\033[1m# corrected p_value')\n",
    "for p in P_cor:\n",
    "    print('\\033[0m{}:'.format(region_name[i]),p[0].round(2))\n",
    "    i = i+1"
   ]
  },
  {
   "cell_type": "code",
   "execution_count": null,
   "id": "ae4ed084",
   "metadata": {
    "ExecuteTime": {
     "end_time": "2022-08-07T18:05:07.077739Z",
     "start_time": "2022-08-07T18:05:07.072784Z"
    }
   },
   "outputs": [],
   "source": [
    "pcor=[]\n",
    "for p in P_cor:\n",
    "    pcor.append(p[0].round(2))"
   ]
  },
  {
   "cell_type": "code",
   "execution_count": null,
   "id": "80c06ad6",
   "metadata": {
    "ExecuteTime": {
     "end_time": "2022-08-07T18:05:07.629807Z",
     "start_time": "2022-08-07T18:05:07.616879Z"
    }
   },
   "outputs": [],
   "source": [
    "dat = pd.DataFrame([tval,pcor])"
   ]
  },
  {
   "cell_type": "code",
   "execution_count": null,
   "id": "9b8ef032",
   "metadata": {
    "ExecuteTime": {
     "end_time": "2022-08-07T18:05:08.195601Z",
     "start_time": "2022-08-07T18:05:08.176651Z"
    }
   },
   "outputs": [],
   "source": [
    "dat.columns = region_name"
   ]
  },
  {
   "cell_type": "code",
   "execution_count": null,
   "id": "8897f530",
   "metadata": {
    "ExecuteTime": {
     "end_time": "2022-08-07T18:05:08.762301Z",
     "start_time": "2022-08-07T18:05:08.748356Z"
    }
   },
   "outputs": [],
   "source": [
    "dat.index = ['t-value','p-value']"
   ]
  },
  {
   "cell_type": "markdown",
   "id": "21cb79c6",
   "metadata": {},
   "source": [
    "we make t-values into array type to plot them into brain surface"
   ]
  },
  {
   "cell_type": "code",
   "execution_count": null,
   "id": "310fba91",
   "metadata": {
    "ExecuteTime": {
     "end_time": "2022-08-07T18:06:15.876583Z",
     "start_time": "2022-08-07T18:06:15.856616Z"
    }
   },
   "outputs": [],
   "source": [
    "sw_mean_dc = np.array([x[0][0][0].round(2) for x in zip(T_val[:7])])"
   ]
  },
  {
   "cell_type": "code",
   "execution_count": null,
   "id": "8854c60b",
   "metadata": {
    "ExecuteTime": {
     "end_time": "2022-08-07T18:06:16.580050Z",
     "start_time": "2022-08-07T18:06:16.564075Z"
    }
   },
   "outputs": [],
   "source": [
    "sw_mean_dc2 = np.concatenate([sw_mean_dc,sw_mean_dc])"
   ]
  },
  {
   "cell_type": "code",
   "execution_count": null,
   "id": "564836c8",
   "metadata": {},
   "outputs": [],
   "source": [
    "plot_subcortical(array_name=sw_mean_dc2, ventricles=False, size=(800, 400),\n",
    "                 cmap='Reds', color_bar=False, color_range=(0,3))"
   ]
  },
  {
   "cell_type": "markdown",
   "id": "532d1bc1",
   "metadata": {},
   "source": [
    "plot only significant regions onto brain surface"
   ]
  },
  {
   "cell_type": "code",
   "execution_count": null,
   "id": "d0accd0a",
   "metadata": {
    "ExecuteTime": {
     "end_time": "2022-08-07T18:06:32.760796Z",
     "start_time": "2022-08-07T18:06:32.750801Z"
    }
   },
   "outputs": [],
   "source": [
    "sw_mean_dc = np.array([x[0][0][0].round(2) for x in zip(T_val[:7])])"
   ]
  },
  {
   "cell_type": "code",
   "execution_count": null,
   "id": "76df7d48",
   "metadata": {
    "ExecuteTime": {
     "end_time": "2022-08-07T18:06:33.215945Z",
     "start_time": "2022-08-07T18:06:33.207966Z"
    }
   },
   "outputs": [],
   "source": [
    "sw_mean_dc[0]=0"
   ]
  },
  {
   "cell_type": "code",
   "execution_count": null,
   "id": "a9401729",
   "metadata": {
    "ExecuteTime": {
     "end_time": "2022-08-07T18:06:33.652745Z",
     "start_time": "2022-08-07T18:06:33.639783Z"
    }
   },
   "outputs": [],
   "source": [
    "sw_mean_dc[3:] = 0"
   ]
  },
  {
   "cell_type": "code",
   "execution_count": null,
   "id": "30ef962d",
   "metadata": {
    "ExecuteTime": {
     "end_time": "2022-08-07T18:06:35.244810Z",
     "start_time": "2022-08-07T18:06:35.230848Z"
    }
   },
   "outputs": [],
   "source": [
    "sw_mean_dc"
   ]
  },
  {
   "cell_type": "code",
   "execution_count": null,
   "id": "f26b10e2",
   "metadata": {
    "ExecuteTime": {
     "end_time": "2022-08-07T18:06:35.890911Z",
     "start_time": "2022-08-07T18:06:35.872962Z"
    }
   },
   "outputs": [],
   "source": [
    "sw_mean_dc2 = np.concatenate([sw_mean_dc,sw_mean_dc])"
   ]
  },
  {
   "cell_type": "code",
   "execution_count": null,
   "id": "7b3090af",
   "metadata": {
    "ExecuteTime": {
     "end_time": "2022-08-07T18:06:36.422943Z",
     "start_time": "2022-08-07T18:06:36.401945Z"
    }
   },
   "outputs": [],
   "source": [
    "sw_mean_dc2"
   ]
  },
  {
   "cell_type": "code",
   "execution_count": null,
   "id": "b353994a",
   "metadata": {
    "ExecuteTime": {
     "end_time": "2022-08-07T18:06:50.377407Z",
     "start_time": "2022-08-07T18:06:47.943582Z"
    }
   },
   "outputs": [],
   "source": [
    "# color map을 ctx와 맞춰줌\n",
    "plot_subcortical(array_name=sw_mean_dc2, ventricles=False, size=(800, 400),\n",
    "                 cmap='Reds', color_bar=False)"
   ]
  },
  {
   "cell_type": "markdown",
   "id": "bb97e054",
   "metadata": {},
   "source": [
    "### radar chart\n",
    "- if the value is significant, we indicate it with * marker"
   ]
  },
  {
   "cell_type": "code",
   "execution_count": null,
   "id": "f7d538da",
   "metadata": {
    "ExecuteTime": {
     "end_time": "2022-08-07T18:07:19.762616Z",
     "start_time": "2022-08-07T18:07:19.746662Z"
    }
   },
   "outputs": [],
   "source": [
    "from math import pi\n",
    "from matplotlib.path import Path\n",
    "from matplotlib.spines import Spine\n",
    "from matplotlib.transforms import Affine2D"
   ]
  },
  {
   "cell_type": "code",
   "execution_count": null,
   "id": "bdd4abf6",
   "metadata": {
    "ExecuteTime": {
     "end_time": "2022-08-07T18:07:20.390624Z",
     "start_time": "2022-08-07T18:07:20.380650Z"
    }
   },
   "outputs": [],
   "source": [
    "spider = pd.DataFrame([x[0][0][0].round(2) for x in zip(T_val)]).T"
   ]
  },
  {
   "cell_type": "code",
   "execution_count": null,
   "id": "bdab2cc4",
   "metadata": {
    "ExecuteTime": {
     "end_time": "2022-08-07T18:07:21.066466Z",
     "start_time": "2022-08-07T18:07:21.056492Z"
    }
   },
   "outputs": [],
   "source": [
    "spider.columns = region_name"
   ]
  },
  {
   "cell_type": "code",
   "execution_count": null,
   "id": "7601e3db",
   "metadata": {
    "ExecuteTime": {
     "end_time": "2022-08-07T18:07:22.071555Z",
     "start_time": "2022-08-07T18:07:22.058568Z"
    }
   },
   "outputs": [],
   "source": [
    "spider = spider.iloc[:,0:7]"
   ]
  },
  {
   "cell_type": "code",
   "execution_count": null,
   "id": "3284dd77",
   "metadata": {
    "ExecuteTime": {
     "end_time": "2022-08-07T18:07:23.528940Z",
     "start_time": "2022-08-07T18:07:23.518969Z"
    }
   },
   "outputs": [],
   "source": [
    "y = spider.values[0]\n",
    "y = numpy.concatenate((y,y[0]),axis=None)"
   ]
  },
  {
   "cell_type": "code",
   "execution_count": null,
   "id": "597d3e0b",
   "metadata": {
    "ExecuteTime": {
     "end_time": "2022-08-07T18:07:23.825900Z",
     "start_time": "2022-08-07T18:07:23.819921Z"
    }
   },
   "outputs": [],
   "source": [
    "y_sig = np.array((y[1]))"
   ]
  },
  {
   "cell_type": "code",
   "execution_count": null,
   "id": "ce7f4961",
   "metadata": {
    "ExecuteTime": {
     "end_time": "2022-08-07T18:07:26.905211Z",
     "start_time": "2022-08-07T18:07:26.545897Z"
    },
    "scrolled": true
   },
   "outputs": [],
   "source": [
    "labels = spider.columns\n",
    "num_labels = len(labels)\n",
    "labels = ['','','','','','','']    \n",
    "    \n",
    "angles = [x/float(num_labels)*(2*pi) for x in range(num_labels)] ## 각 등분점\n",
    "angles += angles[:1] ## 시작점으로 다시 돌아와야하므로 시작점 추가\n",
    "angles_sig = np.array((angles[1]))\n",
    "    \n",
    "\n",
    "fig = plt.figure(figsize=(5,5))\n",
    "# fig.set_facecolor('white')\n",
    " \n",
    "    \n",
    "ax = plt.subplot(polar=True)\n",
    "ax.set_theta_offset(pi / 2) ## starting point\n",
    "ax.set_theta_direction(-1) ## direction\n",
    "    \n",
    "plt.xticks(angles[:-1], labels, fontsize=13) ## x-ticks label\n",
    "ax.tick_params(axis='x', which='major', pad=15) ## make empty spaces between x-axes and ticks\n",
    " \n",
    "ax.set_rlabel_position(0) ## y-axis degree\n",
    "plt.yticks([-0.5,0,0.5,1,1.5,2,2.5],['-0.5','0','0.5','1','1.5','2','2.5'], fontsize=15) ## y-ticks\n",
    "plt.ylim(-0.5,2.5)\n",
    "\n",
    "ax.plot(angles, y, linewidth=2, linestyle='solid', color='black') ## print spider-plot    \n",
    "ax.plot(angles_sig, y_sig,'go', color='black',marker='*',markersize=20) \n",
    "\n",
    "# fig.savefig('./fig2/sw_manifold/spider_plot.png')\n",
    "plt.show()"
   ]
  },
  {
   "cell_type": "code",
   "execution_count": null,
   "id": "7114cd07",
   "metadata": {},
   "outputs": [],
   "source": []
  },
  {
   "cell_type": "code",
   "execution_count": null,
   "id": "ff3c510c",
   "metadata": {},
   "outputs": [],
   "source": []
  },
  {
   "cell_type": "code",
   "execution_count": null,
   "id": "9049f773",
   "metadata": {},
   "outputs": [],
   "source": []
  },
  {
   "cell_type": "code",
   "execution_count": null,
   "id": "4bc2ca6e",
   "metadata": {},
   "outputs": [],
   "source": []
  },
  {
   "cell_type": "code",
   "execution_count": null,
   "id": "f3ddaf67",
   "metadata": {},
   "outputs": [],
   "source": []
  }
 ],
 "metadata": {
  "kernelspec": {
   "display_name": "Python 3 (ipykernel)",
   "language": "python",
   "name": "python3"
  },
  "language_info": {
   "codemirror_mode": {
    "name": "ipython",
    "version": 3
   },
   "file_extension": ".py",
   "mimetype": "text/x-python",
   "name": "python",
   "nbconvert_exporter": "python",
   "pygments_lexer": "ipython3",
   "version": "3.9.7"
  },
  "toc": {
   "base_numbering": 1,
   "nav_menu": {},
   "number_sections": false,
   "sideBar": true,
   "skip_h1_title": false,
   "title_cell": "Table of Contents",
   "title_sidebar": "Contents",
   "toc_cell": false,
   "toc_position": {
    "height": "calc(100% - 180px)",
    "left": "10px",
    "top": "150px",
    "width": "169.438px"
   },
   "toc_section_display": true,
   "toc_window_display": false
  }
 },
 "nbformat": 4,
 "nbformat_minor": 5
}
